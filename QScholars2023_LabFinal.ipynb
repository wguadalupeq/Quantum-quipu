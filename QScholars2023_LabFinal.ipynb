{
 "cells": [
  {
   "cell_type": "markdown",
   "id": "26a95c84-7fd5-4eac-ad87-d72a990eab2e",
   "metadata": {},
   "source": [
    "<table width=\"100%\"><tr><td style=\"color:#bbbbbb;background-color:#ffffff;font-size:11px;font-style:italic;text-align:right;\"></td></tr></table>\n",
    "$ \\newcommand{\\bra}[1]{\\langle #1|} $\n",
    "$ \\newcommand{\\ket}[1]{|#1\\rangle} $\n",
    "$ \\newcommand{\\braket}[2]{\\langle #1|#2\\rangle} $\n",
    "$ \\newcommand{\\dot}[2]{ #1 \\cdot #2} $\n",
    "$ \\newcommand{\\biginner}[2]{\\left\\langle #1,#2\\right\\rangle} $\n",
    "$ \\newcommand{\\mymatrix}[2]{\\left( \\begin{array}{#1} #2\\end{array} \\right)} $\n",
    "$ \\newcommand{\\myvector}[1]{\\mymatrix{c}{#1}} $\n",
    "$ \\newcommand{\\myrvector}[1]{\\mymatrix{r}{#1}} $\n",
    "$ \\newcommand{\\mypar}[1]{\\left( #1 \\right)} $\n",
    "$ \\newcommand{\\mybigpar}[1]{ \\Big( #1 \\Big)} $\n",
    "$ \\newcommand{\\sqrttwo}{\\frac{1}{\\sqrt{2}}} $\n",
    "$ \\newcommand{\\dsqrttwo}{\\dfrac{1}{\\sqrt{2}}} $\n",
    "$ \\newcommand{\\onehalf}{\\frac{1}{2}} $\n",
    "$ \\newcommand{\\donehalf}{\\dfrac{1}{2}} $\n",
    "$ \\newcommand{\\hadamard}{ \\mymatrix{rr}{ \\sqrttwo & \\sqrttwo \\\\ \\sqrttwo & -\\sqrttwo }} $\n",
    "$ \\newcommand{\\vzero}{\\myvector{1\\\\0}} $\n",
    "$ \\newcommand{\\vone}{\\myvector{0\\\\1}} $\n",
    "$ \\newcommand{\\stateplus}{\\myvector{ \\sqrttwo \\\\  \\sqrttwo } } $\n",
    "$ \\newcommand{\\stateminus}{ \\myrvector{ \\sqrttwo \\\\ -\\sqrttwo } } $\n",
    "$ \\newcommand{\\myarray}[2]{ \\begin{array}{#1}#2\\end{array}} $\n",
    "$ \\newcommand{\\X}{ \\mymatrix{cc}{0 & 1 \\\\ 1 & 0}  } $\n",
    "$ \\newcommand{\\Z}{ \\mymatrix{rr}{1 & 0 \\\\ 0 & -1}  } $\n",
    "$ \\newcommand{\\Htwo}{ \\mymatrix{rrrr}{ \\frac{1}{2} & \\frac{1}{2} & \\frac{1}{2} & \\frac{1}{2} \\\\ \\frac{1}{2} & -\\frac{1}{2} & \\frac{1}{2} & -\\frac{1}{2} \\\\ \\frac{1}{2} & \\frac{1}{2} & -\\frac{1}{2} & -\\frac{1}{2} \\\\ \\frac{1}{2} & -\\frac{1}{2} & -\\frac{1}{2} & \\frac{1}{2} } } $\n",
    "$ \\newcommand{\\CNOT}{ \\mymatrix{cccc}{1 & 0 & 0 & 0 \\\\ 0 & 1 & 0 & 0 \\\\ 0 & 0 & 0 & 1 \\\\ 0 & 0 & 1 & 0} } $\n",
    "$ \\newcommand{\\norm}[1]{ \\left\\lVert #1 \\right\\rVert } $\n",
    "$ \\newcommand{\\pstate}[1]{ \\lceil \\mspace{-1mu} #1 \\mspace{-1.5mu} \\rfloor } $\n",
    "\n",
    "<center>\n",
    "<img src=\"https://media.discordapp.net/attachments/1126231743641428109/1138188172694650941/image.png?width=960&height=473\">"
   ]
  },
  {
   "cell_type": "markdown",
   "id": "482aa5db-992f-42db-8466-c3c5f4060ef7",
   "metadata": {},
   "source": [
    "    \n",
    "## <center> QUANTUM SCHOLARS 2023\n",
    "\n",
    "\n",
    "Autores: [Ricardo Quispe M.](https://github.com/RcrdPhysics).\\, Tony Milla y Gustavo Valdivia\n",
    "Institución: QuantumQuipu, Universidad Nacional Mayor de San Marcos\\\n",
    "Correo: ricardo.quispe5@unmsm.edu.pe, tony.milla@unmsm.edu.pe, gvaldiviamera@uh.edu\n",
    "    \n",
    "Este material está sujeto a los términos y condiciones de la licencia [Creative Commons CC BY-NC-SA 4.0](https://creativecommons.org/licenses/by-nc-sa/4.0/). Se permite el uso gratuito para cualquier propósito no comercial.\n",
    "\n",
    "*También puede consultar la última versión de este notebook en nuestro [repositorio](https://github.com/QuantumQuipu/QuantumScholars2023) y los videos de clase [en nuestro canal de Youtube](https://www.youtube.com/@quantumquipu-unmsm1091/streams).*\n",
    "    "
   ]
  },
  {
   "cell_type": "markdown",
   "id": "2398c92e-3b37-472d-9c60-fb98204efa25",
   "metadata": {},
   "source": [
    "Indicaciones:\n",
    "\n",
    "1.- Este notebook deberá ser enviado a través del siguiente formulario: https://forms.gle/LRtmmhvZZ85Cuq5t9\n",
    "\n",
    "2.- Fecha de entrega miércoles 16 de Agosto a las 18Hrs GMT-5\n",
    "\n",
    "3.- Deberá adjuntar toda su solución en un solo notebook. (Ya sea cálculos a mano en formato imagen, o visualizaciones externas)\n",
    "\n",
    "4.- Los problemas extra pueden reemplazar a cualquier problema dentro de la misma clase.\n",
    "\n"
   ]
  },
  {
   "cell_type": "markdown",
   "id": "9822b8c8",
   "metadata": {},
   "source": [
    "## Alumno: William Frank Guadalupe Quispe"
   ]
  },
  {
   "cell_type": "markdown",
   "id": "074ab683",
   "metadata": {},
   "source": [
    "### Correo: wguadalupeq@uni.pe"
   ]
  },
  {
   "cell_type": "markdown",
   "id": "a62492b4-4d9b-428f-9bec-8d5ad52004c3",
   "metadata": {},
   "source": [
    "## Clase 1-2:"
   ]
  },
  {
   "cell_type": "markdown",
   "id": "15e88251",
   "metadata": {},
   "source": [
    "#### 1.- ¿Cuál es el vector de estado de un sistema compuesto por 3 qubits , estando los qubits individuales(e independientes) en los estados  $|+\\rangle $ , $|+\\rangle $,$| -\\rangle $,? Luego hacer las mediciones parciales para el qubit central, repetir lo mismo con qiskit."
   ]
  },
  {
   "cell_type": "markdown",
   "id": "03e9b69d",
   "metadata": {},
   "source": [
    "Solución"
   ]
  },
  {
   "cell_type": "markdown",
   "id": "83a26965",
   "metadata": {},
   "source": [
    "Sabemos que:"
   ]
  },
  {
   "cell_type": "markdown",
   "id": "1ef7fda0",
   "metadata": {},
   "source": [
    "$$|+\\rangle=\\frac{1}{\\sqrt{2}}|0\\rangle + \\frac{1}{\\sqrt{2}}|1\\rangle$$"
   ]
  },
  {
   "cell_type": "markdown",
   "id": "5e9cf69f",
   "metadata": {},
   "source": [
    "$$|-\\rangle=\\frac{1}{\\sqrt{2}}|0\\rangle - \\frac{1}{\\sqrt{2}}|1\\rangle$$"
   ]
  },
  {
   "cell_type": "markdown",
   "id": "f3accb1a",
   "metadata": {},
   "source": [
    "Método 1"
   ]
  },
  {
   "cell_type": "markdown",
   "id": "b1b73fec",
   "metadata": {},
   "source": [
    "El vector de estado será: $$|\\psi\\rangle=(\\frac{1}{\\sqrt{2}}|0\\rangle + \\frac{1}{\\sqrt{2}}|1\\rangle)  \\otimes (\\frac{1}{\\sqrt{2}}|0\\rangle + \\frac{1}{\\sqrt{2}}|1\\rangle)  \\otimes (\\frac{1}{\\sqrt{2}}|0\\rangle - \\frac{1}{\\sqrt{2}}|1\\rangle)$$"
   ]
  },
  {
   "cell_type": "markdown",
   "id": "f2b0023e",
   "metadata": {},
   "source": [
    "$$|\\psi\\rangle=(\\frac{1}{2}|00\\rangle + \\frac{1}{2}|10\\rangle + \\frac{1}{2}|01\\rangle + \\frac{1}{2}|11\\rangle)  \\otimes (\\frac{1}{\\sqrt{2}}|0\\rangle - \\frac{1}{\\sqrt{2}}|1\\rangle)$$"
   ]
  },
  {
   "cell_type": "markdown",
   "id": "431178a7",
   "metadata": {},
   "source": [
    "$$|\\psi\\rangle=\\frac{1}{2\\sqrt{2}}|000\\rangle + \\frac{1}{2\\sqrt{2}}|100\\rangle + \\frac{1}{2\\sqrt{2}}|010\\rangle + \\frac{1}{2\\sqrt{2}}|110\\rangle - \\frac{1}{2\\sqrt{2}}|001\\rangle - \\frac{1}{2\\sqrt{2}}|101\\rangle - \\frac{1}{2\\sqrt{2}}|011\\rangle - \\frac{1}{2\\sqrt{2}}|111\\rangle $$"
   ]
  },
  {
   "cell_type": "markdown",
   "id": "674b67d1",
   "metadata": {},
   "source": [
    "$$|\\psi\\rangle=\\frac{\\sqrt{2}}{4}|000\\rangle - \\frac{\\sqrt{2}}{4}|001\\rangle + \\frac{\\sqrt{2}}{4}|010\\rangle - \\frac{\\sqrt{2}}{4}|011\\rangle + \\frac{\\sqrt{2}}{4}|100\\rangle - \\frac{\\sqrt{2}}{4}|101\\rangle + \\frac{\\sqrt{2}}{4}|110\\rangle - \\frac{\\sqrt{2}}{4}|111\\rangle $$"
   ]
  },
  {
   "cell_type": "markdown",
   "id": "88fc2df4",
   "metadata": {},
   "source": [
    "Método 2"
   ]
  },
  {
   "cell_type": "code",
   "execution_count": 1,
   "id": "e8b0d314",
   "metadata": {},
   "outputs": [],
   "source": [
    "from qiskit.visualization import array_to_latex\n",
    "from qiskit.quantum_info import Statevector \n",
    "import numpy as np"
   ]
  },
  {
   "cell_type": "code",
   "execution_count": 2,
   "id": "5f1f9e97",
   "metadata": {},
   "outputs": [],
   "source": [
    "from qiskit.quantum_info.operators import Operator"
   ]
  },
  {
   "cell_type": "code",
   "execution_count": 6,
   "id": "bc24c62f",
   "metadata": {},
   "outputs": [
    {
     "name": "stdout",
     "output_type": "stream",
     "text": [
      "El vector de estado es: \n"
     ]
    },
    {
     "data": {
      "text/latex": [
       "$$\\frac{\\sqrt{2}}{4} |000\\rangle- \\frac{\\sqrt{2}}{4} |001\\rangle+\\frac{\\sqrt{2}}{4} |010\\rangle- \\frac{\\sqrt{2}}{4} |011\\rangle+\\frac{\\sqrt{2}}{4} |100\\rangle- \\frac{\\sqrt{2}}{4} |101\\rangle+\\frac{\\sqrt{2}}{4} |110\\rangle- \\frac{\\sqrt{2}}{4} |111\\rangle$$"
      ],
      "text/plain": [
       "<IPython.core.display.Latex object>"
      ]
     },
     "execution_count": 6,
     "metadata": {},
     "output_type": "execute_result"
    }
   ],
   "source": [
    "op_ket_1 = Operator([[1/np.sqrt(2)], [1/np.sqrt(2)]])\n",
    "op_ket_2 = Operator([[1/np.sqrt(2)], [1/np.sqrt(2)]])\n",
    "op_ket_3 = Operator([[1/np.sqrt(2)], [-1/np.sqrt(2)]])\n",
    "ket_system = Statevector((op_ket_1.tensor(op_ket_2)).tensor(op_ket_3))\n",
    "print(\"El vector de estado es: \")\n",
    "Statevector((op_ket_1.tensor(op_ket_2)).tensor(op_ket_3)).draw('Latex')"
   ]
  },
  {
   "cell_type": "markdown",
   "id": "8d578035",
   "metadata": {},
   "source": [
    "Método 3"
   ]
  },
  {
   "cell_type": "code",
   "execution_count": 9,
   "id": "abea7b7f",
   "metadata": {},
   "outputs": [
    {
     "data": {
      "text/latex": [
       "$$\\frac{\\sqrt{2}}{4} |000\\rangle- \\frac{\\sqrt{2}}{4} |001\\rangle+\\frac{\\sqrt{2}}{4} |010\\rangle- \\frac{\\sqrt{2}}{4} |011\\rangle+\\frac{\\sqrt{2}}{4} |100\\rangle- \\frac{\\sqrt{2}}{4} |101\\rangle+\\frac{\\sqrt{2}}{4} |110\\rangle- \\frac{\\sqrt{2}}{4} |111\\rangle$$"
      ],
      "text/plain": [
       "<IPython.core.display.Latex object>"
      ]
     },
     "execution_count": 9,
     "metadata": {},
     "output_type": "execute_result"
    }
   ],
   "source": [
    "ket_plus_por_plus_por_minus = Statevector.from_label('++-')\n",
    "ket_plus_por_plus_por_minus.draw('Latex')"
   ]
  },
  {
   "cell_type": "markdown",
   "id": "e1c2e7b1",
   "metadata": {},
   "source": [
    "Verificando si es normalizado"
   ]
  },
  {
   "cell_type": "code",
   "execution_count": 8,
   "id": "6d3c5726",
   "metadata": {},
   "outputs": [
    {
     "data": {
      "text/plain": [
       "True"
      ]
     },
     "execution_count": 8,
     "metadata": {},
     "output_type": "execute_result"
    }
   ],
   "source": [
    "ket_system.is_valid()"
   ]
  },
  {
   "cell_type": "markdown",
   "id": "cef141a4",
   "metadata": {},
   "source": [
    "Para realizar las mediciones al qubit central, agruparemos los terminos que tienen en comun el qubit central en estado 0 y 1"
   ]
  },
  {
   "cell_type": "markdown",
   "id": "d6348610",
   "metadata": {},
   "source": [
    "$$|\\psi\\rangle=\\frac{\\sqrt{2}}{4}|000\\rangle - \\frac{\\sqrt{2}}{4}|001\\rangle + \\frac{\\sqrt{2}}{4}|010\\rangle - \\frac{\\sqrt{2}}{4}|011\\rangle + \\frac{\\sqrt{2}}{4}|100\\rangle - \\frac{\\sqrt{2}}{4}|101\\rangle + \\frac{\\sqrt{2}}{4}|110\\rangle -\\frac{\\sqrt{2}}{4}|111\\rangle$$"
   ]
  },
  {
   "cell_type": "markdown",
   "id": "63e888dd",
   "metadata": {},
   "source": [
    "$$|\\psi\\rangle=\\left( \\frac{\\sqrt{2}}{4}|0\\mathbf{0}0\\rangle - \\frac{\\sqrt{2}}{4}|0\\mathbf{0}1\\rangle + \\frac{\\sqrt{2}}{4}|1\\mathbf{0}0\\rangle - \\frac{\\sqrt{2}}{4}|1\\mathbf{0}1\\rangle \\right) + \\left(\\frac{\\sqrt{2}}{4}|0\\mathbf{1}0\\rangle - \\frac{\\sqrt{2}}{4}|0\\mathbf{1}1\\rangle + \\frac{\\sqrt{2}}{4}|1\\mathbf{1}0\\rangle -\\frac{\\sqrt{2}}{4}|1\\mathbf{1}1\\rangle \\right)$$"
   ]
  },
  {
   "cell_type": "markdown",
   "id": "c7295657",
   "metadata": {},
   "source": [
    "Calculo de las probabilidades parciales"
   ]
  },
  {
   "cell_type": "markdown",
   "id": "38614a89",
   "metadata": {},
   "source": [
    "$$P_{0} = | \\frac{\\sqrt{2}}{4}|^{2} + | -\\frac{\\sqrt{2}}{4} |^{2} + | \\frac{\\sqrt{2}}{4} |^{2} +| -\\frac{\\sqrt{2}}{4} |^{2} = \\frac{2}{4} = 0.5$$"
   ]
  },
  {
   "cell_type": "markdown",
   "id": "d9c9bdb5",
   "metadata": {},
   "source": [
    "$$P_{1} = | \\frac{\\sqrt{2}}{4}|^{2} + | -\\frac{\\sqrt{2}}{4} |^{2} + | \\frac{\\sqrt{2}}{4} |^{2} +| -\\frac{\\sqrt{2}}{4} |^{2} = \\frac{2}{4} = 0.5$$"
   ]
  },
  {
   "cell_type": "markdown",
   "id": "0fd8edf0",
   "metadata": {},
   "source": [
    "Probabilidades parciales para qubit central por Qiskit"
   ]
  },
  {
   "cell_type": "code",
   "execution_count": 11,
   "id": "289a015e",
   "metadata": {},
   "outputs": [
    {
     "name": "stdout",
     "output_type": "stream",
     "text": [
      "probs: {'0': 0.4999999999999998, '1': 0.4999999999999998}\n"
     ]
    }
   ],
   "source": [
    "probs_ket_system = ket_system.probabilities_dict([1])\n",
    "print('probs: {}'.format(probs_ket_system))"
   ]
  },
  {
   "cell_type": "markdown",
   "id": "138e858b-69b2-4ba2-ac77-cf1410830d45",
   "metadata": {},
   "source": [
    "#### 2.- ¿Cuántos qubits independientes tiene como mínimo el siguiente sistema?\n",
    "\n",
    "<center>\n",
    "<img src=\"https://raw.githubusercontent.com/tonymilla/QuantumScholars2023/main/imagenes/examen/q_spherequestion.png\">"
   ]
  },
  {
   "cell_type": "markdown",
   "id": "fe0a4c28",
   "metadata": {},
   "source": [
    "Solución:"
   ]
  },
  {
   "cell_type": "markdown",
   "id": "fa35fa59",
   "metadata": {},
   "source": [
    "Este sistema no tiene qubits independientes, ya que en la figura se representa un sistema por estados entrelazados.\n",
    "\n",
    "Algunas notas:\n",
    "\n",
    "\n",
    "-El número de anillos en la q-sphere es N-1, donde N es el número de qubits.\n",
    "N-1=3 , N=4\n",
    "\n",
    "-El radio de la bola de color azul al centro es proporcional a la magnitud de la amplitud del estado base.\n",
    "\n",
    "-El color de la bola representa el ángulo de fase.\n",
    "\n",
    "-Los estados básicos se distribuyen por igual en los puntos de la Q-esfera, 0 ^ n en el extremo norte,\n",
    "1 ^ n en el extremo sur, todos los demás estados están dispuestos en el anillo de forma paralelo\n",
    "en orden decreciente en el número de 1.\n",
    "\n",
    "Es decir por ejemplo el 0001 ocupa el anillo superior, seguido de -0011 en el segundo anillo y 1101 en el tercero,\n",
    "finalmente -1111 en el extremo sur.\n",
    "\n",
    "Referencia:\n",
    "\n",
    "https://medium.com/@shashankashashank/multi-qubit-state-representation-using-q-sphere-a97ed06ab347\n",
    "\n",
    "https://egrettathula.wordpress.com/2021/07/10/quantum-state-visualization-using-qsphere/\n",
    "\n",
    "https://deeplearninguniversity.com/qiskit/initializing-qubits-in-entangled-state/"
   ]
  },
  {
   "cell_type": "markdown",
   "id": "8001d274",
   "metadata": {},
   "source": [
    "#### 3.- ¿Cómo se escribiría en notación de Dirac una compuerta CU3 desarrollalo e implementalo en qiskit para $\\theta = \\pi$, $\\phi = \\frac{\\pi}{2}$ y $\\lambda = \\frac{7\\pi}{2}$ "
   ]
  },
  {
   "cell_type": "markdown",
   "id": "437e718f",
   "metadata": {},
   "source": [
    "Solución:"
   ]
  },
  {
   "cell_type": "markdown",
   "id": "1517a926",
   "metadata": {},
   "source": [
    "Sabemos que la compuerta U3 se puede expresar como sigue:"
   ]
  },
  {
   "cell_type": "markdown",
   "id": "32e5a6d8",
   "metadata": {},
   "source": [
    "$$ U3(\\theta, \\phi, \\lambda) =  \\begin{pmatrix} \\cos(\\frac{\\theta}{2})  & - e^{i\\lambda}\\sin(\\frac{\\theta}{2})\\\\\n",
    " e^{i\\phi}\\sin(\\frac{\\theta}{2})  &  e^{i(\\phi + \\lambda)}\\cos(\\frac{\\theta}{2})\n",
    "\\end{pmatrix}$$"
   ]
  },
  {
   "cell_type": "markdown",
   "id": "fab6badb",
   "metadata": {},
   "source": [
    "De forma análoga a la definición de CNOT"
   ]
  },
  {
   "cell_type": "markdown",
   "id": "8ad00c36",
   "metadata": {},
   "source": [
    "$$CNOT = |  0 \\rangle \\langle 0 | \\otimes I + | 1\\rangle \\langle  1| \\otimes X $$"
   ]
  },
  {
   "cell_type": "markdown",
   "id": "fcacac78",
   "metadata": {},
   "source": [
    "Podemos definir una compuerta controla U3"
   ]
  },
  {
   "cell_type": "markdown",
   "id": "1591e054",
   "metadata": {},
   "source": [
    "Notación de Dirac"
   ]
  },
  {
   "cell_type": "markdown",
   "id": "7720c4d4",
   "metadata": {},
   "source": [
    "$$CU3(\\theta, \\phi, \\lambda) = |  0 \\rangle \\langle 0 | \\otimes I + | 1\\rangle \\langle  1| \\otimes U3(\\theta, \\phi, \\lambda) $$"
   ]
  },
  {
   "cell_type": "markdown",
   "id": "72e22bbd",
   "metadata": {},
   "source": [
    "Desarrollaremos esta expresión a su forma matricial"
   ]
  },
  {
   "cell_type": "markdown",
   "id": "5881ff12",
   "metadata": {},
   "source": [
    "Sabemos que \n"
   ]
  },
  {
   "cell_type": "markdown",
   "id": "42e5b2f1",
   "metadata": {},
   "source": [
    "$$|0\\rangle \\langle0|=\\begin{pmatrix} 1  & 0\\\\\n",
    " 0  &  0\n",
    "\\end{pmatrix}$$"
   ]
  },
  {
   "cell_type": "markdown",
   "id": "c90bcbc7",
   "metadata": {},
   "source": [
    "$$|1\\rangle \\langle 1|=\\begin{pmatrix} 0  & 0\\\\\n",
    " 0  &  1\n",
    "\\end{pmatrix}$$"
   ]
  },
  {
   "cell_type": "markdown",
   "id": "7822a78d",
   "metadata": {},
   "source": [
    "$$I=\\begin{pmatrix} 1  & 0\\\\\n",
    " 0  &  1\n",
    "\\end{pmatrix}$$"
   ]
  },
  {
   "cell_type": "markdown",
   "id": "6170882a",
   "metadata": {},
   "source": [
    "Reemplazando en la expresión de Dirac"
   ]
  },
  {
   "cell_type": "markdown",
   "id": "f885b2d0",
   "metadata": {},
   "source": [
    "$$CU3(\\theta, \\phi, \\lambda) = \\begin{pmatrix} 1  & 0\\\\\n",
    " 0  &  0\n",
    "\\end{pmatrix} \\otimes \\begin{pmatrix} 1  & 0\\\\\n",
    " 0  &  1\n",
    "\\end{pmatrix} + \\begin{pmatrix} 0  & 0\\\\\n",
    " 0  &  1\n",
    "\\end{pmatrix} \\otimes \\begin{pmatrix} \\cos(\\frac{\\theta}{2})  & - e^{i\\lambda}\\sin(\\frac{\\theta}{2})\\\\\n",
    " e^{i\\phi}\\sin(\\frac{\\theta}{2})  &  e^{i(\\phi + \\lambda)}\\cos(\\frac{\\theta}{2})\n",
    "\\end{pmatrix} $$"
   ]
  },
  {
   "cell_type": "markdown",
   "id": "7ea82891",
   "metadata": {},
   "source": [
    "$$CU3(\\theta, \\phi, \\lambda) = \\begin{pmatrix} 1 & 0 & 0 & 0\\\\\n",
    "0 & 1 & 0 & 0 \\\\\n",
    "0 & 0 & 0 & 0 \\\\\n",
    "0 & 0 & 0 & 0 \n",
    "\\end{pmatrix} + \\begin{pmatrix} 0 & 0 & 0 & 0\\\\\n",
    "0 & 0 & 0 & 0 \\\\\n",
    "0 & 0 & \\cos(\\frac{\\theta}{2}) & - e^{i\\lambda}\\sin(\\frac{\\theta}{2}) \\\\\n",
    "0 & 0 & e^{i\\phi}\\sin(\\frac{\\theta}{2}) & e^{i(\\phi + \\lambda)}\\cos(\\frac{\\theta}{2}) \n",
    "\\end{pmatrix}$$"
   ]
  },
  {
   "cell_type": "markdown",
   "id": "2114b7cd",
   "metadata": {},
   "source": [
    "$$CU3(\\theta, \\phi, \\lambda) = \\begin{pmatrix} 1 & 0 & 0 & 0\\\\\n",
    "0 & 1 & 0 & 0 \\\\\n",
    "0 & 0 & \\cos(\\frac{\\theta}{2}) & - e^{i\\lambda}\\sin(\\frac{\\theta}{2}) \\\\\n",
    "0 & 0 & e^{i\\phi}\\sin(\\frac{\\theta}{2}) & e^{i(\\phi + \\lambda)}\\cos(\\frac{\\theta}{2}) \n",
    "\\end{pmatrix}$$"
   ]
  },
  {
   "cell_type": "markdown",
   "id": "cc5fbd60",
   "metadata": {},
   "source": [
    "Para $\\theta = \\pi$, $\\phi = \\frac{\\pi}{2}$ y $\\lambda = \\frac{7\\pi}{2}$ "
   ]
  },
  {
   "cell_type": "markdown",
   "id": "f26ac6df",
   "metadata": {},
   "source": [
    "$$CU3_{(\\pi, \\frac{\\pi}{2}, \\frac{7\\pi}{2})} = \\begin{pmatrix} 1 & 0 & 0 & 0\\\\\n",
    "0 & 1 & 0 & 0 \\\\\n",
    "0 & 0 & \\cos(\\frac{\\pi}{2}) & - e^{i\\frac{7\\pi}{2}}\\sin(\\frac{\\pi}{2}) \\\\\n",
    "0 & 0 & e^{i\\frac{\\pi}{2}}\\sin(\\frac{\\pi}{2}) & e^{i(\\frac{\\pi}{2} + \\frac{7\\pi}{2})}\\cos(\\frac{\\pi}{2}) \n",
    "\\end{pmatrix}$$"
   ]
  },
  {
   "cell_type": "markdown",
   "id": "d8dd9ea5",
   "metadata": {},
   "source": [
    "Evaluemos los términos trigonométricos y exponenciales:\n",
    "\n",
    "$$\\cos\\left(\\frac{\\pi}{2}\\right) = 0$$\n"
   ]
  },
  {
   "cell_type": "markdown",
   "id": "3c6e2625",
   "metadata": {},
   "source": [
    "$$e^{i\\frac{7\\pi}{2}} = -i$$\n"
   ]
  },
  {
   "cell_type": "markdown",
   "id": "a15cf030",
   "metadata": {},
   "source": [
    "$$e^{i\\frac{\\pi}{2}} = i$$\n"
   ]
  },
  {
   "cell_type": "markdown",
   "id": "d668b86b",
   "metadata": {},
   "source": [
    "$$CU3_{(\\pi, \\frac{\\pi}{2}, \\frac{7\\pi}{2})} = \\begin{pmatrix} 1 & 0 & 0 & 0\\\\\n",
    "0 & 1 & 0 & 0 \\\\\n",
    "0 & 0 & 0 & i \\\\\n",
    "0 & 0 & i & 0 \n",
    "\\end{pmatrix}$$"
   ]
  },
  {
   "cell_type": "markdown",
   "id": "882d4fce",
   "metadata": {},
   "source": [
    "# Implementación en Qiskit"
   ]
  },
  {
   "cell_type": "code",
   "execution_count": 35,
   "id": "b3d901af",
   "metadata": {},
   "outputs": [],
   "source": [
    "from qiskit import QuantumCircuit\n",
    "from qiskit.extensions import CU3Gate\n",
    "from qiskit import QuantumCircuit, transpile, assemble"
   ]
  },
  {
   "cell_type": "code",
   "execution_count": 28,
   "id": "e5d8f33c",
   "metadata": {},
   "outputs": [],
   "source": [
    "import numpy as np\n",
    "from qiskit.visualization import plot_bloch_multivector\n",
    "from qiskit.quantum_info import random_statevector, Statevector"
   ]
  },
  {
   "cell_type": "code",
   "execution_count": 29,
   "id": "9bc19499",
   "metadata": {},
   "outputs": [
    {
     "data": {
      "image/png": "[encoded data removed]",
      "text/plain": [
       "<Figure size 580.387x284.278 with 1 Axes>"
      ]
     },
     "execution_count": 29,
     "metadata": {},
     "output_type": "execute_result"
    }
   ],
   "source": [
    "#Utilizamos la compuerta CU3 de la libreria qiskit\n",
    "from qiskit import QuantumCircuit, QuantumRegister, Aer, execute\n",
    "from qiskit.circuit.library.standard_gates import CU3Gate\n",
    "import numpy as np\n",
    "\n",
    "# Definir los registros cuánticos y el circuito\n",
    "qr = QuantumRegister(2, \"q\")\n",
    "#cr = ClassicalRegister(2, \"c\")\n",
    "#circuit = QuantumCircuit(qr,cr)\n",
    "circuit = QuantumCircuit(qr)\n",
    "\n",
    "# Parámetros para la compuerta CU3\n",
    "theta = np.pi\n",
    "phi = np.pi / 2\n",
    "lam = 7 * np.pi / 2\n",
    "\n",
    "# Agregar la compuerta CU3 al circuito\n",
    "circuit.append(CU3Gate(theta, phi, lam), [qr[0], qr[1]])\n",
    "\n",
    "# Mediciones\n",
    "circuit.measure_all()\n",
    "\n",
    "# Dibujar el circuito utilizando Matplotlib\n",
    "circuit.draw(output='mpl')\n",
    "#circuit.draw()"
   ]
  },
  {
   "cell_type": "code",
   "execution_count": 36,
   "id": "d483c742",
   "metadata": {},
   "outputs": [
    {
     "name": "stderr",
     "output_type": "stream",
     "text": [
      "/tmp/ipykernel_8208/3919922505.py:4: DeprecationWarning: Using a qobj for run() is deprecated as of qiskit-aer 0.9.0 and will be removed no sooner than 3 months from that release date. Transpiled circuits should now be passed directly using `backend.run(circuits, **run_options).\n",
      "  job = simulator.run(assemble(compiled_circuit))\n"
     ]
    },
    {
     "data": {
      "image/png": "[encoded data removed]",
      "text/plain": [
       "<Figure size 700x500 with 1 Axes>"
      ]
     },
     "execution_count": 36,
     "metadata": {},
     "output_type": "execute_result"
    }
   ],
   "source": [
    "# Simular el circuito\n",
    "simulator = Aer.get_backend('aer_simulator')\n",
    "compiled_circuit = transpile(circuit, simulator)\n",
    "job = simulator.run(assemble(compiled_circuit))\n",
    "\n",
    "# Obtener los resultados de la simulación\n",
    "result = job.result()\n",
    "counts = result.get_counts()\n",
    "\n",
    "# Graficar el histograma de resultados\n",
    "plot_histogram(counts)\n"
   ]
  },
  {
   "cell_type": "code",
   "execution_count": 37,
   "id": "ea4f2de9",
   "metadata": {},
   "outputs": [],
   "source": [
    "#Utilizando funciones para definir la compuerta CU3\n",
    "# from qiskit import QuantumCircuit, QuantumRegister, ClassicalRegister, Aer, execute\n",
    "# from qiskit.quantum_info.operators import Operator\n",
    "# from qiskit.circuit.library.standard_gates import CU3Gate\n",
    "#import numpy as np\n",
    "\n",
    "# Definir la matriz de la compuerta CU3\n",
    "# def CU3_MATRIX(theta, phi, lam):\n",
    "#     return np.array([\n",
    "#         [1, 0, 0, 0],\n",
    "#         [0, 1, 0, 0],\n",
    "#         [0, 0, np.cos(phi), -np.exp(1j * lam) * np.sin(phi)],\n",
    "#         [0, 0, np.exp(1j * theta) * np.sin(phi), np.exp(1j * (phi + lam)) * np.cos(phi)]\n",
    "#     ])\n",
    "\n",
    "#  Compuerta controlada personalizada utilizando la matriz CU3\n",
    "# def controlled_CU3(circuit, control_qubit, target_qubit, theta, phi, lam):\n",
    "#     cu3_matrix = CU3_MATRIX(theta, phi, lam) #Operador unitario de la matrix\n",
    "#     cu3_gate = Operator(cu3_matrix)\n",
    "    \n",
    "#     # Construir la compuerta controlada manualmente\n",
    "#     controlled_matrix = np.eye(4)\n",
    "#     controlled_matrix[:4, :4] = cu3_matrix\n",
    "#     controlled_gate = Operator(controlled_matrix)\n",
    "    \n",
    "#     circuit.unitary(controlled_gate, [control_qubit, target_qubit])\n",
    "\n",
    "#------------------------------------------------------------------------------\n",
    "# Crear circuito cuántico\n",
    "# qr = QuantumRegister(2, 'q')\n",
    "# cr = ClassicalRegister(2, 'c')\n",
    "\n",
    "# circuit = QuantumCircuit(qr, cr)\n",
    "\n",
    "# # Parámetros de la compuerta CU3\n",
    "# theta = np.pi\n",
    "# phi = np.pi / 2\n",
    "# lam = 7 * np.pi / 2    \n",
    "    \n",
    "# Aplicar la compuerta controlada personalizada al circuito\n",
    "#controlled_CU3(circuit, qr[0], qr[1], theta, phi, lam)\n",
    "\n",
    "#Esto no Va\n",
    "# Compuerta CU3\n",
    "#circuit.append(CU3Gate(theta, phi, lam), [qr[0], qr[1]])\n",
    "\n",
    "# Medir los qubits y almacenar los resultados en los registros clásicos\n",
    "#circuit.measure(qr, cr)\n",
    "\n",
    "# Dibujar el circuito utilizando Matplotlib\n",
    "#circuit.draw(output='mpl')\n",
    "\n",
    "# Simular el circuito en el backend qasm_simulator\n",
    "#backend = Aer.get_backend('qasm_simulator')\n",
    "#job = execute(circuit, backend, shots=1024)\n",
    "#result = job.result()\n",
    "\n",
    "# Obtener los conteos de los resultados\n",
    "#counts = result.get_counts()\n",
    "#print(\"Resultados:\", counts)"
   ]
  },
  {
   "cell_type": "code",
   "execution_count": 38,
   "id": "e033dd31",
   "metadata": {},
   "outputs": [],
   "source": [
    "#!pip install pylatexenc"
   ]
  },
  {
   "cell_type": "markdown",
   "id": "87b31e67",
   "metadata": {},
   "source": [
    "## Clase 4-5"
   ]
  },
  {
   "cell_type": "markdown",
   "id": "c73e7932",
   "metadata": {},
   "source": [
    "#### 4.- A partir de la relación existente entre la operación (módulo 2) y el operador XOR ($\\oplus$). \n",
    "\n",
    "Mostrar:\n",
    "\n",
    "\\begin{align}\n",
    "\\sum_{i=1}^n x_iz_i \\pmod 2=x_1z_1\\oplus x_2z_2\\oplus\\cdots\\oplus x_nz_n\n",
    "\\end{align}\n"
   ]
  },
  {
   "cell_type": "markdown",
   "id": "709c5adc",
   "metadata": {},
   "source": [
    "Solución:"
   ]
  },
  {
   "cell_type": "markdown",
   "id": "333371fa",
   "metadata": {},
   "source": [
    "De la tabla siguiente"
   ]
  },
  {
   "cell_type": "markdown",
   "id": "192de78f",
   "metadata": {},
   "source": [
    "| a   | b   | a + b |\n",
    "| --- | --- | ----- |\n",
    "| 0   | 0   | 0     |\n",
    "| 0   | 1   | 1     |\n",
    "| 1   | 0   | 1     |\n",
    "| 1   | 1   | 0     |\n"
   ]
  },
  {
   "cell_type": "markdown",
   "id": "0ccbadfe",
   "metadata": {},
   "source": [
    "Podemos ver la relación del operador XOR con la operacion de módulo2 aplicado a la suma de binarios\n",
    "$$XOR(a,b)=(a+b) mod 2$$\n",
    "$$a \\oplus b=(a+b) mod 2$$"
   ]
  },
  {
   "cell_type": "markdown",
   "id": "6563201e",
   "metadata": {},
   "source": [
    "Probaremos de ida (-->)"
   ]
  },
  {
   "cell_type": "markdown",
   "id": "2eabae3f",
   "metadata": {},
   "source": [
    "Desarrollando la expresión\n",
    "$$\n",
    "\\begin{align}\n",
    "\\sum_{i=1}^n x_iz_i (mod 2)\n",
    "\\end{align}\n",
    "$$"
   ]
  },
  {
   "cell_type": "markdown",
   "id": "92871e8a",
   "metadata": {},
   "source": [
    "$$\n",
    "\\begin{aligned}\n",
    "\\sum_{i=1}^n x_iz_i (mod 2) & = (x_1z_1 + x_2z_2 + x_3z_3 + x_4z_4  + \\cdots + x_{n-3}z_{n-3}  + x_{n-2}z_{n-2}  + x_{n-1}z_{n-1} + x_nz_n )(mod 2)\n",
    "\\\\\n",
    "\\sum_{i=1}^n x_iz_i (mod 2) & = x_1z_1 mod2 +x_2z_2 mod2 + x_3z_3 mod2 +x_4z_4 mod2 + \\cdots + x_{n-3}z_{n-3} mod2 + x_{n-2}z_{n-2} mod2 + x_{n-1}z_{n-1} mod2 + x_nz_n mod2\n",
    "\\\\\n",
    "& = ((x_1z_1 mod2 +x_2z_2 mod2) + (x_3z_3 mod2 +x_4z_4 mod2))mod2 \\oplus\\cdots\\oplus((x_{n-3}z_{n-3} mod2 + x_{n-2}z_{n-2} mod2)+(x_{n-1}z_{n-1} mod2 + x_nz_n mod2))mod2\n",
    "\\\\\n",
    "& = (x_1z_1 mod2 +x_2z_2 mod2) \\oplus (x_3z_3 mod2 +x_4z_4 mod2) \\oplus\\cdots\\oplus ((x_{n-1}z_{n-1} mod2 + x_nz_n mod2)\n",
    "\\\\\n",
    "& = ((x_1z_1+x_2z_2)mod 2) \\oplus ((x_3z_3+x_4z_4)mod2) \\oplus\\cdots\\oplus ((x_{n-1}z_{n-1}+x_nz_n)mod2)\n",
    "\\\\\n",
    "\\sum_{i=1}^n x_iz_i (mod 2) & = x_1z_1\\oplus x_2z_2\\oplus\\cdots\\oplus x_nz_n\n",
    "\\end{aligned}\n",
    "$$\n"
   ]
  },
  {
   "cell_type": "markdown",
   "id": "ebd66b3d",
   "metadata": {},
   "source": [
    "Probando de retorno (<--)"
   ]
  },
  {
   "cell_type": "markdown",
   "id": "6e322871",
   "metadata": {},
   "source": [
    "Desarrollando la expresión\n",
    "$$\n",
    "\\begin{align}\n",
    "x_1z_1\\oplus x_2z_2\\oplus\\cdots\\oplus x_nz_n\n",
    "\\end{align}\n",
    "$$"
   ]
  },
  {
   "cell_type": "markdown",
   "id": "bced8161",
   "metadata": {},
   "source": [
    "$$\n",
    "\\begin{aligned}\n",
    "x_1z_1\\oplus x_2z_2\\oplus\\cdots\\oplus x_nz_n & = ((x_1z_1+x_2z_2)mod 2) \\oplus ((x_3z_3+x_4z_4)mod2) \\oplus\\cdots\\oplus ((x_{n-1}z_{n-1}+x_nz_n)mod2)\n",
    "\\\\\n",
    "x_1z_1\\oplus x_2z_2\\oplus\\cdots\\oplus x_nz_n & = (x_1z_1 mod2 +x_2z_2 mod2) \\oplus (x_3z_3 mod2 +x_4z_4 mod2) \\oplus\\cdots\\oplus ((x_{n-1}z_{n-1} mod2 + x_nz_n mod2)\n",
    "\\\\\n",
    "& = ((x_1z_1 mod2 +x_2z_2 mod2) + (x_3z_3 mod2 +x_4z_4 mod2))mod2 \\oplus\\cdots\\oplus((x_{n-3}z_{n-3} mod2 + x_{n-2}z_{n-2} mod2)+(x_{n-1}z_{n-1} mod2 + x_nz_n mod2))mod2\n",
    "\\\\\n",
    "& = x_1z_1 mod2 +x_2z_2 mod2 + x_3z_3 mod2 +x_4z_4 mod2 + \\cdots + x_{n-3}z_{n-3} mod2 + x_{n-2}z_{n-2} mod2 + x_{n-1}z_{n-1} mod2 + x_nz_n mod2\n",
    "\\\\\n",
    "& = (x_1z_1 + x_2z_2 + x_3z_3 + x_4z_4  + \\cdots + x_{n-3}z_{n-3}  + x_{n-2}z_{n-2}  + x_{n-1}z_{n-1} + x_nz_n )(mod 2)\n",
    "\\\\\n",
    "x_1z_1\\oplus x_2z_2\\oplus\\cdots\\oplus x_nz_n & = \\sum_{i=1}^n x_iz_i(mod 2)\n",
    "\\end{aligned}\n",
    "$$"
   ]
  },
  {
   "cell_type": "markdown",
   "id": "32dcc40c",
   "metadata": {},
   "source": [
    "Por lo tanto se valida \n",
    "\\begin{align}\n",
    "\\sum_{i=1}^n x_iz_i \\pmod 2=x_1z_1\\oplus x_2z_2\\oplus\\cdots\\oplus x_nz_n\n",
    "\\end{align}"
   ]
  },
  {
   "cell_type": "markdown",
   "id": "f09b74ce",
   "metadata": {},
   "source": [
    "#### 5.- Implementa el código para la función oráculo balanceado con $n=3$, la cual retorna el circuito cuántico qc. Considere que $f(x)$ está dado por:\n",
    "\n",
    "\\begin{align}\n",
    "f(001)&=0\\\\\n",
    "f(000)&=0\\\\\n",
    "f(111)&=0\\\\\n",
    "f(110)&=0\\\\\n",
    "f(011)&=1\\\\\n",
    "f(010)&=1\\\\\n",
    "f(100)&=1\\\\\n",
    "f(101)&=1\\\\\n",
    "\\end{align}"
   ]
  },
  {
   "cell_type": "markdown",
   "id": "092d0f0e",
   "metadata": {},
   "source": [
    "Solución:"
   ]
  },
  {
   "cell_type": "code",
   "execution_count": 16,
   "id": "9b2cad6c",
   "metadata": {},
   "outputs": [],
   "source": [
    "from qiskit import QuantumRegister, ClassicalRegister, QuantumCircuit\n",
    "from qiskit.visualization import plot_histogram\n",
    "from qiskit import execute, Aer\n",
    "import numpy as np"
   ]
  },
  {
   "cell_type": "markdown",
   "id": "3088cc6b",
   "metadata": {},
   "source": [
    "### Oráculo balanceado"
   ]
  },
  {
   "cell_type": "markdown",
   "id": "0745c277",
   "metadata": {},
   "source": [
    "Sea $x\\in\\{0,1\\}^3$"
   ]
  },
  {
   "cell_type": "code",
   "execution_count": 49,
   "id": "fbf368a3",
   "metadata": {},
   "outputs": [],
   "source": [
    "from qiskit import QuantumRegister, ClassicalRegister, QuantumCircuit\n",
    "from qiskit.visualization import plot_histogram\n",
    "from qiskit import execute, Aer\n",
    "import numpy as np"
   ]
  },
  {
   "cell_type": "code",
   "execution_count": 55,
   "id": "654853c8",
   "metadata": {},
   "outputs": [
    {
     "data": {
      "text/html": [
       "<pre style=\"word-wrap: normal;white-space: pre;background: #fff0;line-height: 1.1;font-family: &quot;Courier New&quot;,Courier,monospace\">           ░                           ░       ░ \n",
       "q_0: ──────░───■───────────────────────░───────░─\n",
       "     ┌───┐ ░   │                       ░ ┌───┐ ░ \n",
       "q_1: ┤ X ├─░───┼────■──────────────────░─┤ X ├─░─\n",
       "     └───┘ ░   │    │       ┌───┐      ░ └───┘ ░ \n",
       "q_2: ──────░───┼────┼────■──┤ X ├──■───░───────░─\n",
       "           ░ ┌─┴─┐┌─┴─┐┌─┴─┐└───┘┌─┴─┐ ░       ░ \n",
       "q_3: ──────░─┤ X ├┤ X ├┤ X ├─────┤ X ├─░───────░─\n",
       "           ░ └───┘└───┘└───┘     └───┘ ░       ░ </pre>"
      ],
      "text/plain": [
       "           ░                           ░       ░ \n",
       "q_0: ──────░───■───────────────────────░───────░─\n",
       "     ┌───┐ ░   │                       ░ ┌───┐ ░ \n",
       "q_1: ┤ X ├─░───┼────■──────────────────░─┤ X ├─░─\n",
       "     └───┘ ░   │    │       ┌───┐      ░ └───┘ ░ \n",
       "q_2: ──────░───┼────┼────■──┤ X ├──■───░───────░─\n",
       "           ░ ┌─┴─┐┌─┴─┐┌─┴─┐└───┘┌─┴─┐ ░       ░ \n",
       "q_3: ──────░─┤ X ├┤ X ├┤ X ├─────┤ X ├─░───────░─\n",
       "           ░ └───┘└───┘└───┘     └───┘ ░       ░ "
      ]
     },
     "execution_count": 55,
     "metadata": {},
     "output_type": "execute_result"
    }
   ],
   "source": [
    "oraculo_b1 = QuantumCircuit(4)\n",
    "\n",
    "oraculo_b1.x(1)\n",
    "oraculo_b1.barrier()\n",
    "\n",
    "#oráculo balanceado\n",
    "oraculo_b1.cx(0, 3)  # f(001) = 0\n",
    "oraculo_b1.cx(1, 3)  # f(000) = 0\n",
    "oraculo_b1.cx(2, 3)  # f(111) = 0\n",
    "oraculo_b1.x(2)      # Compuerta X para f(110) = 0\n",
    "oraculo_b1.cx(2, 3)  # f(110) = 0\n",
    "oraculo_b1.barrier()\n",
    "oraculo_b1.x(1)\n",
    "oraculo_b1.barrier()\n",
    "\n",
    "oraculo_b1.draw()"
   ]
  },
  {
   "cell_type": "code",
   "execution_count": 56,
   "id": "a94766e2",
   "metadata": {},
   "outputs": [
    {
     "data": {
      "text/html": [
       "<pre style=\"word-wrap: normal;white-space: pre;background: #fff0;line-height: 1.1;font-family: &quot;Courier New&quot;,Courier,monospace\">                ░ ┌───┐ ░       ░                           ░       ░ ┌───┐ ░ »\n",
       "q_0: ───────────░─┤ H ├─░───────░───■───────────────────────░───────░─┤ H ├─░─»\n",
       "                ░ ├───┤ ░ ┌───┐ ░   │                       ░ ┌───┐ ░ ├───┤ ░ »\n",
       "q_1: ───────────░─┤ H ├─░─┤ X ├─░───┼────■──────────────────░─┤ X ├─░─┤ H ├─░─»\n",
       "                ░ ├───┤ ░ └───┘ ░   │    │       ┌───┐      ░ └───┘ ░ ├───┤ ░ »\n",
       "q_2: ───────────░─┤ H ├─░───────░───┼────┼────■──┤ X ├──■───░───────░─┤ H ├─░─»\n",
       "     ┌───┐┌───┐ ░ └───┘ ░       ░ ┌─┴─┐┌─┴─┐┌─┴─┐└───┘┌─┴─┐ ░       ░ └───┘ ░ »\n",
       "q_3: ┤ X ├┤ H ├─░───────░───────░─┤ X ├┤ X ├┤ X ├─────┤ X ├─░───────░───────░─»\n",
       "     └───┘└───┘ ░       ░       ░ └───┘└───┘└───┘     └───┘ ░       ░       ░ »\n",
       "c: 3/═════════════════════════════════════════════════════════════════════════»\n",
       "                                                                              »\n",
       "«     ┌─┐      \n",
       "«q_0: ┤M├──────\n",
       "«     └╥┘┌─┐   \n",
       "«q_1: ─╫─┤M├───\n",
       "«      ║ └╥┘┌─┐\n",
       "«q_2: ─╫──╫─┤M├\n",
       "«      ║  ║ └╥┘\n",
       "«q_3: ─╫──╫──╫─\n",
       "«      ║  ║  ║ \n",
       "«c: 3/═╩══╩══╩═\n",
       "«      0  1  2 </pre>"
      ],
      "text/plain": [
       "                ░ ┌───┐ ░       ░                           ░       ░ ┌───┐ ░ »\n",
       "q_0: ───────────░─┤ H ├─░───────░───■───────────────────────░───────░─┤ H ├─░─»\n",
       "                ░ ├───┤ ░ ┌───┐ ░   │                       ░ ┌───┐ ░ ├───┤ ░ »\n",
       "q_1: ───────────░─┤ H ├─░─┤ X ├─░───┼────■──────────────────░─┤ X ├─░─┤ H ├─░─»\n",
       "                ░ ├───┤ ░ └───┘ ░   │    │       ┌───┐      ░ └───┘ ░ ├───┤ ░ »\n",
       "q_2: ───────────░─┤ H ├─░───────░───┼────┼────■──┤ X ├──■───░───────░─┤ H ├─░─»\n",
       "     ┌───┐┌───┐ ░ └───┘ ░       ░ ┌─┴─┐┌─┴─┐┌─┴─┐└───┘┌─┴─┐ ░       ░ └───┘ ░ »\n",
       "q_3: ┤ X ├┤ H ├─░───────░───────░─┤ X ├┤ X ├┤ X ├─────┤ X ├─░───────░───────░─»\n",
       "     └───┘└───┘ ░       ░       ░ └───┘└───┘└───┘     └───┘ ░       ░       ░ »\n",
       "c: 3/═════════════════════════════════════════════════════════════════════════»\n",
       "                                                                              »\n",
       "«     ┌─┐      \n",
       "«q_0: ┤M├──────\n",
       "«     └╥┘┌─┐   \n",
       "«q_1: ─╫─┤M├───\n",
       "«      ║ └╥┘┌─┐\n",
       "«q_2: ─╫──╫─┤M├\n",
       "«      ║  ║ └╥┘\n",
       "«q_3: ─╫──╫──╫─\n",
       "«      ║  ║  ║ \n",
       "«c: 3/═╩══╩══╩═\n",
       "«      0  1  2 "
      ]
     },
     "execution_count": 56,
     "metadata": {},
     "output_type": "execute_result"
    }
   ],
   "source": [
    "### Algoritmo de Deutsch-Jozsa\n",
    "qc=QuantumCircuit(4,3) #4 qubits, 3 registros clasicos\n",
    "qc.x(3)\n",
    "qc.h(3)\n",
    "qc.barrier()\n",
    "\n",
    "for x in range(3):\n",
    "    qc.h(x)\n",
    "qc.barrier()\n",
    "\n",
    "qc=qc.compose(oraculo_b1)\n",
    "qc.barrier\n",
    "\n",
    "for x in range(3):\n",
    "    qc.h(x)\n",
    "qc.barrier()\n",
    "\n",
    "qc.measure([0,1,2],[0,1,2])\n",
    "qc.draw()"
   ]
  },
  {
   "cell_type": "markdown",
   "id": "f72d0e16",
   "metadata": {},
   "source": [
    "## Simulación"
   ]
  },
  {
   "cell_type": "code",
   "execution_count": 57,
   "id": "a8933ab7",
   "metadata": {},
   "outputs": [],
   "source": [
    "#!pip install qiskit-aer"
   ]
  },
  {
   "cell_type": "code",
   "execution_count": 63,
   "id": "dfdf9c2c",
   "metadata": {},
   "outputs": [
    {
     "data": {
      "image/png": "[encoded data removed]",
      "text/plain": [
       "<Figure size 700x500 with 1 Axes>"
      ]
     },
     "execution_count": 63,
     "metadata": {},
     "output_type": "execute_result"
    }
   ],
   "source": [
    "aer_sim = Aer.get_backend('aer_simulator')\n",
    "result = aer_sim.run(qc).result()\n",
    "answe = result.get_counts()\n",
    "\n",
    "#Verificación que es balanceado\n",
    "plot_histogram(answe)"
   ]
  },
  {
   "cell_type": "markdown",
   "id": "98a178bd",
   "metadata": {},
   "source": [
    "#### 6.- En la construcción más simple posible de un oráculo balanceado, se utiliza la compuerta $CX$, la cual toma como objetivo el $(n+1)$-ésimo qubit del circuito y como control cada uno de los $n$ primeros qubits. Sin embargo, ¿es realmente necesario aplicar $CX$ a todos los $n$ primeros qubits, o podríamos prescindir de algunos y obtener igualmente un oráculo balanceado?\n"
   ]
  },
  {
   "cell_type": "markdown",
   "id": "29c41b72",
   "metadata": {},
   "source": [
    "Solución:"
   ]
  },
  {
   "cell_type": "markdown",
   "id": "55bfa544",
   "metadata": {},
   "source": [
    "No es necesario aplicar CX a todos, podemos prescindir de algunos qubits, \n",
    "\n",
    "Por ejemplo si aplicamos CNOT solo a los qubits de control con indices pares y no a los impares."
   ]
  },
  {
   "cell_type": "markdown",
   "id": "b8bfe575",
   "metadata": {},
   "source": [
    "Veamo con un ejemplo"
   ]
  },
  {
   "cell_type": "code",
   "execution_count": 2,
   "id": "c580ad8a",
   "metadata": {},
   "outputs": [],
   "source": [
    "from qiskit import QuantumRegister, ClassicalRegister, QuantumCircuit\n",
    "from qiskit.visualization import plot_histogram\n",
    "from qiskit import execute, Aer\n",
    "import numpy as np"
   ]
  },
  {
   "cell_type": "code",
   "execution_count": 28,
   "id": "8f9b1243",
   "metadata": {},
   "outputs": [
    {
     "data": {
      "image/png": "[encoded data removed]",
      "text/plain": [
       "<Figure size 705.552x451.5 with 1 Axes>"
      ]
     },
     "execution_count": 28,
     "metadata": {},
     "output_type": "execute_result"
    }
   ],
   "source": [
    "#Para un sistema con n=4 qubits, crearemos un oraculo, con la particularidad que \n",
    "#no utilizaremos la compuerta CX del qubit 1 -> qubit 4\n",
    "#no utilizaremos la compuerta CX del qubit 3 -> qubit 4\n",
    "\n",
    "oraculo_b = QuantumCircuit(5)\n",
    "\n",
    "oraculo_b.x(1)\n",
    "oraculo_b.barrier()\n",
    "\n",
    "#Usaremos las compuertas CNOT\n",
    "oraculo_b.cx(0,4) # del qubit 0 -> 4\n",
    "oraculo_b.cx(2,4) # del qubit 2 -> 4\n",
    "\n",
    "oraculo_b.barrier()\n",
    "oraculo_b.x(1)\n",
    "oraculo_b.barrier()\n",
    "\n",
    "oraculo_b.draw(output='mpl')"
   ]
  },
  {
   "cell_type": "code",
   "execution_count": 29,
   "id": "f3d28ecd",
   "metadata": {},
   "outputs": [
    {
     "data": {
      "image/png": "[encoded data removed]",
      "text/plain": [
       "<Figure size 1625.27x535.111 with 1 Axes>"
      ]
     },
     "execution_count": 29,
     "metadata": {},
     "output_type": "execute_result"
    }
   ],
   "source": [
    "#Algoritmo de Deutsch-Jozsa\n",
    "qcc=QuantumCircuit(5,4)\n",
    "qcc.x(4)\n",
    "qcc.h(4)\n",
    "qcc.barrier()\n",
    "\n",
    "for x in range(4):\n",
    "    qcc.h(x)\n",
    "qcc.barrier()\n",
    "\n",
    "qcc=qcc.compose(oraculo_b)\n",
    "qcc.barrier\n",
    "\n",
    "for x in range(4):\n",
    "    qcc.h(x)\n",
    "qcc.barrier()\n",
    "\n",
    "qcc.measure([0,1,2,3],[0,1,2,3])\n",
    "qcc.draw(output='mpl')"
   ]
  },
  {
   "cell_type": "markdown",
   "id": "a6b2f6be",
   "metadata": {},
   "source": [
    "## Simulación"
   ]
  },
  {
   "cell_type": "code",
   "execution_count": 8,
   "id": "ddac1500",
   "metadata": {},
   "outputs": [],
   "source": [
    "#!pip install qiskit-aer"
   ]
  },
  {
   "cell_type": "code",
   "execution_count": 45,
   "id": "d2c4c676",
   "metadata": {},
   "outputs": [
    {
     "data": {
      "image/png": "[encoded data removed]",
      "text/plain": [
       "<Figure size 700x500 with 1 Axes>"
      ]
     },
     "execution_count": 45,
     "metadata": {},
     "output_type": "execute_result"
    }
   ],
   "source": [
    "aer_simu = Aer.get_backend('aer_simulator')\n",
    "resultado_balanceado = aer_simu.run(qcc).result()\n",
    "prueba_balanceado = resultado_balanceado.get_counts()\n",
    "\n",
    "#Verificación que es balanceado\n",
    "plot_histogram(prueba_balanceado)"
   ]
  },
  {
   "cell_type": "markdown",
   "id": "89630f1c-3b70-453a-b68d-6f77afb99883",
   "metadata": {},
   "source": [
    "#### 7.- Implemente el algoritmo de Grover para determinar la máxima cantidad de aristas en un grafo de 5 nodos y 6 aristas:\n",
    "\n",
    "\\begin{align}\n",
    "(0,3)\\\\\n",
    "(0,4)\\\\\n",
    "(1,3)\\\\\n",
    "(1,4)\\\\\n",
    "(2,3)\\\\\n",
    "(2,4)\\\\\n",
    "\\end{align}"
   ]
  },
  {
   "cell_type": "markdown",
   "id": "07ae45cb",
   "metadata": {},
   "source": [
    "Solución"
   ]
  },
  {
   "cell_type": "code",
   "execution_count": 7,
   "id": "77993d7a",
   "metadata": {},
   "outputs": [],
   "source": [
    "from qiskit import QuantumRegister, ClassicalRegister, QuantumCircuit\n",
    "from qiskit.circuit.library import XGate,ZGate\n",
    "from qiskit.visualization import plot_histogram\n",
    "from qiskit import execute, Aer"
   ]
  },
  {
   "cell_type": "code",
   "execution_count": 10,
   "id": "70127ce6",
   "metadata": {},
   "outputs": [],
   "source": [
    "def oracle_part(qc,qr):\n",
    "    mcx = XGate().control(3)\n",
    "    \n",
    "    #Los qubits del 0 al 4 son los nodos.\n",
    "    #Los qubits del 5 al 10 nos permiten reconocer si la arista es correcta\n",
    "    #(i.e. si se da entre nodos de distinto color).\n",
    "    qc.cx(qr[0], qr[5])\n",
    "    qc.cx(qr[3], qr[5])\n",
    "    qc.barrier()\n",
    "    qc.cx(qr[0], qr[6])\n",
    "    qc.cx(qr[4], qr[6])\n",
    "    qc.barrier()\n",
    "    qc.cx(qr[1], qr[7])\n",
    "    qc.cx(qr[3], qr[7])\n",
    "    qc.barrier()\n",
    "    qc.cx(qr[1], qr[8])\n",
    "    qc.cx(qr[4], qr[8])\n",
    "    qc.barrier()\n",
    "    qc.cx(qr[2], qr[9])\n",
    "    qc.cx(qr[3], qr[9])\n",
    "    qc.barrier()\n",
    "    qc.cx(qr[2], qr[10])\n",
    "    qc.cx(qr[4], qr[10])\n",
    "    qc.barrier()\n",
    "   \n",
    "    #Los qubits del 11 al 13 nos van a permitir contar la cantidad de aristas correctas\n",
    "    #de tal forma que la suma será expresada en binario con cifras dadas por q_13, q_12 y q_11.\n",
    "    qc.barrier()    \n",
    "    qc.cx(qr[5],qr[11])\n",
    "    qc.barrier()\n",
    "    \n",
    "    qc.ccx(qr[6], qr[11], qr[12])\n",
    "    qc.cx(qr[6],qr[11])\n",
    "    qc.barrier()\n",
    "\n",
    "    qc.ccx(qr[7], qr[11], qr[12])\n",
    "    qc.cx(qr[7],qr[11])\n",
    "    qc.barrier()\n",
    "\n",
    "    qc.append(mcx,[8,11,12,13])\n",
    "    qc.ccx(qr[8], qr[11], qr[12])\n",
    "    qc.cx(qr[8],qr[11])\n",
    "    qc.barrier()\n",
    "\n",
    "    qc.append(mcx,[9,11,12,13])\n",
    "    qc.ccx(qr[9], qr[11], qr[12])\n",
    "    qc.cx(qr[9],qr[11])\n",
    "    qc.barrier()\n",
    "\n",
    "    qc.append(mcx,[10,11,12,13])\n",
    "    qc.ccx(qr[10], qr[11], qr[12])\n",
    "    qc.cx(qr[10],qr[11])\n",
    "    qc.barrier()\n",
    "\n",
    "    qc.x(qr[11])\n",
    "    qc.x(qr[12])\n",
    "    qc.barrier()\n",
    "    \n",
    "    #El qubit 14 indicará cuando se haya encontrado un estado deseado\n",
    "    qc.append(mcx,[11,12,13,14])\n",
    "    return qc"
   ]
  },
  {
   "cell_type": "code",
   "execution_count": 11,
   "id": "8150fac8",
   "metadata": {},
   "outputs": [
    {
     "data": {
      "text/html": [
       "<pre style=\"word-wrap: normal;white-space: pre;background: #fff0;line-height: 1.1;font-family: &quot;Courier New&quot;,Courier,monospace\">                  ░            ░            ░            ░            ░      »\n",
       " q2_0: ──■────────░───■────────░────────────░────────────░────────────░──────»\n",
       "         │        ░   │        ░            ░            ░            ░      »\n",
       " q2_1: ──┼────────░───┼────────░───■────────░───■────────░────────────░──────»\n",
       "         │        ░   │        ░   │        ░   │        ░            ░      »\n",
       " q2_2: ──┼────────░───┼────────░───┼────────░───┼────────░───■────────░───■──»\n",
       "         │        ░   │        ░   │        ░   │        ░   │        ░   │  »\n",
       " q2_3: ──┼────■───░───┼────────░───┼────■───░───┼────────░───┼────■───░───┼──»\n",
       "         │    │   ░   │        ░   │    │   ░   │        ░   │    │   ░   │  »\n",
       " q2_4: ──┼────┼───░───┼────■───░───┼────┼───░───┼────■───░───┼────┼───░───┼──»\n",
       "       ┌─┴─┐┌─┴─┐ ░   │    │   ░   │    │   ░   │    │   ░   │    │   ░   │  »\n",
       " q2_5: ┤ X ├┤ X ├─░───┼────┼───░───┼────┼───░───┼────┼───░───┼────┼───░───┼──»\n",
       "       └───┘└───┘ ░ ┌─┴─┐┌─┴─┐ ░   │    │   ░   │    │   ░   │    │   ░   │  »\n",
       " q2_6: ───────────░─┤ X ├┤ X ├─░───┼────┼───░───┼────┼───░───┼────┼───░───┼──»\n",
       "                  ░ └───┘└───┘ ░ ┌─┴─┐┌─┴─┐ ░   │    │   ░   │    │   ░   │  »\n",
       " q2_7: ───────────░────────────░─┤ X ├┤ X ├─░───┼────┼───░───┼────┼───░───┼──»\n",
       "                  ░            ░ └───┘└───┘ ░ ┌─┴─┐┌─┴─┐ ░   │    │   ░   │  »\n",
       " q2_8: ───────────░────────────░────────────░─┤ X ├┤ X ├─░───┼────┼───░───┼──»\n",
       "                  ░            ░            ░ └───┘└───┘ ░ ┌─┴─┐┌─┴─┐ ░   │  »\n",
       " q2_9: ───────────░────────────░────────────░────────────░─┤ X ├┤ X ├─░───┼──»\n",
       "                  ░            ░            ░            ░ └───┘└───┘ ░ ┌─┴─┐»\n",
       "q2_10: ───────────░────────────░────────────░────────────░────────────░─┤ X ├»\n",
       "                  ░            ░            ░            ░            ░ └───┘»\n",
       "q2_11: ───────────░────────────░────────────░────────────░────────────░──────»\n",
       "                  ░            ░            ░            ░            ░      »\n",
       "q2_12: ───────────░────────────░────────────░────────────░────────────░──────»\n",
       "                  ░            ░            ░            ░            ░      »\n",
       "q2_13: ───────────░────────────░────────────░────────────░────────────░──────»\n",
       "                  ░            ░            ░            ░            ░      »\n",
       "q2_14: ───────────░────────────░────────────░────────────░────────────░──────»\n",
       "                  ░            ░            ░            ░            ░      »\n",
       "«             ░  ░       ░            ░            ░                 ░      »\n",
       "« q2_0: ──────░──░───────░────────────░────────────░─────────────────░──────»\n",
       "«             ░  ░       ░            ░            ░                 ░      »\n",
       "« q2_1: ──────░──░───────░────────────░────────────░─────────────────░──────»\n",
       "«             ░  ░       ░            ░            ░                 ░      »\n",
       "« q2_2: ──────░──░───────░────────────░────────────░─────────────────░──────»\n",
       "«             ░  ░       ░            ░            ░                 ░      »\n",
       "« q2_3: ──────░──░───────░────────────░────────────░─────────────────░──────»\n",
       "«             ░  ░       ░            ░            ░                 ░      »\n",
       "« q2_4: ──■───░──░───────░────────────░────────────░─────────────────░──────»\n",
       "«         │   ░  ░       ░            ░            ░                 ░      »\n",
       "« q2_5: ──┼───░──░───■───░────────────░────────────░─────────────────░──────»\n",
       "«         │   ░  ░   │   ░            ░            ░                 ░      »\n",
       "« q2_6: ──┼───░──░───┼───░───■────■───░────────────░─────────────────░──────»\n",
       "«         │   ░  ░   │   ░   │    │   ░            ░                 ░      »\n",
       "« q2_7: ──┼───░──░───┼───░───┼────┼───░───■────■───░─────────────────░──────»\n",
       "«         │   ░  ░   │   ░   │    │   ░   │    │   ░                 ░      »\n",
       "« q2_8: ──┼───░──░───┼───░───┼────┼───░───┼────┼───░───■────■────■───░──────»\n",
       "«         │   ░  ░   │   ░   │    │   ░   │    │   ░   │    │    │   ░      »\n",
       "« q2_9: ──┼───░──░───┼───░───┼────┼───░───┼────┼───░───┼────┼────┼───░───■──»\n",
       "«       ┌─┴─┐ ░  ░   │   ░   │    │   ░   │    │   ░   │    │    │   ░   │  »\n",
       "«q2_10: ┤ X ├─░──░───┼───░───┼────┼───░───┼────┼───░───┼────┼────┼───░───┼──»\n",
       "«       └───┘ ░  ░ ┌─┴─┐ ░   │  ┌─┴─┐ ░   │  ┌─┴─┐ ░   │    │  ┌─┴─┐ ░   │  »\n",
       "«q2_11: ──────░──░─┤ X ├─░───■──┤ X ├─░───■──┤ X ├─░───■────■──┤ X ├─░───■──»\n",
       "«             ░  ░ └───┘ ░ ┌─┴─┐└───┘ ░ ┌─┴─┐└───┘ ░   │  ┌─┴─┐└───┘ ░   │  »\n",
       "«q2_12: ──────░──░───────░─┤ X ├──────░─┤ X ├──────░───■──┤ X ├──────░───■──»\n",
       "«             ░  ░       ░ └───┘      ░ └───┘      ░ ┌─┴─┐└───┘      ░ ┌─┴─┐»\n",
       "«q2_13: ──────░──░───────░────────────░────────────░─┤ X ├───────────░─┤ X ├»\n",
       "«             ░  ░       ░            ░            ░ └───┘           ░ └───┘»\n",
       "«q2_14: ──────░──░───────░────────────░────────────░─────────────────░──────»\n",
       "«             ░  ░       ░            ░            ░                 ░      »\n",
       "«                  ░                 ░       ░      \n",
       "« q2_0: ───────────░─────────────────░───────░──────\n",
       "«                  ░                 ░       ░      \n",
       "« q2_1: ───────────░─────────────────░───────░──────\n",
       "«                  ░                 ░       ░      \n",
       "« q2_2: ───────────░─────────────────░───────░──────\n",
       "«                  ░                 ░       ░      \n",
       "« q2_3: ───────────░─────────────────░───────░──────\n",
       "«                  ░                 ░       ░      \n",
       "« q2_4: ───────────░─────────────────░───────░──────\n",
       "«                  ░                 ░       ░      \n",
       "« q2_5: ───────────░─────────────────░───────░──────\n",
       "«                  ░                 ░       ░      \n",
       "« q2_6: ───────────░─────────────────░───────░──────\n",
       "«                  ░                 ░       ░      \n",
       "« q2_7: ───────────░─────────────────░───────░──────\n",
       "«                  ░                 ░       ░      \n",
       "« q2_8: ───────────░─────────────────░───────░──────\n",
       "«                  ░                 ░       ░      \n",
       "« q2_9: ──■────■───░─────────────────░───────░──────\n",
       "«         │    │   ░                 ░       ░      \n",
       "«q2_10: ──┼────┼───░───■────■────■───░───────░──────\n",
       "«         │  ┌─┴─┐ ░   │    │  ┌─┴─┐ ░ ┌───┐ ░      \n",
       "«q2_11: ──■──┤ X ├─░───■────■──┤ X ├─░─┤ X ├─░───■──\n",
       "«       ┌─┴─┐└───┘ ░   │  ┌─┴─┐└───┘ ░ ├───┤ ░   │  \n",
       "«q2_12: ┤ X ├──────░───■──┤ X ├──────░─┤ X ├─░───■──\n",
       "«       └───┘      ░ ┌─┴─┐└───┘      ░ └───┘ ░   │  \n",
       "«q2_13: ───────────░─┤ X ├───────────░───────░───■──\n",
       "«                  ░ └───┘           ░       ░ ┌─┴─┐\n",
       "«q2_14: ───────────░─────────────────░───────░─┤ X ├\n",
       "«                  ░                 ░       ░ └───┘</pre>"
      ],
      "text/plain": [
       "                  ░            ░            ░            ░            ░      »\n",
       " q2_0: ──■────────░───■────────░────────────░────────────░────────────░──────»\n",
       "         │        ░   │        ░            ░            ░            ░      »\n",
       " q2_1: ──┼────────░───┼────────░───■────────░───■────────░────────────░──────»\n",
       "         │        ░   │        ░   │        ░   │        ░            ░      »\n",
       " q2_2: ──┼────────░───┼────────░───┼────────░───┼────────░───■────────░───■──»\n",
       "         │        ░   │        ░   │        ░   │        ░   │        ░   │  »\n",
       " q2_3: ──┼────■───░───┼────────░───┼────■───░───┼────────░───┼────■───░───┼──»\n",
       "         │    │   ░   │        ░   │    │   ░   │        ░   │    │   ░   │  »\n",
       " q2_4: ──┼────┼───░───┼────■───░───┼────┼───░───┼────■───░───┼────┼───░───┼──»\n",
       "       ┌─┴─┐┌─┴─┐ ░   │    │   ░   │    │   ░   │    │   ░   │    │   ░   │  »\n",
       " q2_5: ┤ X ├┤ X ├─░───┼────┼───░───┼────┼───░───┼────┼───░───┼────┼───░───┼──»\n",
       "       └───┘└───┘ ░ ┌─┴─┐┌─┴─┐ ░   │    │   ░   │    │   ░   │    │   ░   │  »\n",
       " q2_6: ───────────░─┤ X ├┤ X ├─░───┼────┼───░───┼────┼───░───┼────┼───░───┼──»\n",
       "                  ░ └───┘└───┘ ░ ┌─┴─┐┌─┴─┐ ░   │    │   ░   │    │   ░   │  »\n",
       " q2_7: ───────────░────────────░─┤ X ├┤ X ├─░───┼────┼───░───┼────┼───░───┼──»\n",
       "                  ░            ░ └───┘└───┘ ░ ┌─┴─┐┌─┴─┐ ░   │    │   ░   │  »\n",
       " q2_8: ───────────░────────────░────────────░─┤ X ├┤ X ├─░───┼────┼───░───┼──»\n",
       "                  ░            ░            ░ └───┘└───┘ ░ ┌─┴─┐┌─┴─┐ ░   │  »\n",
       " q2_9: ───────────░────────────░────────────░────────────░─┤ X ├┤ X ├─░───┼──»\n",
       "                  ░            ░            ░            ░ └───┘└───┘ ░ ┌─┴─┐»\n",
       "q2_10: ───────────░────────────░────────────░────────────░────────────░─┤ X ├»\n",
       "                  ░            ░            ░            ░            ░ └───┘»\n",
       "q2_11: ───────────░────────────░────────────░────────────░────────────░──────»\n",
       "                  ░            ░            ░            ░            ░      »\n",
       "q2_12: ───────────░────────────░────────────░────────────░────────────░──────»\n",
       "                  ░            ░            ░            ░            ░      »\n",
       "q2_13: ───────────░────────────░────────────░────────────░────────────░──────»\n",
       "                  ░            ░            ░            ░            ░      »\n",
       "q2_14: ───────────░────────────░────────────░────────────░────────────░──────»\n",
       "                  ░            ░            ░            ░            ░      »\n",
       "«             ░  ░       ░            ░            ░                 ░      »\n",
       "« q2_0: ──────░──░───────░────────────░────────────░─────────────────░──────»\n",
       "«             ░  ░       ░            ░            ░                 ░      »\n",
       "« q2_1: ──────░──░───────░────────────░────────────░─────────────────░──────»\n",
       "«             ░  ░       ░            ░            ░                 ░      »\n",
       "« q2_2: ──────░──░───────░────────────░────────────░─────────────────░──────»\n",
       "«             ░  ░       ░            ░            ░                 ░      »\n",
       "« q2_3: ──────░──░───────░────────────░────────────░─────────────────░──────»\n",
       "«             ░  ░       ░            ░            ░                 ░      »\n",
       "« q2_4: ──■───░──░───────░────────────░────────────░─────────────────░──────»\n",
       "«         │   ░  ░       ░            ░            ░                 ░      »\n",
       "« q2_5: ──┼───░──░───■───░────────────░────────────░─────────────────░──────»\n",
       "«         │   ░  ░   │   ░            ░            ░                 ░      »\n",
       "« q2_6: ──┼───░──░───┼───░───■────■───░────────────░─────────────────░──────»\n",
       "«         │   ░  ░   │   ░   │    │   ░            ░                 ░      »\n",
       "« q2_7: ──┼───░──░───┼───░───┼────┼───░───■────■───░─────────────────░──────»\n",
       "«         │   ░  ░   │   ░   │    │   ░   │    │   ░                 ░      »\n",
       "« q2_8: ──┼───░──░───┼───░───┼────┼───░───┼────┼───░───■────■────■───░──────»\n",
       "«         │   ░  ░   │   ░   │    │   ░   │    │   ░   │    │    │   ░      »\n",
       "« q2_9: ──┼───░──░───┼───░───┼────┼───░───┼────┼───░───┼────┼────┼───░───■──»\n",
       "«       ┌─┴─┐ ░  ░   │   ░   │    │   ░   │    │   ░   │    │    │   ░   │  »\n",
       "«q2_10: ┤ X ├─░──░───┼───░───┼────┼───░───┼────┼───░───┼────┼────┼───░───┼──»\n",
       "«       └───┘ ░  ░ ┌─┴─┐ ░   │  ┌─┴─┐ ░   │  ┌─┴─┐ ░   │    │  ┌─┴─┐ ░   │  »\n",
       "«q2_11: ──────░──░─┤ X ├─░───■──┤ X ├─░───■──┤ X ├─░───■────■──┤ X ├─░───■──»\n",
       "«             ░  ░ └───┘ ░ ┌─┴─┐└───┘ ░ ┌─┴─┐└───┘ ░   │  ┌─┴─┐└───┘ ░   │  »\n",
       "«q2_12: ──────░──░───────░─┤ X ├──────░─┤ X ├──────░───■──┤ X ├──────░───■──»\n",
       "«             ░  ░       ░ └───┘      ░ └───┘      ░ ┌─┴─┐└───┘      ░ ┌─┴─┐»\n",
       "«q2_13: ──────░──░───────░────────────░────────────░─┤ X ├───────────░─┤ X ├»\n",
       "«             ░  ░       ░            ░            ░ └───┘           ░ └───┘»\n",
       "«q2_14: ──────░──░───────░────────────░────────────░─────────────────░──────»\n",
       "«             ░  ░       ░            ░            ░                 ░      »\n",
       "«                  ░                 ░       ░      \n",
       "« q2_0: ───────────░─────────────────░───────░──────\n",
       "«                  ░                 ░       ░      \n",
       "« q2_1: ───────────░─────────────────░───────░──────\n",
       "«                  ░                 ░       ░      \n",
       "« q2_2: ───────────░─────────────────░───────░──────\n",
       "«                  ░                 ░       ░      \n",
       "« q2_3: ───────────░─────────────────░───────░──────\n",
       "«                  ░                 ░       ░      \n",
       "« q2_4: ───────────░─────────────────░───────░──────\n",
       "«                  ░                 ░       ░      \n",
       "« q2_5: ───────────░─────────────────░───────░──────\n",
       "«                  ░                 ░       ░      \n",
       "« q2_6: ───────────░─────────────────░───────░──────\n",
       "«                  ░                 ░       ░      \n",
       "« q2_7: ───────────░─────────────────░───────░──────\n",
       "«                  ░                 ░       ░      \n",
       "« q2_8: ───────────░─────────────────░───────░──────\n",
       "«                  ░                 ░       ░      \n",
       "« q2_9: ──■────■───░─────────────────░───────░──────\n",
       "«         │    │   ░                 ░       ░      \n",
       "«q2_10: ──┼────┼───░───■────■────■───░───────░──────\n",
       "«         │  ┌─┴─┐ ░   │    │  ┌─┴─┐ ░ ┌───┐ ░      \n",
       "«q2_11: ──■──┤ X ├─░───■────■──┤ X ├─░─┤ X ├─░───■──\n",
       "«       ┌─┴─┐└───┘ ░   │  ┌─┴─┐└───┘ ░ ├───┤ ░   │  \n",
       "«q2_12: ┤ X ├──────░───■──┤ X ├──────░─┤ X ├─░───■──\n",
       "«       └───┘      ░ ┌─┴─┐└───┘      ░ └───┘ ░   │  \n",
       "«q2_13: ───────────░─┤ X ├───────────░───────░───■──\n",
       "«                  ░ └───┘           ░       ░ ┌─┴─┐\n",
       "«q2_14: ───────────░─────────────────░───────░─┤ X ├\n",
       "«                  ░                 ░       ░ └───┘"
      ]
     },
     "execution_count": 11,
     "metadata": {},
     "output_type": "execute_result"
    }
   ],
   "source": [
    "qr=QuantumRegister(15)\n",
    "qc=QuantumCircuit(qr)\n",
    "oracle_part(qc,qr).draw()"
   ]
  },
  {
   "cell_type": "code",
   "execution_count": 12,
   "id": "93ff6278",
   "metadata": {},
   "outputs": [],
   "source": [
    "def oracle(qc,qr):\n",
    "    qc=oracle_part(qc,qr)\n",
    "    qc1=qc.inverse()\n",
    "    qc.z(14) #Aplicando compuerta al ultimo qubit\n",
    "    qc.compose(qc1,inplace=True)\n",
    "    return qc"
   ]
  },
  {
   "cell_type": "code",
   "execution_count": 13,
   "id": "90bbf667",
   "metadata": {},
   "outputs": [
    {
     "data": {
      "text/html": [
       "<pre style=\"word-wrap: normal;white-space: pre;background: #fff0;line-height: 1.1;font-family: &quot;Courier New&quot;,Courier,monospace\">                  ░            ░            ░            ░            ░      »\n",
       " q3_0: ──■────────░───■────────░────────────░────────────░────────────░──────»\n",
       "         │        ░   │        ░            ░            ░            ░      »\n",
       " q3_1: ──┼────────░───┼────────░───■────────░───■────────░────────────░──────»\n",
       "         │        ░   │        ░   │        ░   │        ░            ░      »\n",
       " q3_2: ──┼────────░───┼────────░───┼────────░───┼────────░───■────────░───■──»\n",
       "         │        ░   │        ░   │        ░   │        ░   │        ░   │  »\n",
       " q3_3: ──┼────■───░───┼────────░───┼────■───░───┼────────░───┼────■───░───┼──»\n",
       "         │    │   ░   │        ░   │    │   ░   │        ░   │    │   ░   │  »\n",
       " q3_4: ──┼────┼───░───┼────■───░───┼────┼───░───┼────■───░───┼────┼───░───┼──»\n",
       "       ┌─┴─┐┌─┴─┐ ░   │    │   ░   │    │   ░   │    │   ░   │    │   ░   │  »\n",
       " q3_5: ┤ X ├┤ X ├─░───┼────┼───░───┼────┼───░───┼────┼───░───┼────┼───░───┼──»\n",
       "       └───┘└───┘ ░ ┌─┴─┐┌─┴─┐ ░   │    │   ░   │    │   ░   │    │   ░   │  »\n",
       " q3_6: ───────────░─┤ X ├┤ X ├─░───┼────┼───░───┼────┼───░───┼────┼───░───┼──»\n",
       "                  ░ └───┘└───┘ ░ ┌─┴─┐┌─┴─┐ ░   │    │   ░   │    │   ░   │  »\n",
       " q3_7: ───────────░────────────░─┤ X ├┤ X ├─░───┼────┼───░───┼────┼───░───┼──»\n",
       "                  ░            ░ └───┘└───┘ ░ ┌─┴─┐┌─┴─┐ ░   │    │   ░   │  »\n",
       " q3_8: ───────────░────────────░────────────░─┤ X ├┤ X ├─░───┼────┼───░───┼──»\n",
       "                  ░            ░            ░ └───┘└───┘ ░ ┌─┴─┐┌─┴─┐ ░   │  »\n",
       " q3_9: ───────────░────────────░────────────░────────────░─┤ X ├┤ X ├─░───┼──»\n",
       "                  ░            ░            ░            ░ └───┘└───┘ ░ ┌─┴─┐»\n",
       "q3_10: ───────────░────────────░────────────░────────────░────────────░─┤ X ├»\n",
       "                  ░            ░            ░            ░            ░ └───┘»\n",
       "q3_11: ───────────░────────────░────────────░────────────░────────────░──────»\n",
       "                  ░            ░            ░            ░            ░      »\n",
       "q3_12: ───────────░────────────░────────────░────────────░────────────░──────»\n",
       "                  ░            ░            ░            ░            ░      »\n",
       "q3_13: ───────────░────────────░────────────░────────────░────────────░──────»\n",
       "                  ░            ░            ░            ░            ░      »\n",
       "q3_14: ───────────░────────────░────────────░────────────░────────────░──────»\n",
       "                  ░            ░            ░            ░            ░      »\n",
       "«             ░  ░       ░            ░            ░                 ░      »\n",
       "« q3_0: ──────░──░───────░────────────░────────────░─────────────────░──────»\n",
       "«             ░  ░       ░            ░            ░                 ░      »\n",
       "« q3_1: ──────░──░───────░────────────░────────────░─────────────────░──────»\n",
       "«             ░  ░       ░            ░            ░                 ░      »\n",
       "« q3_2: ──────░──░───────░────────────░────────────░─────────────────░──────»\n",
       "«             ░  ░       ░            ░            ░                 ░      »\n",
       "« q3_3: ──────░──░───────░────────────░────────────░─────────────────░──────»\n",
       "«             ░  ░       ░            ░            ░                 ░      »\n",
       "« q3_4: ──■───░──░───────░────────────░────────────░─────────────────░──────»\n",
       "«         │   ░  ░       ░            ░            ░                 ░      »\n",
       "« q3_5: ──┼───░──░───■───░────────────░────────────░─────────────────░──────»\n",
       "«         │   ░  ░   │   ░            ░            ░                 ░      »\n",
       "« q3_6: ──┼───░──░───┼───░───■────■───░────────────░─────────────────░──────»\n",
       "«         │   ░  ░   │   ░   │    │   ░            ░                 ░      »\n",
       "« q3_7: ──┼───░──░───┼───░───┼────┼───░───■────■───░─────────────────░──────»\n",
       "«         │   ░  ░   │   ░   │    │   ░   │    │   ░                 ░      »\n",
       "« q3_8: ──┼───░──░───┼───░───┼────┼───░───┼────┼───░───■────■────■───░──────»\n",
       "«         │   ░  ░   │   ░   │    │   ░   │    │   ░   │    │    │   ░      »\n",
       "« q3_9: ──┼───░──░───┼───░───┼────┼───░───┼────┼───░───┼────┼────┼───░───■──»\n",
       "«       ┌─┴─┐ ░  ░   │   ░   │    │   ░   │    │   ░   │    │    │   ░   │  »\n",
       "«q3_10: ┤ X ├─░──░───┼───░───┼────┼───░───┼────┼───░───┼────┼────┼───░───┼──»\n",
       "«       └───┘ ░  ░ ┌─┴─┐ ░   │  ┌─┴─┐ ░   │  ┌─┴─┐ ░   │    │  ┌─┴─┐ ░   │  »\n",
       "«q3_11: ──────░──░─┤ X ├─░───■──┤ X ├─░───■──┤ X ├─░───■────■──┤ X ├─░───■──»\n",
       "«             ░  ░ └───┘ ░ ┌─┴─┐└───┘ ░ ┌─┴─┐└───┘ ░   │  ┌─┴─┐└───┘ ░   │  »\n",
       "«q3_12: ──────░──░───────░─┤ X ├──────░─┤ X ├──────░───■──┤ X ├──────░───■──»\n",
       "«             ░  ░       ░ └───┘      ░ └───┘      ░ ┌─┴─┐└───┘      ░ ┌─┴─┐»\n",
       "«q3_13: ──────░──░───────░────────────░────────────░─┤ X ├───────────░─┤ X ├»\n",
       "«             ░  ░       ░            ░            ░ └───┘           ░ └───┘»\n",
       "«q3_14: ──────░──░───────░────────────░────────────░─────────────────░──────»\n",
       "«             ░  ░       ░            ░            ░                 ░      »\n",
       "«                  ░                 ░       ░                 ░       ░      »\n",
       "« q3_0: ───────────░─────────────────░───────░─────────────────░───────░──────»\n",
       "«                  ░                 ░       ░                 ░       ░      »\n",
       "« q3_1: ───────────░─────────────────░───────░─────────────────░───────░──────»\n",
       "«                  ░                 ░       ░                 ░       ░      »\n",
       "« q3_2: ───────────░─────────────────░───────░─────────────────░───────░──────»\n",
       "«                  ░                 ░       ░                 ░       ░      »\n",
       "« q3_3: ───────────░─────────────────░───────░─────────────────░───────░──────»\n",
       "«                  ░                 ░       ░                 ░       ░      »\n",
       "« q3_4: ───────────░─────────────────░───────░─────────────────░───────░──────»\n",
       "«                  ░                 ░       ░                 ░       ░      »\n",
       "« q3_5: ───────────░─────────────────░───────░─────────────────░───────░──────»\n",
       "«                  ░                 ░       ░                 ░       ░      »\n",
       "« q3_6: ───────────░─────────────────░───────░─────────────────░───────░──────»\n",
       "«                  ░                 ░       ░                 ░       ░      »\n",
       "« q3_7: ───────────░─────────────────░───────░─────────────────░───────░──────»\n",
       "«                  ░                 ░       ░                 ░       ░      »\n",
       "« q3_8: ───────────░─────────────────░───────░─────────────────░───────░──────»\n",
       "«                  ░                 ░       ░                 ░       ░      »\n",
       "« q3_9: ──■────■───░─────────────────░───────░─────────────────░───────░──────»\n",
       "«         │    │   ░                 ░       ░                 ░       ░      »\n",
       "«q3_10: ──┼────┼───░───■────■────■───░───────░─────────────────░───────░───■──»\n",
       "«         │  ┌─┴─┐ ░   │    │  ┌─┴─┐ ░ ┌───┐ ░                 ░ ┌───┐ ░ ┌─┴─┐»\n",
       "«q3_11: ──■──┤ X ├─░───■────■──┤ X ├─░─┤ X ├─░───■─────────■───░─┤ X ├─░─┤ X ├»\n",
       "«       ┌─┴─┐└───┘ ░   │  ┌─┴─┐└───┘ ░ ├───┤ ░   │         │   ░ ├───┤ ░ └───┘»\n",
       "«q3_12: ┤ X ├──────░───■──┤ X ├──────░─┤ X ├─░───■─────────■───░─┤ X ├─░──────»\n",
       "«       └───┘      ░ ┌─┴─┐└───┘      ░ └───┘ ░   │         │   ░ └───┘ ░      »\n",
       "«q3_13: ───────────░─┤ X ├───────────░───────░───■─────────■───░───────░──────»\n",
       "«                  ░ └───┘           ░       ░ ┌─┴─┐┌───┐┌─┴─┐ ░       ░      »\n",
       "«q3_14: ───────────░─────────────────░───────░─┤ X ├┤ Z ├┤ X ├─░───────░──────»\n",
       "«                  ░                 ░       ░ └───┘└───┘└───┘ ░       ░      »\n",
       "«                  ░                 ░                 ░            ░      »\n",
       "« q3_0: ───────────░─────────────────░─────────────────░────────────░──────»\n",
       "«                  ░                 ░                 ░            ░      »\n",
       "« q3_1: ───────────░─────────────────░─────────────────░────────────░──────»\n",
       "«                  ░                 ░                 ░            ░      »\n",
       "« q3_2: ───────────░─────────────────░─────────────────░────────────░──────»\n",
       "«                  ░                 ░                 ░            ░      »\n",
       "« q3_3: ───────────░─────────────────░─────────────────░────────────░──────»\n",
       "«                  ░                 ░                 ░            ░      »\n",
       "« q3_4: ───────────░─────────────────░─────────────────░────────────░──────»\n",
       "«                  ░                 ░                 ░            ░      »\n",
       "« q3_5: ───────────░─────────────────░─────────────────░────────────░──────»\n",
       "«                  ░                 ░                 ░            ░      »\n",
       "« q3_6: ───────────░─────────────────░─────────────────░────────────░───■──»\n",
       "«                  ░                 ░                 ░            ░   │  »\n",
       "« q3_7: ───────────░─────────────────░─────────────────░───■────■───░───┼──»\n",
       "«                  ░                 ░                 ░   │    │   ░   │  »\n",
       "« q3_8: ───────────░─────────────────░───■────■────■───░───┼────┼───░───┼──»\n",
       "«                  ░                 ░   │    │    │   ░   │    │   ░   │  »\n",
       "« q3_9: ───────────░───■────■────■───░───┼────┼────┼───░───┼────┼───░───┼──»\n",
       "«                  ░   │    │    │   ░   │    │    │   ░   │    │   ░   │  »\n",
       "«q3_10: ──■────■───░───┼────┼────┼───░───┼────┼────┼───░───┼────┼───░───┼──»\n",
       "«         │    │   ░ ┌─┴─┐  │    │   ░ ┌─┴─┐  │    │   ░ ┌─┴─┐  │   ░ ┌─┴─┐»\n",
       "«q3_11: ──■────■───░─┤ X ├──■────■───░─┤ X ├──■────■───░─┤ X ├──■───░─┤ X ├»\n",
       "«       ┌─┴─┐  │   ░ └───┘┌─┴─┐  │   ░ └───┘┌─┴─┐  │   ░ └───┘┌─┴─┐ ░ └───┘»\n",
       "«q3_12: ┤ X ├──■───░──────┤ X ├──■───░──────┤ X ├──■───░──────┤ X ├─░──────»\n",
       "«       └───┘┌─┴─┐ ░      └───┘┌─┴─┐ ░      └───┘┌─┴─┐ ░      └───┘ ░      »\n",
       "«q3_13: ─────┤ X ├─░───────────┤ X ├─░───────────┤ X ├─░────────────░──────»\n",
       "«            └───┘ ░           └───┘ ░           └───┘ ░            ░      »\n",
       "«q3_14: ───────────░─────────────────░─────────────────░────────────░──────»\n",
       "«                  ░                 ░                 ░            ░      »\n",
       "«             ░       ░  ░            ░            ░            ░            ░ »\n",
       "« q3_0: ──────░───────░──░────────────░────────────░────────────░────────────░─»\n",
       "«             ░       ░  ░            ░            ░            ░            ░ »\n",
       "« q3_1: ──────░───────░──░────────────░────────────░────────■───░────────■───░─»\n",
       "«             ░       ░  ░            ░            ░        │   ░        │   ░ »\n",
       "« q3_2: ──────░───────░──░────────■───░────────■───░────────┼───░────────┼───░─»\n",
       "«             ░       ░  ░        │   ░        │   ░        │   ░        │   ░ »\n",
       "« q3_3: ──────░───────░──░────────┼───░───■────┼───░────────┼───░───■────┼───░─»\n",
       "«             ░       ░  ░        │   ░   │    │   ░        │   ░   │    │   ░ »\n",
       "« q3_4: ──────░───────░──░───■────┼───░───┼────┼───░───■────┼───░───┼────┼───░─»\n",
       "«             ░       ░  ░   │    │   ░   │    │   ░   │    │   ░   │    │   ░ »\n",
       "« q3_5: ──────░───■───░──░───┼────┼───░───┼────┼───░───┼────┼───░───┼────┼───░─»\n",
       "«             ░   │   ░  ░   │    │   ░   │    │   ░   │    │   ░   │    │   ░ »\n",
       "« q3_6: ──■───░───┼───░──░───┼────┼───░───┼────┼───░───┼────┼───░───┼────┼───░─»\n",
       "«         │   ░   │   ░  ░   │    │   ░   │    │   ░   │    │   ░ ┌─┴─┐┌─┴─┐ ░ »\n",
       "« q3_7: ──┼───░───┼───░──░───┼────┼───░───┼────┼───░───┼────┼───░─┤ X ├┤ X ├─░─»\n",
       "«         │   ░   │   ░  ░   │    │   ░   │    │   ░ ┌─┴─┐┌─┴─┐ ░ └───┘└───┘ ░ »\n",
       "« q3_8: ──┼───░───┼───░──░───┼────┼───░───┼────┼───░─┤ X ├┤ X ├─░────────────░─»\n",
       "«         │   ░   │   ░  ░   │    │   ░ ┌─┴─┐┌─┴─┐ ░ └───┘└───┘ ░            ░ »\n",
       "« q3_9: ──┼───░───┼───░──░───┼────┼───░─┤ X ├┤ X ├─░────────────░────────────░─»\n",
       "«         │   ░   │   ░  ░ ┌─┴─┐┌─┴─┐ ░ └───┘└───┘ ░            ░            ░ »\n",
       "«q3_10: ──┼───░───┼───░──░─┤ X ├┤ X ├─░────────────░────────────░────────────░─»\n",
       "«         │   ░ ┌─┴─┐ ░  ░ └───┘└───┘ ░            ░            ░            ░ »\n",
       "«q3_11: ──■───░─┤ X ├─░──░────────────░────────────░────────────░────────────░─»\n",
       "«       ┌─┴─┐ ░ └───┘ ░  ░            ░            ░            ░            ░ »\n",
       "«q3_12: ┤ X ├─░───────░──░────────────░────────────░────────────░────────────░─»\n",
       "«       └───┘ ░       ░  ░            ░            ░            ░            ░ »\n",
       "«q3_13: ──────░───────░──░────────────░────────────░────────────░────────────░─»\n",
       "«             ░       ░  ░            ░            ░            ░            ░ »\n",
       "«q3_14: ──────░───────░──░────────────░────────────░────────────░────────────░─»\n",
       "«             ░       ░  ░            ░            ░            ░            ░ »\n",
       "«                  ░           \n",
       "« q3_0: ───────■───░────────■──\n",
       "«              │   ░        │  \n",
       "« q3_1: ───────┼───░────────┼──\n",
       "«              │   ░        │  \n",
       "« q3_2: ───────┼───░────────┼──\n",
       "«              │   ░        │  \n",
       "« q3_3: ───────┼───░───■────┼──\n",
       "«              │   ░   │    │  \n",
       "« q3_4: ──■────┼───░───┼────┼──\n",
       "«         │    │   ░ ┌─┴─┐┌─┴─┐\n",
       "« q3_5: ──┼────┼───░─┤ X ├┤ X ├\n",
       "«       ┌─┴─┐┌─┴─┐ ░ └───┘└───┘\n",
       "« q3_6: ┤ X ├┤ X ├─░───────────\n",
       "«       └───┘└───┘ ░           \n",
       "« q3_7: ───────────░───────────\n",
       "«                  ░           \n",
       "« q3_8: ───────────░───────────\n",
       "«                  ░           \n",
       "« q3_9: ───────────░───────────\n",
       "«                  ░           \n",
       "«q3_10: ───────────░───────────\n",
       "«                  ░           \n",
       "«q3_11: ───────────░───────────\n",
       "«                  ░           \n",
       "«q3_12: ───────────░───────────\n",
       "«                  ░           \n",
       "«q3_13: ───────────░───────────\n",
       "«                  ░           \n",
       "«q3_14: ───────────░───────────\n",
       "«                  ░           </pre>"
      ],
      "text/plain": [
       "                  ░            ░            ░            ░            ░      »\n",
       " q3_0: ──■────────░───■────────░────────────░────────────░────────────░──────»\n",
       "         │        ░   │        ░            ░            ░            ░      »\n",
       " q3_1: ──┼────────░───┼────────░───■────────░───■────────░────────────░──────»\n",
       "         │        ░   │        ░   │        ░   │        ░            ░      »\n",
       " q3_2: ──┼────────░───┼────────░───┼────────░───┼────────░───■────────░───■──»\n",
       "         │        ░   │        ░   │        ░   │        ░   │        ░   │  »\n",
       " q3_3: ──┼────■───░───┼────────░───┼────■───░───┼────────░───┼────■───░───┼──»\n",
       "         │    │   ░   │        ░   │    │   ░   │        ░   │    │   ░   │  »\n",
       " q3_4: ──┼────┼───░───┼────■───░───┼────┼───░───┼────■───░───┼────┼───░───┼──»\n",
       "       ┌─┴─┐┌─┴─┐ ░   │    │   ░   │    │   ░   │    │   ░   │    │   ░   │  »\n",
       " q3_5: ┤ X ├┤ X ├─░───┼────┼───░───┼────┼───░───┼────┼───░───┼────┼───░───┼──»\n",
       "       └───┘└───┘ ░ ┌─┴─┐┌─┴─┐ ░   │    │   ░   │    │   ░   │    │   ░   │  »\n",
       " q3_6: ───────────░─┤ X ├┤ X ├─░───┼────┼───░───┼────┼───░───┼────┼───░───┼──»\n",
       "                  ░ └───┘└───┘ ░ ┌─┴─┐┌─┴─┐ ░   │    │   ░   │    │   ░   │  »\n",
       " q3_7: ───────────░────────────░─┤ X ├┤ X ├─░───┼────┼───░───┼────┼───░───┼──»\n",
       "                  ░            ░ └───┘└───┘ ░ ┌─┴─┐┌─┴─┐ ░   │    │   ░   │  »\n",
       " q3_8: ───────────░────────────░────────────░─┤ X ├┤ X ├─░───┼────┼───░───┼──»\n",
       "                  ░            ░            ░ └───┘└───┘ ░ ┌─┴─┐┌─┴─┐ ░   │  »\n",
       " q3_9: ───────────░────────────░────────────░────────────░─┤ X ├┤ X ├─░───┼──»\n",
       "                  ░            ░            ░            ░ └───┘└───┘ ░ ┌─┴─┐»\n",
       "q3_10: ───────────░────────────░────────────░────────────░────────────░─┤ X ├»\n",
       "                  ░            ░            ░            ░            ░ └───┘»\n",
       "q3_11: ───────────░────────────░────────────░────────────░────────────░──────»\n",
       "                  ░            ░            ░            ░            ░      »\n",
       "q3_12: ───────────░────────────░────────────░────────────░────────────░──────»\n",
       "                  ░            ░            ░            ░            ░      »\n",
       "q3_13: ───────────░────────────░────────────░────────────░────────────░──────»\n",
       "                  ░            ░            ░            ░            ░      »\n",
       "q3_14: ───────────░────────────░────────────░────────────░────────────░──────»\n",
       "                  ░            ░            ░            ░            ░      »\n",
       "«             ░  ░       ░            ░            ░                 ░      »\n",
       "« q3_0: ──────░──░───────░────────────░────────────░─────────────────░──────»\n",
       "«             ░  ░       ░            ░            ░                 ░      »\n",
       "« q3_1: ──────░──░───────░────────────░────────────░─────────────────░──────»\n",
       "«             ░  ░       ░            ░            ░                 ░      »\n",
       "« q3_2: ──────░──░───────░────────────░────────────░─────────────────░──────»\n",
       "«             ░  ░       ░            ░            ░                 ░      »\n",
       "« q3_3: ──────░──░───────░────────────░────────────░─────────────────░──────»\n",
       "«             ░  ░       ░            ░            ░                 ░      »\n",
       "« q3_4: ──■───░──░───────░────────────░────────────░─────────────────░──────»\n",
       "«         │   ░  ░       ░            ░            ░                 ░      »\n",
       "« q3_5: ──┼───░──░───■───░────────────░────────────░─────────────────░──────»\n",
       "«         │   ░  ░   │   ░            ░            ░                 ░      »\n",
       "« q3_6: ──┼───░──░───┼───░───■────■───░────────────░─────────────────░──────»\n",
       "«         │   ░  ░   │   ░   │    │   ░            ░                 ░      »\n",
       "« q3_7: ──┼───░──░───┼───░───┼────┼───░───■────■───░─────────────────░──────»\n",
       "«         │   ░  ░   │   ░   │    │   ░   │    │   ░                 ░      »\n",
       "« q3_8: ──┼───░──░───┼───░───┼────┼───░───┼────┼───░───■────■────■───░──────»\n",
       "«         │   ░  ░   │   ░   │    │   ░   │    │   ░   │    │    │   ░      »\n",
       "« q3_9: ──┼───░──░───┼───░───┼────┼───░───┼────┼───░───┼────┼────┼───░───■──»\n",
       "«       ┌─┴─┐ ░  ░   │   ░   │    │   ░   │    │   ░   │    │    │   ░   │  »\n",
       "«q3_10: ┤ X ├─░──░───┼───░───┼────┼───░───┼────┼───░───┼────┼────┼───░───┼──»\n",
       "«       └───┘ ░  ░ ┌─┴─┐ ░   │  ┌─┴─┐ ░   │  ┌─┴─┐ ░   │    │  ┌─┴─┐ ░   │  »\n",
       "«q3_11: ──────░──░─┤ X ├─░───■──┤ X ├─░───■──┤ X ├─░───■────■──┤ X ├─░───■──»\n",
       "«             ░  ░ └───┘ ░ ┌─┴─┐└───┘ ░ ┌─┴─┐└───┘ ░   │  ┌─┴─┐└───┘ ░   │  »\n",
       "«q3_12: ──────░──░───────░─┤ X ├──────░─┤ X ├──────░───■──┤ X ├──────░───■──»\n",
       "«             ░  ░       ░ └───┘      ░ └───┘      ░ ┌─┴─┐└───┘      ░ ┌─┴─┐»\n",
       "«q3_13: ──────░──░───────░────────────░────────────░─┤ X ├───────────░─┤ X ├»\n",
       "«             ░  ░       ░            ░            ░ └───┘           ░ └───┘»\n",
       "«q3_14: ──────░──░───────░────────────░────────────░─────────────────░──────»\n",
       "«             ░  ░       ░            ░            ░                 ░      »\n",
       "«                  ░                 ░       ░                 ░       ░      »\n",
       "« q3_0: ───────────░─────────────────░───────░─────────────────░───────░──────»\n",
       "«                  ░                 ░       ░                 ░       ░      »\n",
       "« q3_1: ───────────░─────────────────░───────░─────────────────░───────░──────»\n",
       "«                  ░                 ░       ░                 ░       ░      »\n",
       "« q3_2: ───────────░─────────────────░───────░─────────────────░───────░──────»\n",
       "«                  ░                 ░       ░                 ░       ░      »\n",
       "« q3_3: ───────────░─────────────────░───────░─────────────────░───────░──────»\n",
       "«                  ░                 ░       ░                 ░       ░      »\n",
       "« q3_4: ───────────░─────────────────░───────░─────────────────░───────░──────»\n",
       "«                  ░                 ░       ░                 ░       ░      »\n",
       "« q3_5: ───────────░─────────────────░───────░─────────────────░───────░──────»\n",
       "«                  ░                 ░       ░                 ░       ░      »\n",
       "« q3_6: ───────────░─────────────────░───────░─────────────────░───────░──────»\n",
       "«                  ░                 ░       ░                 ░       ░      »\n",
       "« q3_7: ───────────░─────────────────░───────░─────────────────░───────░──────»\n",
       "«                  ░                 ░       ░                 ░       ░      »\n",
       "« q3_8: ───────────░─────────────────░───────░─────────────────░───────░──────»\n",
       "«                  ░                 ░       ░                 ░       ░      »\n",
       "« q3_9: ──■────■───░─────────────────░───────░─────────────────░───────░──────»\n",
       "«         │    │   ░                 ░       ░                 ░       ░      »\n",
       "«q3_10: ──┼────┼───░───■────■────■───░───────░─────────────────░───────░───■──»\n",
       "«         │  ┌─┴─┐ ░   │    │  ┌─┴─┐ ░ ┌───┐ ░                 ░ ┌───┐ ░ ┌─┴─┐»\n",
       "«q3_11: ──■──┤ X ├─░───■────■──┤ X ├─░─┤ X ├─░───■─────────■───░─┤ X ├─░─┤ X ├»\n",
       "«       ┌─┴─┐└───┘ ░   │  ┌─┴─┐└───┘ ░ ├───┤ ░   │         │   ░ ├───┤ ░ └───┘»\n",
       "«q3_12: ┤ X ├──────░───■──┤ X ├──────░─┤ X ├─░───■─────────■───░─┤ X ├─░──────»\n",
       "«       └───┘      ░ ┌─┴─┐└───┘      ░ └───┘ ░   │         │   ░ └───┘ ░      »\n",
       "«q3_13: ───────────░─┤ X ├───────────░───────░───■─────────■───░───────░──────»\n",
       "«                  ░ └───┘           ░       ░ ┌─┴─┐┌───┐┌─┴─┐ ░       ░      »\n",
       "«q3_14: ───────────░─────────────────░───────░─┤ X ├┤ Z ├┤ X ├─░───────░──────»\n",
       "«                  ░                 ░       ░ └───┘└───┘└───┘ ░       ░      »\n",
       "«                  ░                 ░                 ░            ░      »\n",
       "« q3_0: ───────────░─────────────────░─────────────────░────────────░──────»\n",
       "«                  ░                 ░                 ░            ░      »\n",
       "« q3_1: ───────────░─────────────────░─────────────────░────────────░──────»\n",
       "«                  ░                 ░                 ░            ░      »\n",
       "« q3_2: ───────────░─────────────────░─────────────────░────────────░──────»\n",
       "«                  ░                 ░                 ░            ░      »\n",
       "« q3_3: ───────────░─────────────────░─────────────────░────────────░──────»\n",
       "«                  ░                 ░                 ░            ░      »\n",
       "« q3_4: ───────────░─────────────────░─────────────────░────────────░──────»\n",
       "«                  ░                 ░                 ░            ░      »\n",
       "« q3_5: ───────────░─────────────────░─────────────────░────────────░──────»\n",
       "«                  ░                 ░                 ░            ░      »\n",
       "« q3_6: ───────────░─────────────────░─────────────────░────────────░───■──»\n",
       "«                  ░                 ░                 ░            ░   │  »\n",
       "« q3_7: ───────────░─────────────────░─────────────────░───■────■───░───┼──»\n",
       "«                  ░                 ░                 ░   │    │   ░   │  »\n",
       "« q3_8: ───────────░─────────────────░───■────■────■───░───┼────┼───░───┼──»\n",
       "«                  ░                 ░   │    │    │   ░   │    │   ░   │  »\n",
       "« q3_9: ───────────░───■────■────■───░───┼────┼────┼───░───┼────┼───░───┼──»\n",
       "«                  ░   │    │    │   ░   │    │    │   ░   │    │   ░   │  »\n",
       "«q3_10: ──■────■───░───┼────┼────┼───░───┼────┼────┼───░───┼────┼───░───┼──»\n",
       "«         │    │   ░ ┌─┴─┐  │    │   ░ ┌─┴─┐  │    │   ░ ┌─┴─┐  │   ░ ┌─┴─┐»\n",
       "«q3_11: ──■────■───░─┤ X ├──■────■───░─┤ X ├──■────■───░─┤ X ├──■───░─┤ X ├»\n",
       "«       ┌─┴─┐  │   ░ └───┘┌─┴─┐  │   ░ └───┘┌─┴─┐  │   ░ └───┘┌─┴─┐ ░ └───┘»\n",
       "«q3_12: ┤ X ├──■───░──────┤ X ├──■───░──────┤ X ├──■───░──────┤ X ├─░──────»\n",
       "«       └───┘┌─┴─┐ ░      └───┘┌─┴─┐ ░      └───┘┌─┴─┐ ░      └───┘ ░      »\n",
       "«q3_13: ─────┤ X ├─░───────────┤ X ├─░───────────┤ X ├─░────────────░──────»\n",
       "«            └───┘ ░           └───┘ ░           └───┘ ░            ░      »\n",
       "«q3_14: ───────────░─────────────────░─────────────────░────────────░──────»\n",
       "«                  ░                 ░                 ░            ░      »\n",
       "«             ░       ░  ░            ░            ░            ░            ░ »\n",
       "« q3_0: ──────░───────░──░────────────░────────────░────────────░────────────░─»\n",
       "«             ░       ░  ░            ░            ░            ░            ░ »\n",
       "« q3_1: ──────░───────░──░────────────░────────────░────────■───░────────■───░─»\n",
       "«             ░       ░  ░            ░            ░        │   ░        │   ░ »\n",
       "« q3_2: ──────░───────░──░────────■───░────────■───░────────┼───░────────┼───░─»\n",
       "«             ░       ░  ░        │   ░        │   ░        │   ░        │   ░ »\n",
       "« q3_3: ──────░───────░──░────────┼───░───■────┼───░────────┼───░───■────┼───░─»\n",
       "«             ░       ░  ░        │   ░   │    │   ░        │   ░   │    │   ░ »\n",
       "« q3_4: ──────░───────░──░───■────┼───░───┼────┼───░───■────┼───░───┼────┼───░─»\n",
       "«             ░       ░  ░   │    │   ░   │    │   ░   │    │   ░   │    │   ░ »\n",
       "« q3_5: ──────░───■───░──░───┼────┼───░───┼────┼───░───┼────┼───░───┼────┼───░─»\n",
       "«             ░   │   ░  ░   │    │   ░   │    │   ░   │    │   ░   │    │   ░ »\n",
       "« q3_6: ──■───░───┼───░──░───┼────┼───░───┼────┼───░───┼────┼───░───┼────┼───░─»\n",
       "«         │   ░   │   ░  ░   │    │   ░   │    │   ░   │    │   ░ ┌─┴─┐┌─┴─┐ ░ »\n",
       "« q3_7: ──┼───░───┼───░──░───┼────┼───░───┼────┼───░───┼────┼───░─┤ X ├┤ X ├─░─»\n",
       "«         │   ░   │   ░  ░   │    │   ░   │    │   ░ ┌─┴─┐┌─┴─┐ ░ └───┘└───┘ ░ »\n",
       "« q3_8: ──┼───░───┼───░──░───┼────┼───░───┼────┼───░─┤ X ├┤ X ├─░────────────░─»\n",
       "«         │   ░   │   ░  ░   │    │   ░ ┌─┴─┐┌─┴─┐ ░ └───┘└───┘ ░            ░ »\n",
       "« q3_9: ──┼───░───┼───░──░───┼────┼───░─┤ X ├┤ X ├─░────────────░────────────░─»\n",
       "«         │   ░   │   ░  ░ ┌─┴─┐┌─┴─┐ ░ └───┘└───┘ ░            ░            ░ »\n",
       "«q3_10: ──┼───░───┼───░──░─┤ X ├┤ X ├─░────────────░────────────░────────────░─»\n",
       "«         │   ░ ┌─┴─┐ ░  ░ └───┘└───┘ ░            ░            ░            ░ »\n",
       "«q3_11: ──■───░─┤ X ├─░──░────────────░────────────░────────────░────────────░─»\n",
       "«       ┌─┴─┐ ░ └───┘ ░  ░            ░            ░            ░            ░ »\n",
       "«q3_12: ┤ X ├─░───────░──░────────────░────────────░────────────░────────────░─»\n",
       "«       └───┘ ░       ░  ░            ░            ░            ░            ░ »\n",
       "«q3_13: ──────░───────░──░────────────░────────────░────────────░────────────░─»\n",
       "«             ░       ░  ░            ░            ░            ░            ░ »\n",
       "«q3_14: ──────░───────░──░────────────░────────────░────────────░────────────░─»\n",
       "«             ░       ░  ░            ░            ░            ░            ░ »\n",
       "«                  ░           \n",
       "« q3_0: ───────■───░────────■──\n",
       "«              │   ░        │  \n",
       "« q3_1: ───────┼───░────────┼──\n",
       "«              │   ░        │  \n",
       "« q3_2: ───────┼───░────────┼──\n",
       "«              │   ░        │  \n",
       "« q3_3: ───────┼───░───■────┼──\n",
       "«              │   ░   │    │  \n",
       "« q3_4: ──■────┼───░───┼────┼──\n",
       "«         │    │   ░ ┌─┴─┐┌─┴─┐\n",
       "« q3_5: ──┼────┼───░─┤ X ├┤ X ├\n",
       "«       ┌─┴─┐┌─┴─┐ ░ └───┘└───┘\n",
       "« q3_6: ┤ X ├┤ X ├─░───────────\n",
       "«       └───┘└───┘ ░           \n",
       "« q3_7: ───────────░───────────\n",
       "«                  ░           \n",
       "« q3_8: ───────────░───────────\n",
       "«                  ░           \n",
       "« q3_9: ───────────░───────────\n",
       "«                  ░           \n",
       "«q3_10: ───────────░───────────\n",
       "«                  ░           \n",
       "«q3_11: ───────────░───────────\n",
       "«                  ░           \n",
       "«q3_12: ───────────░───────────\n",
       "«                  ░           \n",
       "«q3_13: ───────────░───────────\n",
       "«                  ░           \n",
       "«q3_14: ───────────░───────────\n",
       "«                  ░           "
      ]
     },
     "execution_count": 13,
     "metadata": {},
     "output_type": "execute_result"
    }
   ],
   "source": [
    "qr=QuantumRegister(15)\n",
    "qc=QuantumCircuit(qr)\n",
    "oracle(qc,qr).draw()"
   ]
  },
  {
   "cell_type": "code",
   "execution_count": 21,
   "id": "6dc9f465",
   "metadata": {},
   "outputs": [],
   "source": [
    "def grover_diffusion(qc,qr):\n",
    "    mcz = ZGate().control(4)\n",
    "    \n",
    "    qc.barrier()\n",
    "    qc.h(range(5))\n",
    "    qc.x(range(5))\n",
    "    qc.append(mcz,list(range(0,5)))\n",
    "    qc.x(range(5))\n",
    "    qc.h(range(5))\n",
    "    qc.barrier()\n",
    "    return qc"
   ]
  },
  {
   "cell_type": "code",
   "execution_count": 22,
   "id": "1adc184f",
   "metadata": {},
   "outputs": [
    {
     "data": {
      "text/html": [
       "<pre style=\"word-wrap: normal;white-space: pre;background: #fff0;line-height: 1.1;font-family: &quot;Courier New&quot;,Courier,monospace\">        ░ ┌───┐┌───┐   ┌───┐┌───┐ ░ \n",
       " q9_0: ─░─┤ H ├┤ X ├─■─┤ X ├┤ H ├─░─\n",
       "        ░ ├───┤├───┤ │ ├───┤├───┤ ░ \n",
       " q9_1: ─░─┤ H ├┤ X ├─■─┤ X ├┤ H ├─░─\n",
       "        ░ ├───┤├───┤ │ ├───┤├───┤ ░ \n",
       " q9_2: ─░─┤ H ├┤ X ├─■─┤ X ├┤ H ├─░─\n",
       "        ░ ├───┤├───┤ │ ├───┤├───┤ ░ \n",
       " q9_3: ─░─┤ H ├┤ X ├─■─┤ X ├┤ H ├─░─\n",
       "        ░ ├───┤├───┤ │ ├───┤├───┤ ░ \n",
       " q9_4: ─░─┤ H ├┤ X ├─■─┤ X ├┤ H ├─░─\n",
       "        ░ └───┘└───┘   └───┘└───┘ ░ \n",
       " q9_5: ─░─────────────────────────░─\n",
       "        ░                         ░ \n",
       " q9_6: ─░─────────────────────────░─\n",
       "        ░                         ░ \n",
       " q9_7: ─░─────────────────────────░─\n",
       "        ░                         ░ \n",
       " q9_8: ─░─────────────────────────░─\n",
       "        ░                         ░ \n",
       " q9_9: ─░─────────────────────────░─\n",
       "        ░                         ░ \n",
       "q9_10: ─░─────────────────────────░─\n",
       "        ░                         ░ \n",
       "q9_11: ─░─────────────────────────░─\n",
       "        ░                         ░ \n",
       "q9_12: ─░─────────────────────────░─\n",
       "        ░                         ░ \n",
       "q9_13: ─░─────────────────────────░─\n",
       "        ░                         ░ \n",
       "q9_14: ─░─────────────────────────░─\n",
       "        ░                         ░ </pre>"
      ],
      "text/plain": [
       "        ░ ┌───┐┌───┐   ┌───┐┌───┐ ░ \n",
       " q9_0: ─░─┤ H ├┤ X ├─■─┤ X ├┤ H ├─░─\n",
       "        ░ ├───┤├───┤ │ ├───┤├───┤ ░ \n",
       " q9_1: ─░─┤ H ├┤ X ├─■─┤ X ├┤ H ├─░─\n",
       "        ░ ├───┤├───┤ │ ├───┤├───┤ ░ \n",
       " q9_2: ─░─┤ H ├┤ X ├─■─┤ X ├┤ H ├─░─\n",
       "        ░ ├───┤├───┤ │ ├───┤├───┤ ░ \n",
       " q9_3: ─░─┤ H ├┤ X ├─■─┤ X ├┤ H ├─░─\n",
       "        ░ ├───┤├───┤ │ ├───┤├───┤ ░ \n",
       " q9_4: ─░─┤ H ├┤ X ├─■─┤ X ├┤ H ├─░─\n",
       "        ░ └───┘└───┘   └───┘└───┘ ░ \n",
       " q9_5: ─░─────────────────────────░─\n",
       "        ░                         ░ \n",
       " q9_6: ─░─────────────────────────░─\n",
       "        ░                         ░ \n",
       " q9_7: ─░─────────────────────────░─\n",
       "        ░                         ░ \n",
       " q9_8: ─░─────────────────────────░─\n",
       "        ░                         ░ \n",
       " q9_9: ─░─────────────────────────░─\n",
       "        ░                         ░ \n",
       "q9_10: ─░─────────────────────────░─\n",
       "        ░                         ░ \n",
       "q9_11: ─░─────────────────────────░─\n",
       "        ░                         ░ \n",
       "q9_12: ─░─────────────────────────░─\n",
       "        ░                         ░ \n",
       "q9_13: ─░─────────────────────────░─\n",
       "        ░                         ░ \n",
       "q9_14: ─░─────────────────────────░─\n",
       "        ░                         ░ "
      ]
     },
     "execution_count": 22,
     "metadata": {},
     "output_type": "execute_result"
    }
   ],
   "source": [
    "#qr=QuantumRegister(15)\n",
    "#qc=QuantumCircuit(qr)\n",
    "#grover_diffusion(qc,qr).draw()"
   ]
  },
  {
   "cell_type": "code",
   "execution_count": null,
   "id": "c3a11db1",
   "metadata": {},
   "outputs": [],
   "source": []
  },
  {
   "cell_type": "code",
   "execution_count": 23,
   "id": "7446d7fb",
   "metadata": {},
   "outputs": [],
   "source": [
    "def grover(qc,qr):\n",
    "    return grover_diffusion(oracle(qc,qr),qr)"
   ]
  },
  {
   "cell_type": "code",
   "execution_count": 24,
   "id": "599db910",
   "metadata": {},
   "outputs": [
    {
     "data": {
      "text/html": [
       "<pre style=\"word-wrap: normal;white-space: pre;background: #fff0;line-height: 1.1;font-family: &quot;Courier New&quot;,Courier,monospace\">                   ░            ░            ░            ░            ░      »\n",
       " q10_0: ──■────────░───■────────░────────────░────────────░────────────░──────»\n",
       "          │        ░   │        ░            ░            ░            ░      »\n",
       " q10_1: ──┼────────░───┼────────░───■────────░───■────────░────────────░──────»\n",
       "          │        ░   │        ░   │        ░   │        ░            ░      »\n",
       " q10_2: ──┼────────░───┼────────░───┼────────░───┼────────░───■────────░───■──»\n",
       "          │        ░   │        ░   │        ░   │        ░   │        ░   │  »\n",
       " q10_3: ──┼────■───░───┼────────░───┼────■───░───┼────────░───┼────■───░───┼──»\n",
       "          │    │   ░   │        ░   │    │   ░   │        ░   │    │   ░   │  »\n",
       " q10_4: ──┼────┼───░───┼────■───░───┼────┼───░───┼────■───░───┼────┼───░───┼──»\n",
       "        ┌─┴─┐┌─┴─┐ ░   │    │   ░   │    │   ░   │    │   ░   │    │   ░   │  »\n",
       " q10_5: ┤ X ├┤ X ├─░───┼────┼───░───┼────┼───░───┼────┼───░───┼────┼───░───┼──»\n",
       "        └───┘└───┘ ░ ┌─┴─┐┌─┴─┐ ░   │    │   ░   │    │   ░   │    │   ░   │  »\n",
       " q10_6: ───────────░─┤ X ├┤ X ├─░───┼────┼───░───┼────┼───░───┼────┼───░───┼──»\n",
       "                   ░ └───┘└───┘ ░ ┌─┴─┐┌─┴─┐ ░   │    │   ░   │    │   ░   │  »\n",
       " q10_7: ───────────░────────────░─┤ X ├┤ X ├─░───┼────┼───░───┼────┼───░───┼──»\n",
       "                   ░            ░ └───┘└───┘ ░ ┌─┴─┐┌─┴─┐ ░   │    │   ░   │  »\n",
       " q10_8: ───────────░────────────░────────────░─┤ X ├┤ X ├─░───┼────┼───░───┼──»\n",
       "                   ░            ░            ░ └───┘└───┘ ░ ┌─┴─┐┌─┴─┐ ░   │  »\n",
       " q10_9: ───────────░────────────░────────────░────────────░─┤ X ├┤ X ├─░───┼──»\n",
       "                   ░            ░            ░            ░ └───┘└───┘ ░ ┌─┴─┐»\n",
       "q10_10: ───────────░────────────░────────────░────────────░────────────░─┤ X ├»\n",
       "                   ░            ░            ░            ░            ░ └───┘»\n",
       "q10_11: ───────────░────────────░────────────░────────────░────────────░──────»\n",
       "                   ░            ░            ░            ░            ░      »\n",
       "q10_12: ───────────░────────────░────────────░────────────░────────────░──────»\n",
       "                   ░            ░            ░            ░            ░      »\n",
       "q10_13: ───────────░────────────░────────────░────────────░────────────░──────»\n",
       "                   ░            ░            ░            ░            ░      »\n",
       "q10_14: ───────────░────────────░────────────░────────────░────────────░──────»\n",
       "                   ░            ░            ░            ░            ░      »\n",
       "«              ░  ░       ░            ░            ░                 ░      »\n",
       "« q10_0: ──────░──░───────░────────────░────────────░─────────────────░──────»\n",
       "«              ░  ░       ░            ░            ░                 ░      »\n",
       "« q10_1: ──────░──░───────░────────────░────────────░─────────────────░──────»\n",
       "«              ░  ░       ░            ░            ░                 ░      »\n",
       "« q10_2: ──────░──░───────░────────────░────────────░─────────────────░──────»\n",
       "«              ░  ░       ░            ░            ░                 ░      »\n",
       "« q10_3: ──────░──░───────░────────────░────────────░─────────────────░──────»\n",
       "«              ░  ░       ░            ░            ░                 ░      »\n",
       "« q10_4: ──■───░──░───────░────────────░────────────░─────────────────░──────»\n",
       "«          │   ░  ░       ░            ░            ░                 ░      »\n",
       "« q10_5: ──┼───░──░───■───░────────────░────────────░─────────────────░──────»\n",
       "«          │   ░  ░   │   ░            ░            ░                 ░      »\n",
       "« q10_6: ──┼───░──░───┼───░───■────■───░────────────░─────────────────░──────»\n",
       "«          │   ░  ░   │   ░   │    │   ░            ░                 ░      »\n",
       "« q10_7: ──┼───░──░───┼───░───┼────┼───░───■────■───░─────────────────░──────»\n",
       "«          │   ░  ░   │   ░   │    │   ░   │    │   ░                 ░      »\n",
       "« q10_8: ──┼───░──░───┼───░───┼────┼───░───┼────┼───░───■────■────■───░──────»\n",
       "«          │   ░  ░   │   ░   │    │   ░   │    │   ░   │    │    │   ░      »\n",
       "« q10_9: ──┼───░──░───┼───░───┼────┼───░───┼────┼───░───┼────┼────┼───░───■──»\n",
       "«        ┌─┴─┐ ░  ░   │   ░   │    │   ░   │    │   ░   │    │    │   ░   │  »\n",
       "«q10_10: ┤ X ├─░──░───┼───░───┼────┼───░───┼────┼───░───┼────┼────┼───░───┼──»\n",
       "«        └───┘ ░  ░ ┌─┴─┐ ░   │  ┌─┴─┐ ░   │  ┌─┴─┐ ░   │    │  ┌─┴─┐ ░   │  »\n",
       "«q10_11: ──────░──░─┤ X ├─░───■──┤ X ├─░───■──┤ X ├─░───■────■──┤ X ├─░───■──»\n",
       "«              ░  ░ └───┘ ░ ┌─┴─┐└───┘ ░ ┌─┴─┐└───┘ ░   │  ┌─┴─┐└───┘ ░   │  »\n",
       "«q10_12: ──────░──░───────░─┤ X ├──────░─┤ X ├──────░───■──┤ X ├──────░───■──»\n",
       "«              ░  ░       ░ └───┘      ░ └───┘      ░ ┌─┴─┐└───┘      ░ ┌─┴─┐»\n",
       "«q10_13: ──────░──░───────░────────────░────────────░─┤ X ├───────────░─┤ X ├»\n",
       "«              ░  ░       ░            ░            ░ └───┘           ░ └───┘»\n",
       "«q10_14: ──────░──░───────░────────────░────────────░─────────────────░──────»\n",
       "«              ░  ░       ░            ░            ░                 ░      »\n",
       "«                   ░                 ░       ░                 ░       ░      »\n",
       "« q10_0: ───────────░─────────────────░───────░─────────────────░───────░──────»\n",
       "«                   ░                 ░       ░                 ░       ░      »\n",
       "« q10_1: ───────────░─────────────────░───────░─────────────────░───────░──────»\n",
       "«                   ░                 ░       ░                 ░       ░      »\n",
       "« q10_2: ───────────░─────────────────░───────░─────────────────░───────░──────»\n",
       "«                   ░                 ░       ░                 ░       ░      »\n",
       "« q10_3: ───────────░─────────────────░───────░─────────────────░───────░──────»\n",
       "«                   ░                 ░       ░                 ░       ░      »\n",
       "« q10_4: ───────────░─────────────────░───────░─────────────────░───────░──────»\n",
       "«                   ░                 ░       ░                 ░       ░      »\n",
       "« q10_5: ───────────░─────────────────░───────░─────────────────░───────░──────»\n",
       "«                   ░                 ░       ░                 ░       ░      »\n",
       "« q10_6: ───────────░─────────────────░───────░─────────────────░───────░──────»\n",
       "«                   ░                 ░       ░                 ░       ░      »\n",
       "« q10_7: ───────────░─────────────────░───────░─────────────────░───────░──────»\n",
       "«                   ░                 ░       ░                 ░       ░      »\n",
       "« q10_8: ───────────░─────────────────░───────░─────────────────░───────░──────»\n",
       "«                   ░                 ░       ░                 ░       ░      »\n",
       "« q10_9: ──■────■───░─────────────────░───────░─────────────────░───────░──────»\n",
       "«          │    │   ░                 ░       ░                 ░       ░      »\n",
       "«q10_10: ──┼────┼───░───■────■────■───░───────░─────────────────░───────░───■──»\n",
       "«          │  ┌─┴─┐ ░   │    │  ┌─┴─┐ ░ ┌───┐ ░                 ░ ┌───┐ ░ ┌─┴─┐»\n",
       "«q10_11: ──■──┤ X ├─░───■────■──┤ X ├─░─┤ X ├─░───■─────────■───░─┤ X ├─░─┤ X ├»\n",
       "«        ┌─┴─┐└───┘ ░   │  ┌─┴─┐└───┘ ░ ├───┤ ░   │         │   ░ ├───┤ ░ └───┘»\n",
       "«q10_12: ┤ X ├──────░───■──┤ X ├──────░─┤ X ├─░───■─────────■───░─┤ X ├─░──────»\n",
       "«        └───┘      ░ ┌─┴─┐└───┘      ░ └───┘ ░   │         │   ░ └───┘ ░      »\n",
       "«q10_13: ───────────░─┤ X ├───────────░───────░───■─────────■───░───────░──────»\n",
       "«                   ░ └───┘           ░       ░ ┌─┴─┐┌───┐┌─┴─┐ ░       ░      »\n",
       "«q10_14: ───────────░─────────────────░───────░─┤ X ├┤ Z ├┤ X ├─░───────░──────»\n",
       "«                   ░                 ░       ░ └───┘└───┘└───┘ ░       ░      »\n",
       "«                   ░                 ░                 ░            ░      »\n",
       "« q10_0: ───────────░─────────────────░─────────────────░────────────░──────»\n",
       "«                   ░                 ░                 ░            ░      »\n",
       "« q10_1: ───────────░─────────────────░─────────────────░────────────░──────»\n",
       "«                   ░                 ░                 ░            ░      »\n",
       "« q10_2: ───────────░─────────────────░─────────────────░────────────░──────»\n",
       "«                   ░                 ░                 ░            ░      »\n",
       "« q10_3: ───────────░─────────────────░─────────────────░────────────░──────»\n",
       "«                   ░                 ░                 ░            ░      »\n",
       "« q10_4: ───────────░─────────────────░─────────────────░────────────░──────»\n",
       "«                   ░                 ░                 ░            ░      »\n",
       "« q10_5: ───────────░─────────────────░─────────────────░────────────░──────»\n",
       "«                   ░                 ░                 ░            ░      »\n",
       "« q10_6: ───────────░─────────────────░─────────────────░────────────░───■──»\n",
       "«                   ░                 ░                 ░            ░   │  »\n",
       "« q10_7: ───────────░─────────────────░─────────────────░───■────■───░───┼──»\n",
       "«                   ░                 ░                 ░   │    │   ░   │  »\n",
       "« q10_8: ───────────░─────────────────░───■────■────■───░───┼────┼───░───┼──»\n",
       "«                   ░                 ░   │    │    │   ░   │    │   ░   │  »\n",
       "« q10_9: ───────────░───■────■────■───░───┼────┼────┼───░───┼────┼───░───┼──»\n",
       "«                   ░   │    │    │   ░   │    │    │   ░   │    │   ░   │  »\n",
       "«q10_10: ──■────■───░───┼────┼────┼───░───┼────┼────┼───░───┼────┼───░───┼──»\n",
       "«          │    │   ░ ┌─┴─┐  │    │   ░ ┌─┴─┐  │    │   ░ ┌─┴─┐  │   ░ ┌─┴─┐»\n",
       "«q10_11: ──■────■───░─┤ X ├──■────■───░─┤ X ├──■────■───░─┤ X ├──■───░─┤ X ├»\n",
       "«        ┌─┴─┐  │   ░ └───┘┌─┴─┐  │   ░ └───┘┌─┴─┐  │   ░ └───┘┌─┴─┐ ░ └───┘»\n",
       "«q10_12: ┤ X ├──■───░──────┤ X ├──■───░──────┤ X ├──■───░──────┤ X ├─░──────»\n",
       "«        └───┘┌─┴─┐ ░      └───┘┌─┴─┐ ░      └───┘┌─┴─┐ ░      └───┘ ░      »\n",
       "«q10_13: ─────┤ X ├─░───────────┤ X ├─░───────────┤ X ├─░────────────░──────»\n",
       "«             └───┘ ░           └───┘ ░           └───┘ ░            ░      »\n",
       "«q10_14: ───────────░─────────────────░─────────────────░────────────░──────»\n",
       "«                   ░                 ░                 ░            ░      »\n",
       "«              ░       ░  ░            ░            ░            ░           »\n",
       "« q10_0: ──────░───────░──░────────────░────────────░────────────░───────────»\n",
       "«              ░       ░  ░            ░            ░            ░           »\n",
       "« q10_1: ──────░───────░──░────────────░────────────░────────■───░────────■──»\n",
       "«              ░       ░  ░            ░            ░        │   ░        │  »\n",
       "« q10_2: ──────░───────░──░────────■───░────────■───░────────┼───░────────┼──»\n",
       "«              ░       ░  ░        │   ░        │   ░        │   ░        │  »\n",
       "« q10_3: ──────░───────░──░────────┼───░───■────┼───░────────┼───░───■────┼──»\n",
       "«              ░       ░  ░        │   ░   │    │   ░        │   ░   │    │  »\n",
       "« q10_4: ──────░───────░──░───■────┼───░───┼────┼───░───■────┼───░───┼────┼──»\n",
       "«              ░       ░  ░   │    │   ░   │    │   ░   │    │   ░   │    │  »\n",
       "« q10_5: ──────░───■───░──░───┼────┼───░───┼────┼───░───┼────┼───░───┼────┼──»\n",
       "«              ░   │   ░  ░   │    │   ░   │    │   ░   │    │   ░   │    │  »\n",
       "« q10_6: ──■───░───┼───░──░───┼────┼───░───┼────┼───░───┼────┼───░───┼────┼──»\n",
       "«          │   ░   │   ░  ░   │    │   ░   │    │   ░   │    │   ░ ┌─┴─┐┌─┴─┐»\n",
       "« q10_7: ──┼───░───┼───░──░───┼────┼───░───┼────┼───░───┼────┼───░─┤ X ├┤ X ├»\n",
       "«          │   ░   │   ░  ░   │    │   ░   │    │   ░ ┌─┴─┐┌─┴─┐ ░ └───┘└───┘»\n",
       "« q10_8: ──┼───░───┼───░──░───┼────┼───░───┼────┼───░─┤ X ├┤ X ├─░───────────»\n",
       "«          │   ░   │   ░  ░   │    │   ░ ┌─┴─┐┌─┴─┐ ░ └───┘└───┘ ░           »\n",
       "« q10_9: ──┼───░───┼───░──░───┼────┼───░─┤ X ├┤ X ├─░────────────░───────────»\n",
       "«          │   ░   │   ░  ░ ┌─┴─┐┌─┴─┐ ░ └───┘└───┘ ░            ░           »\n",
       "«q10_10: ──┼───░───┼───░──░─┤ X ├┤ X ├─░────────────░────────────░───────────»\n",
       "«          │   ░ ┌─┴─┐ ░  ░ └───┘└───┘ ░            ░            ░           »\n",
       "«q10_11: ──■───░─┤ X ├─░──░────────────░────────────░────────────░───────────»\n",
       "«        ┌─┴─┐ ░ └───┘ ░  ░            ░            ░            ░           »\n",
       "«q10_12: ┤ X ├─░───────░──░────────────░────────────░────────────░───────────»\n",
       "«        └───┘ ░       ░  ░            ░            ░            ░           »\n",
       "«q10_13: ──────░───────░──░────────────░────────────░────────────░───────────»\n",
       "«              ░       ░  ░            ░            ░            ░           »\n",
       "«q10_14: ──────░───────░──░────────────░────────────░────────────░───────────»\n",
       "«              ░       ░  ░            ░            ░            ░           »\n",
       "«         ░            ░            ░ ┌───┐┌───┐   ┌───┐┌───┐ ░ \n",
       "« q10_0: ─░────────■───░────────■───░─┤ H ├┤ X ├─■─┤ X ├┤ H ├─░─\n",
       "«         ░        │   ░        │   ░ ├───┤├───┤ │ ├───┤├───┤ ░ \n",
       "« q10_1: ─░────────┼───░────────┼───░─┤ H ├┤ X ├─■─┤ X ├┤ H ├─░─\n",
       "«         ░        │   ░        │   ░ ├───┤├───┤ │ ├───┤├───┤ ░ \n",
       "« q10_2: ─░────────┼───░────────┼───░─┤ H ├┤ X ├─■─┤ X ├┤ H ├─░─\n",
       "«         ░        │   ░        │   ░ ├───┤├───┤ │ ├───┤├───┤ ░ \n",
       "« q10_3: ─░────────┼───░───■────┼───░─┤ H ├┤ X ├─■─┤ X ├┤ H ├─░─\n",
       "«         ░        │   ░   │    │   ░ ├───┤├───┤ │ ├───┤├───┤ ░ \n",
       "« q10_4: ─░───■────┼───░───┼────┼───░─┤ H ├┤ X ├─■─┤ X ├┤ H ├─░─\n",
       "«         ░   │    │   ░ ┌─┴─┐┌─┴─┐ ░ └───┘└───┘   └───┘└───┘ ░ \n",
       "« q10_5: ─░───┼────┼───░─┤ X ├┤ X ├─░─────────────────────────░─\n",
       "«         ░ ┌─┴─┐┌─┴─┐ ░ └───┘└───┘ ░                         ░ \n",
       "« q10_6: ─░─┤ X ├┤ X ├─░────────────░─────────────────────────░─\n",
       "«         ░ └───┘└───┘ ░            ░                         ░ \n",
       "« q10_7: ─░────────────░────────────░─────────────────────────░─\n",
       "«         ░            ░            ░                         ░ \n",
       "« q10_8: ─░────────────░────────────░─────────────────────────░─\n",
       "«         ░            ░            ░                         ░ \n",
       "« q10_9: ─░────────────░────────────░─────────────────────────░─\n",
       "«         ░            ░            ░                         ░ \n",
       "«q10_10: ─░────────────░────────────░─────────────────────────░─\n",
       "«         ░            ░            ░                         ░ \n",
       "«q10_11: ─░────────────░────────────░─────────────────────────░─\n",
       "«         ░            ░            ░                         ░ \n",
       "«q10_12: ─░────────────░────────────░─────────────────────────░─\n",
       "«         ░            ░            ░                         ░ \n",
       "«q10_13: ─░────────────░────────────░─────────────────────────░─\n",
       "«         ░            ░            ░                         ░ \n",
       "«q10_14: ─░────────────░────────────░─────────────────────────░─\n",
       "«         ░            ░            ░                         ░ </pre>"
      ],
      "text/plain": [
       "                   ░            ░            ░            ░            ░      »\n",
       " q10_0: ──■────────░───■────────░────────────░────────────░────────────░──────»\n",
       "          │        ░   │        ░            ░            ░            ░      »\n",
       " q10_1: ──┼────────░───┼────────░───■────────░───■────────░────────────░──────»\n",
       "          │        ░   │        ░   │        ░   │        ░            ░      »\n",
       " q10_2: ──┼────────░───┼────────░───┼────────░───┼────────░───■────────░───■──»\n",
       "          │        ░   │        ░   │        ░   │        ░   │        ░   │  »\n",
       " q10_3: ──┼────■───░───┼────────░───┼────■───░───┼────────░───┼────■───░───┼──»\n",
       "          │    │   ░   │        ░   │    │   ░   │        ░   │    │   ░   │  »\n",
       " q10_4: ──┼────┼───░───┼────■───░───┼────┼───░───┼────■───░───┼────┼───░───┼──»\n",
       "        ┌─┴─┐┌─┴─┐ ░   │    │   ░   │    │   ░   │    │   ░   │    │   ░   │  »\n",
       " q10_5: ┤ X ├┤ X ├─░───┼────┼───░───┼────┼───░───┼────┼───░───┼────┼───░───┼──»\n",
       "        └───┘└───┘ ░ ┌─┴─┐┌─┴─┐ ░   │    │   ░   │    │   ░   │    │   ░   │  »\n",
       " q10_6: ───────────░─┤ X ├┤ X ├─░───┼────┼───░───┼────┼───░───┼────┼───░───┼──»\n",
       "                   ░ └───┘└───┘ ░ ┌─┴─┐┌─┴─┐ ░   │    │   ░   │    │   ░   │  »\n",
       " q10_7: ───────────░────────────░─┤ X ├┤ X ├─░───┼────┼───░───┼────┼───░───┼──»\n",
       "                   ░            ░ └───┘└───┘ ░ ┌─┴─┐┌─┴─┐ ░   │    │   ░   │  »\n",
       " q10_8: ───────────░────────────░────────────░─┤ X ├┤ X ├─░───┼────┼───░───┼──»\n",
       "                   ░            ░            ░ └───┘└───┘ ░ ┌─┴─┐┌─┴─┐ ░   │  »\n",
       " q10_9: ───────────░────────────░────────────░────────────░─┤ X ├┤ X ├─░───┼──»\n",
       "                   ░            ░            ░            ░ └───┘└───┘ ░ ┌─┴─┐»\n",
       "q10_10: ───────────░────────────░────────────░────────────░────────────░─┤ X ├»\n",
       "                   ░            ░            ░            ░            ░ └───┘»\n",
       "q10_11: ───────────░────────────░────────────░────────────░────────────░──────»\n",
       "                   ░            ░            ░            ░            ░      »\n",
       "q10_12: ───────────░────────────░────────────░────────────░────────────░──────»\n",
       "                   ░            ░            ░            ░            ░      »\n",
       "q10_13: ───────────░────────────░────────────░────────────░────────────░──────»\n",
       "                   ░            ░            ░            ░            ░      »\n",
       "q10_14: ───────────░────────────░────────────░────────────░────────────░──────»\n",
       "                   ░            ░            ░            ░            ░      »\n",
       "«              ░  ░       ░            ░            ░                 ░      »\n",
       "« q10_0: ──────░──░───────░────────────░────────────░─────────────────░──────»\n",
       "«              ░  ░       ░            ░            ░                 ░      »\n",
       "« q10_1: ──────░──░───────░────────────░────────────░─────────────────░──────»\n",
       "«              ░  ░       ░            ░            ░                 ░      »\n",
       "« q10_2: ──────░──░───────░────────────░────────────░─────────────────░──────»\n",
       "«              ░  ░       ░            ░            ░                 ░      »\n",
       "« q10_3: ──────░──░───────░────────────░────────────░─────────────────░──────»\n",
       "«              ░  ░       ░            ░            ░                 ░      »\n",
       "« q10_4: ──■───░──░───────░────────────░────────────░─────────────────░──────»\n",
       "«          │   ░  ░       ░            ░            ░                 ░      »\n",
       "« q10_5: ──┼───░──░───■───░────────────░────────────░─────────────────░──────»\n",
       "«          │   ░  ░   │   ░            ░            ░                 ░      »\n",
       "« q10_6: ──┼───░──░───┼───░───■────■───░────────────░─────────────────░──────»\n",
       "«          │   ░  ░   │   ░   │    │   ░            ░                 ░      »\n",
       "« q10_7: ──┼───░──░───┼───░───┼────┼───░───■────■───░─────────────────░──────»\n",
       "«          │   ░  ░   │   ░   │    │   ░   │    │   ░                 ░      »\n",
       "« q10_8: ──┼───░──░───┼───░───┼────┼───░───┼────┼───░───■────■────■───░──────»\n",
       "«          │   ░  ░   │   ░   │    │   ░   │    │   ░   │    │    │   ░      »\n",
       "« q10_9: ──┼───░──░───┼───░───┼────┼───░───┼────┼───░───┼────┼────┼───░───■──»\n",
       "«        ┌─┴─┐ ░  ░   │   ░   │    │   ░   │    │   ░   │    │    │   ░   │  »\n",
       "«q10_10: ┤ X ├─░──░───┼───░───┼────┼───░───┼────┼───░───┼────┼────┼───░───┼──»\n",
       "«        └───┘ ░  ░ ┌─┴─┐ ░   │  ┌─┴─┐ ░   │  ┌─┴─┐ ░   │    │  ┌─┴─┐ ░   │  »\n",
       "«q10_11: ──────░──░─┤ X ├─░───■──┤ X ├─░───■──┤ X ├─░───■────■──┤ X ├─░───■──»\n",
       "«              ░  ░ └───┘ ░ ┌─┴─┐└───┘ ░ ┌─┴─┐└───┘ ░   │  ┌─┴─┐└───┘ ░   │  »\n",
       "«q10_12: ──────░──░───────░─┤ X ├──────░─┤ X ├──────░───■──┤ X ├──────░───■──»\n",
       "«              ░  ░       ░ └───┘      ░ └───┘      ░ ┌─┴─┐└───┘      ░ ┌─┴─┐»\n",
       "«q10_13: ──────░──░───────░────────────░────────────░─┤ X ├───────────░─┤ X ├»\n",
       "«              ░  ░       ░            ░            ░ └───┘           ░ └───┘»\n",
       "«q10_14: ──────░──░───────░────────────░────────────░─────────────────░──────»\n",
       "«              ░  ░       ░            ░            ░                 ░      »\n",
       "«                   ░                 ░       ░                 ░       ░      »\n",
       "« q10_0: ───────────░─────────────────░───────░─────────────────░───────░──────»\n",
       "«                   ░                 ░       ░                 ░       ░      »\n",
       "« q10_1: ───────────░─────────────────░───────░─────────────────░───────░──────»\n",
       "«                   ░                 ░       ░                 ░       ░      »\n",
       "« q10_2: ───────────░─────────────────░───────░─────────────────░───────░──────»\n",
       "«                   ░                 ░       ░                 ░       ░      »\n",
       "« q10_3: ───────────░─────────────────░───────░─────────────────░───────░──────»\n",
       "«                   ░                 ░       ░                 ░       ░      »\n",
       "« q10_4: ───────────░─────────────────░───────░─────────────────░───────░──────»\n",
       "«                   ░                 ░       ░                 ░       ░      »\n",
       "« q10_5: ───────────░─────────────────░───────░─────────────────░───────░──────»\n",
       "«                   ░                 ░       ░                 ░       ░      »\n",
       "« q10_6: ───────────░─────────────────░───────░─────────────────░───────░──────»\n",
       "«                   ░                 ░       ░                 ░       ░      »\n",
       "« q10_7: ───────────░─────────────────░───────░─────────────────░───────░──────»\n",
       "«                   ░                 ░       ░                 ░       ░      »\n",
       "« q10_8: ───────────░─────────────────░───────░─────────────────░───────░──────»\n",
       "«                   ░                 ░       ░                 ░       ░      »\n",
       "« q10_9: ──■────■───░─────────────────░───────░─────────────────░───────░──────»\n",
       "«          │    │   ░                 ░       ░                 ░       ░      »\n",
       "«q10_10: ──┼────┼───░───■────■────■───░───────░─────────────────░───────░───■──»\n",
       "«          │  ┌─┴─┐ ░   │    │  ┌─┴─┐ ░ ┌───┐ ░                 ░ ┌───┐ ░ ┌─┴─┐»\n",
       "«q10_11: ──■──┤ X ├─░───■────■──┤ X ├─░─┤ X ├─░───■─────────■───░─┤ X ├─░─┤ X ├»\n",
       "«        ┌─┴─┐└───┘ ░   │  ┌─┴─┐└───┘ ░ ├───┤ ░   │         │   ░ ├───┤ ░ └───┘»\n",
       "«q10_12: ┤ X ├──────░───■──┤ X ├──────░─┤ X ├─░───■─────────■───░─┤ X ├─░──────»\n",
       "«        └───┘      ░ ┌─┴─┐└───┘      ░ └───┘ ░   │         │   ░ └───┘ ░      »\n",
       "«q10_13: ───────────░─┤ X ├───────────░───────░───■─────────■───░───────░──────»\n",
       "«                   ░ └───┘           ░       ░ ┌─┴─┐┌───┐┌─┴─┐ ░       ░      »\n",
       "«q10_14: ───────────░─────────────────░───────░─┤ X ├┤ Z ├┤ X ├─░───────░──────»\n",
       "«                   ░                 ░       ░ └───┘└───┘└───┘ ░       ░      »\n",
       "«                   ░                 ░                 ░            ░      »\n",
       "« q10_0: ───────────░─────────────────░─────────────────░────────────░──────»\n",
       "«                   ░                 ░                 ░            ░      »\n",
       "« q10_1: ───────────░─────────────────░─────────────────░────────────░──────»\n",
       "«                   ░                 ░                 ░            ░      »\n",
       "« q10_2: ───────────░─────────────────░─────────────────░────────────░──────»\n",
       "«                   ░                 ░                 ░            ░      »\n",
       "« q10_3: ───────────░─────────────────░─────────────────░────────────░──────»\n",
       "«                   ░                 ░                 ░            ░      »\n",
       "« q10_4: ───────────░─────────────────░─────────────────░────────────░──────»\n",
       "«                   ░                 ░                 ░            ░      »\n",
       "« q10_5: ───────────░─────────────────░─────────────────░────────────░──────»\n",
       "«                   ░                 ░                 ░            ░      »\n",
       "« q10_6: ───────────░─────────────────░─────────────────░────────────░───■──»\n",
       "«                   ░                 ░                 ░            ░   │  »\n",
       "« q10_7: ───────────░─────────────────░─────────────────░───■────■───░───┼──»\n",
       "«                   ░                 ░                 ░   │    │   ░   │  »\n",
       "« q10_8: ───────────░─────────────────░───■────■────■───░───┼────┼───░───┼──»\n",
       "«                   ░                 ░   │    │    │   ░   │    │   ░   │  »\n",
       "« q10_9: ───────────░───■────■────■───░───┼────┼────┼───░───┼────┼───░───┼──»\n",
       "«                   ░   │    │    │   ░   │    │    │   ░   │    │   ░   │  »\n",
       "«q10_10: ──■────■───░───┼────┼────┼───░───┼────┼────┼───░───┼────┼───░───┼──»\n",
       "«          │    │   ░ ┌─┴─┐  │    │   ░ ┌─┴─┐  │    │   ░ ┌─┴─┐  │   ░ ┌─┴─┐»\n",
       "«q10_11: ──■────■───░─┤ X ├──■────■───░─┤ X ├──■────■───░─┤ X ├──■───░─┤ X ├»\n",
       "«        ┌─┴─┐  │   ░ └───┘┌─┴─┐  │   ░ └───┘┌─┴─┐  │   ░ └───┘┌─┴─┐ ░ └───┘»\n",
       "«q10_12: ┤ X ├──■───░──────┤ X ├──■───░──────┤ X ├──■───░──────┤ X ├─░──────»\n",
       "«        └───┘┌─┴─┐ ░      └───┘┌─┴─┐ ░      └───┘┌─┴─┐ ░      └───┘ ░      »\n",
       "«q10_13: ─────┤ X ├─░───────────┤ X ├─░───────────┤ X ├─░────────────░──────»\n",
       "«             └───┘ ░           └───┘ ░           └───┘ ░            ░      »\n",
       "«q10_14: ───────────░─────────────────░─────────────────░────────────░──────»\n",
       "«                   ░                 ░                 ░            ░      »\n",
       "«              ░       ░  ░            ░            ░            ░           »\n",
       "« q10_0: ──────░───────░──░────────────░────────────░────────────░───────────»\n",
       "«              ░       ░  ░            ░            ░            ░           »\n",
       "« q10_1: ──────░───────░──░────────────░────────────░────────■───░────────■──»\n",
       "«              ░       ░  ░            ░            ░        │   ░        │  »\n",
       "« q10_2: ──────░───────░──░────────■───░────────■───░────────┼───░────────┼──»\n",
       "«              ░       ░  ░        │   ░        │   ░        │   ░        │  »\n",
       "« q10_3: ──────░───────░──░────────┼───░───■────┼───░────────┼───░───■────┼──»\n",
       "«              ░       ░  ░        │   ░   │    │   ░        │   ░   │    │  »\n",
       "« q10_4: ──────░───────░──░───■────┼───░───┼────┼───░───■────┼───░───┼────┼──»\n",
       "«              ░       ░  ░   │    │   ░   │    │   ░   │    │   ░   │    │  »\n",
       "« q10_5: ──────░───■───░──░───┼────┼───░───┼────┼───░───┼────┼───░───┼────┼──»\n",
       "«              ░   │   ░  ░   │    │   ░   │    │   ░   │    │   ░   │    │  »\n",
       "« q10_6: ──■───░───┼───░──░───┼────┼───░───┼────┼───░───┼────┼───░───┼────┼──»\n",
       "«          │   ░   │   ░  ░   │    │   ░   │    │   ░   │    │   ░ ┌─┴─┐┌─┴─┐»\n",
       "« q10_7: ──┼───░───┼───░──░───┼────┼───░───┼────┼───░───┼────┼───░─┤ X ├┤ X ├»\n",
       "«          │   ░   │   ░  ░   │    │   ░   │    │   ░ ┌─┴─┐┌─┴─┐ ░ └───┘└───┘»\n",
       "« q10_8: ──┼───░───┼───░──░───┼────┼───░───┼────┼───░─┤ X ├┤ X ├─░───────────»\n",
       "«          │   ░   │   ░  ░   │    │   ░ ┌─┴─┐┌─┴─┐ ░ └───┘└───┘ ░           »\n",
       "« q10_9: ──┼───░───┼───░──░───┼────┼───░─┤ X ├┤ X ├─░────────────░───────────»\n",
       "«          │   ░   │   ░  ░ ┌─┴─┐┌─┴─┐ ░ └───┘└───┘ ░            ░           »\n",
       "«q10_10: ──┼───░───┼───░──░─┤ X ├┤ X ├─░────────────░────────────░───────────»\n",
       "«          │   ░ ┌─┴─┐ ░  ░ └───┘└───┘ ░            ░            ░           »\n",
       "«q10_11: ──■───░─┤ X ├─░──░────────────░────────────░────────────░───────────»\n",
       "«        ┌─┴─┐ ░ └───┘ ░  ░            ░            ░            ░           »\n",
       "«q10_12: ┤ X ├─░───────░──░────────────░────────────░────────────░───────────»\n",
       "«        └───┘ ░       ░  ░            ░            ░            ░           »\n",
       "«q10_13: ──────░───────░──░────────────░────────────░────────────░───────────»\n",
       "«              ░       ░  ░            ░            ░            ░           »\n",
       "«q10_14: ──────░───────░──░────────────░────────────░────────────░───────────»\n",
       "«              ░       ░  ░            ░            ░            ░           »\n",
       "«         ░            ░            ░ ┌───┐┌───┐   ┌───┐┌───┐ ░ \n",
       "« q10_0: ─░────────■───░────────■───░─┤ H ├┤ X ├─■─┤ X ├┤ H ├─░─\n",
       "«         ░        │   ░        │   ░ ├───┤├───┤ │ ├───┤├───┤ ░ \n",
       "« q10_1: ─░────────┼───░────────┼───░─┤ H ├┤ X ├─■─┤ X ├┤ H ├─░─\n",
       "«         ░        │   ░        │   ░ ├───┤├───┤ │ ├───┤├───┤ ░ \n",
       "« q10_2: ─░────────┼───░────────┼───░─┤ H ├┤ X ├─■─┤ X ├┤ H ├─░─\n",
       "«         ░        │   ░        │   ░ ├───┤├───┤ │ ├───┤├───┤ ░ \n",
       "« q10_3: ─░────────┼───░───■────┼───░─┤ H ├┤ X ├─■─┤ X ├┤ H ├─░─\n",
       "«         ░        │   ░   │    │   ░ ├───┤├───┤ │ ├───┤├───┤ ░ \n",
       "« q10_4: ─░───■────┼───░───┼────┼───░─┤ H ├┤ X ├─■─┤ X ├┤ H ├─░─\n",
       "«         ░   │    │   ░ ┌─┴─┐┌─┴─┐ ░ └───┘└───┘   └───┘└───┘ ░ \n",
       "« q10_5: ─░───┼────┼───░─┤ X ├┤ X ├─░─────────────────────────░─\n",
       "«         ░ ┌─┴─┐┌─┴─┐ ░ └───┘└───┘ ░                         ░ \n",
       "« q10_6: ─░─┤ X ├┤ X ├─░────────────░─────────────────────────░─\n",
       "«         ░ └───┘└───┘ ░            ░                         ░ \n",
       "« q10_7: ─░────────────░────────────░─────────────────────────░─\n",
       "«         ░            ░            ░                         ░ \n",
       "« q10_8: ─░────────────░────────────░─────────────────────────░─\n",
       "«         ░            ░            ░                         ░ \n",
       "« q10_9: ─░────────────░────────────░─────────────────────────░─\n",
       "«         ░            ░            ░                         ░ \n",
       "«q10_10: ─░────────────░────────────░─────────────────────────░─\n",
       "«         ░            ░            ░                         ░ \n",
       "«q10_11: ─░────────────░────────────░─────────────────────────░─\n",
       "«         ░            ░            ░                         ░ \n",
       "«q10_12: ─░────────────░────────────░─────────────────────────░─\n",
       "«         ░            ░            ░                         ░ \n",
       "«q10_13: ─░────────────░────────────░─────────────────────────░─\n",
       "«         ░            ░            ░                         ░ \n",
       "«q10_14: ─░────────────░────────────░─────────────────────────░─\n",
       "«         ░            ░            ░                         ░ "
      ]
     },
     "execution_count": 24,
     "metadata": {},
     "output_type": "execute_result"
    }
   ],
   "source": [
    "qr=QuantumRegister(15)\n",
    "qc=QuantumCircuit(qr)\n",
    "grover(qc,qr).draw()"
   ]
  },
  {
   "cell_type": "markdown",
   "id": "7cdff246",
   "metadata": {},
   "source": [
    "# Implementando el algoritmo"
   ]
  },
  {
   "cell_type": "code",
   "execution_count": 25,
   "id": "43417691",
   "metadata": {},
   "outputs": [
    {
     "data": {
      "text/html": [
       "<pre style=\"word-wrap: normal;white-space: pre;background: #fff0;line-height: 1.1;font-family: &quot;Courier New&quot;,Courier,monospace\">        ┌───┐           ░            ░            ░            ░            ░ »\n",
       " q12_0: ┤ H ├──■────────░───■────────░────────────░────────────░────────────░─»\n",
       "        ├───┤  │        ░   │        ░            ░            ░            ░ »\n",
       " q12_1: ┤ H ├──┼────────░───┼────────░───■────────░───■────────░────────────░─»\n",
       "        ├───┤  │        ░   │        ░   │        ░   │        ░            ░ »\n",
       " q12_2: ┤ H ├──┼────────░───┼────────░───┼────────░───┼────────░───■────────░─»\n",
       "        ├───┤  │        ░   │        ░   │        ░   │        ░   │        ░ »\n",
       " q12_3: ┤ H ├──┼────■───░───┼────────░───┼────■───░───┼────────░───┼────■───░─»\n",
       "        ├───┤  │    │   ░   │        ░   │    │   ░   │        ░   │    │   ░ »\n",
       " q12_4: ┤ H ├──┼────┼───░───┼────■───░───┼────┼───░───┼────■───░───┼────┼───░─»\n",
       "        └───┘┌─┴─┐┌─┴─┐ ░   │    │   ░   │    │   ░   │    │   ░   │    │   ░ »\n",
       " q12_5: ─────┤ X ├┤ X ├─░───┼────┼───░───┼────┼───░───┼────┼───░───┼────┼───░─»\n",
       "             └───┘└───┘ ░ ┌─┴─┐┌─┴─┐ ░   │    │   ░   │    │   ░   │    │   ░ »\n",
       " q12_6: ────────────────░─┤ X ├┤ X ├─░───┼────┼───░───┼────┼───░───┼────┼───░─»\n",
       "                        ░ └───┘└───┘ ░ ┌─┴─┐┌─┴─┐ ░   │    │   ░   │    │   ░ »\n",
       " q12_7: ────────────────░────────────░─┤ X ├┤ X ├─░───┼────┼───░───┼────┼───░─»\n",
       "                        ░            ░ └───┘└───┘ ░ ┌─┴─┐┌─┴─┐ ░   │    │   ░ »\n",
       " q12_8: ────────────────░────────────░────────────░─┤ X ├┤ X ├─░───┼────┼───░─»\n",
       "                        ░            ░            ░ └───┘└───┘ ░ ┌─┴─┐┌─┴─┐ ░ »\n",
       " q12_9: ────────────────░────────────░────────────░────────────░─┤ X ├┤ X ├─░─»\n",
       "                        ░            ░            ░            ░ └───┘└───┘ ░ »\n",
       "q12_10: ────────────────░────────────░────────────░────────────░────────────░─»\n",
       "                        ░            ░            ░            ░            ░ »\n",
       "q12_11: ────────────────░────────────░────────────░────────────░────────────░─»\n",
       "                        ░            ░            ░            ░            ░ »\n",
       "q12_12: ────────────────░────────────░────────────░────────────░────────────░─»\n",
       "                        ░            ░            ░            ░            ░ »\n",
       "q12_13: ────────────────░────────────░────────────░────────────░────────────░─»\n",
       "                        ░            ░            ░            ░            ░ »\n",
       "q12_14: ────────────────░────────────░────────────░────────────░────────────░─»\n",
       "                        ░            ░            ░            ░            ░ »\n",
       "  c0: 5/══════════════════════════════════════════════════════════════════════»\n",
       "                                                                              »\n",
       "«                   ░  ░       ░            ░            ░                 ░ »\n",
       "« q12_0: ───────────░──░───────░────────────░────────────░─────────────────░─»\n",
       "«                   ░  ░       ░            ░            ░                 ░ »\n",
       "« q12_1: ───────────░──░───────░────────────░────────────░─────────────────░─»\n",
       "«                   ░  ░       ░            ░            ░                 ░ »\n",
       "« q12_2: ──■────────░──░───────░────────────░────────────░─────────────────░─»\n",
       "«          │        ░  ░       ░            ░            ░                 ░ »\n",
       "« q12_3: ──┼────────░──░───────░────────────░────────────░─────────────────░─»\n",
       "«          │        ░  ░       ░            ░            ░                 ░ »\n",
       "« q12_4: ──┼────■───░──░───────░────────────░────────────░─────────────────░─»\n",
       "«          │    │   ░  ░       ░            ░            ░                 ░ »\n",
       "« q12_5: ──┼────┼───░──░───■───░────────────░────────────░─────────────────░─»\n",
       "«          │    │   ░  ░   │   ░            ░            ░                 ░ »\n",
       "« q12_6: ──┼────┼───░──░───┼───░───■────■───░────────────░─────────────────░─»\n",
       "«          │    │   ░  ░   │   ░   │    │   ░            ░                 ░ »\n",
       "« q12_7: ──┼────┼───░──░───┼───░───┼────┼───░───■────■───░─────────────────░─»\n",
       "«          │    │   ░  ░   │   ░   │    │   ░   │    │   ░                 ░ »\n",
       "« q12_8: ──┼────┼───░──░───┼───░───┼────┼───░───┼────┼───░───■────■────■───░─»\n",
       "«          │    │   ░  ░   │   ░   │    │   ░   │    │   ░   │    │    │   ░ »\n",
       "« q12_9: ──┼────┼───░──░───┼───░───┼────┼───░───┼────┼───░───┼────┼────┼───░─»\n",
       "«        ┌─┴─┐┌─┴─┐ ░  ░   │   ░   │    │   ░   │    │   ░   │    │    │   ░ »\n",
       "«q12_10: ┤ X ├┤ X ├─░──░───┼───░───┼────┼───░───┼────┼───░───┼────┼────┼───░─»\n",
       "«        └───┘└───┘ ░  ░ ┌─┴─┐ ░   │  ┌─┴─┐ ░   │  ┌─┴─┐ ░   │    │  ┌─┴─┐ ░ »\n",
       "«q12_11: ───────────░──░─┤ X ├─░───■──┤ X ├─░───■──┤ X ├─░───■────■──┤ X ├─░─»\n",
       "«                   ░  ░ └───┘ ░ ┌─┴─┐└───┘ ░ ┌─┴─┐└───┘ ░   │  ┌─┴─┐└───┘ ░ »\n",
       "«q12_12: ───────────░──░───────░─┤ X ├──────░─┤ X ├──────░───■──┤ X ├──────░─»\n",
       "«                   ░  ░       ░ └───┘      ░ └───┘      ░ ┌─┴─┐└───┘      ░ »\n",
       "«q12_13: ───────────░──░───────░────────────░────────────░─┤ X ├───────────░─»\n",
       "«                   ░  ░       ░            ░            ░ └───┘           ░ »\n",
       "«q12_14: ───────────░──░───────░────────────░────────────░─────────────────░─»\n",
       "«                   ░  ░       ░            ░            ░                 ░ »\n",
       "«  c0: 5/════════════════════════════════════════════════════════════════════»\n",
       "«                                                                            »\n",
       "«                        ░                 ░       ░                 ░       ░ »\n",
       "« q12_0: ────────────────░─────────────────░───────░─────────────────░───────░─»\n",
       "«                        ░                 ░       ░                 ░       ░ »\n",
       "« q12_1: ────────────────░─────────────────░───────░─────────────────░───────░─»\n",
       "«                        ░                 ░       ░                 ░       ░ »\n",
       "« q12_2: ────────────────░─────────────────░───────░─────────────────░───────░─»\n",
       "«                        ░                 ░       ░                 ░       ░ »\n",
       "« q12_3: ────────────────░─────────────────░───────░─────────────────░───────░─»\n",
       "«                        ░                 ░       ░                 ░       ░ »\n",
       "« q12_4: ────────────────░─────────────────░───────░─────────────────░───────░─»\n",
       "«                        ░                 ░       ░                 ░       ░ »\n",
       "« q12_5: ────────────────░─────────────────░───────░─────────────────░───────░─»\n",
       "«                        ░                 ░       ░                 ░       ░ »\n",
       "« q12_6: ────────────────░─────────────────░───────░─────────────────░───────░─»\n",
       "«                        ░                 ░       ░                 ░       ░ »\n",
       "« q12_7: ────────────────░─────────────────░───────░─────────────────░───────░─»\n",
       "«                        ░                 ░       ░                 ░       ░ »\n",
       "« q12_8: ────────────────░─────────────────░───────░─────────────────░───────░─»\n",
       "«                        ░                 ░       ░                 ░       ░ »\n",
       "« q12_9: ──■────■────■───░─────────────────░───────░─────────────────░───────░─»\n",
       "«          │    │    │   ░                 ░       ░                 ░       ░ »\n",
       "«q12_10: ──┼────┼────┼───░───■────■────■───░───────░─────────────────░───────░─»\n",
       "«          │    │  ┌─┴─┐ ░   │    │  ┌─┴─┐ ░ ┌───┐ ░                 ░ ┌───┐ ░ »\n",
       "«q12_11: ──■────■──┤ X ├─░───■────■──┤ X ├─░─┤ X ├─░───■─────────■───░─┤ X ├─░─»\n",
       "«          │  ┌─┴─┐└───┘ ░   │  ┌─┴─┐└───┘ ░ ├───┤ ░   │         │   ░ ├───┤ ░ »\n",
       "«q12_12: ──■──┤ X ├──────░───■──┤ X ├──────░─┤ X ├─░───■─────────■───░─┤ X ├─░─»\n",
       "«        ┌─┴─┐└───┘      ░ ┌─┴─┐└───┘      ░ └───┘ ░   │         │   ░ └───┘ ░ »\n",
       "«q12_13: ┤ X ├───────────░─┤ X ├───────────░───────░───■─────────■───░───────░─»\n",
       "«        └───┘           ░ └───┘           ░       ░ ┌─┴─┐┌───┐┌─┴─┐ ░       ░ »\n",
       "«q12_14: ────────────────░─────────────────░───────░─┤ X ├┤ Z ├┤ X ├─░───────░─»\n",
       "«                        ░                 ░       ░ └───┘└───┘└───┘ ░       ░ »\n",
       "«  c0: 5/══════════════════════════════════════════════════════════════════════»\n",
       "«                                                                              »\n",
       "«                        ░                 ░                 ░            ░ »\n",
       "« q12_0: ────────────────░─────────────────░─────────────────░────────────░─»\n",
       "«                        ░                 ░                 ░            ░ »\n",
       "« q12_1: ────────────────░─────────────────░─────────────────░────────────░─»\n",
       "«                        ░                 ░                 ░            ░ »\n",
       "« q12_2: ────────────────░─────────────────░─────────────────░────────────░─»\n",
       "«                        ░                 ░                 ░            ░ »\n",
       "« q12_3: ────────────────░─────────────────░─────────────────░────────────░─»\n",
       "«                        ░                 ░                 ░            ░ »\n",
       "« q12_4: ────────────────░─────────────────░─────────────────░────────────░─»\n",
       "«                        ░                 ░                 ░            ░ »\n",
       "« q12_5: ────────────────░─────────────────░─────────────────░────────────░─»\n",
       "«                        ░                 ░                 ░            ░ »\n",
       "« q12_6: ────────────────░─────────────────░─────────────────░────────────░─»\n",
       "«                        ░                 ░                 ░            ░ »\n",
       "« q12_7: ────────────────░─────────────────░─────────────────░───■────■───░─»\n",
       "«                        ░                 ░                 ░   │    │   ░ »\n",
       "« q12_8: ────────────────░─────────────────░───■────■────■───░───┼────┼───░─»\n",
       "«                        ░                 ░   │    │    │   ░   │    │   ░ »\n",
       "« q12_9: ────────────────░───■────■────■───░───┼────┼────┼───░───┼────┼───░─»\n",
       "«                        ░   │    │    │   ░   │    │    │   ░   │    │   ░ »\n",
       "«q12_10: ──■────■────■───░───┼────┼────┼───░───┼────┼────┼───░───┼────┼───░─»\n",
       "«        ┌─┴─┐  │    │   ░ ┌─┴─┐  │    │   ░ ┌─┴─┐  │    │   ░ ┌─┴─┐  │   ░ »\n",
       "«q12_11: ┤ X ├──■────■───░─┤ X ├──■────■───░─┤ X ├──■────■───░─┤ X ├──■───░─»\n",
       "«        └───┘┌─┴─┐  │   ░ └───┘┌─┴─┐  │   ░ └───┘┌─┴─┐  │   ░ └───┘┌─┴─┐ ░ »\n",
       "«q12_12: ─────┤ X ├──■───░──────┤ X ├──■───░──────┤ X ├──■───░──────┤ X ├─░─»\n",
       "«             └───┘┌─┴─┐ ░      └───┘┌─┴─┐ ░      └───┘┌─┴─┐ ░      └───┘ ░ »\n",
       "«q12_13: ──────────┤ X ├─░───────────┤ X ├─░───────────┤ X ├─░────────────░─»\n",
       "«                  └───┘ ░           └───┘ ░           └───┘ ░            ░ »\n",
       "«q12_14: ────────────────░─────────────────░─────────────────░────────────░─»\n",
       "«                        ░                 ░                 ░            ░ »\n",
       "«  c0: 5/═══════════════════════════════════════════════════════════════════»\n",
       "«                                                                           »\n",
       "«                   ░       ░  ░            ░            ░            ░      »\n",
       "« q12_0: ───────────░───────░──░────────────░────────────░────────────░──────»\n",
       "«                   ░       ░  ░            ░            ░            ░      »\n",
       "« q12_1: ───────────░───────░──░────────────░────────────░────────■───░──────»\n",
       "«                   ░       ░  ░            ░            ░        │   ░      »\n",
       "« q12_2: ───────────░───────░──░────────■───░────────■───░────────┼───░──────»\n",
       "«                   ░       ░  ░        │   ░        │   ░        │   ░      »\n",
       "« q12_3: ───────────░───────░──░────────┼───░───■────┼───░────────┼───░───■──»\n",
       "«                   ░       ░  ░        │   ░   │    │   ░        │   ░   │  »\n",
       "« q12_4: ───────────░───────░──░───■────┼───░───┼────┼───░───■────┼───░───┼──»\n",
       "«                   ░       ░  ░   │    │   ░   │    │   ░   │    │   ░   │  »\n",
       "« q12_5: ───────────░───■───░──░───┼────┼───░───┼────┼───░───┼────┼───░───┼──»\n",
       "«                   ░   │   ░  ░   │    │   ░   │    │   ░   │    │   ░   │  »\n",
       "« q12_6: ──■────■───░───┼───░──░───┼────┼───░───┼────┼───░───┼────┼───░───┼──»\n",
       "«          │    │   ░   │   ░  ░   │    │   ░   │    │   ░   │    │   ░ ┌─┴─┐»\n",
       "« q12_7: ──┼────┼───░───┼───░──░───┼────┼───░───┼────┼───░───┼────┼───░─┤ X ├»\n",
       "«          │    │   ░   │   ░  ░   │    │   ░   │    │   ░ ┌─┴─┐┌─┴─┐ ░ └───┘»\n",
       "« q12_8: ──┼────┼───░───┼───░──░───┼────┼───░───┼────┼───░─┤ X ├┤ X ├─░──────»\n",
       "«          │    │   ░   │   ░  ░   │    │   ░ ┌─┴─┐┌─┴─┐ ░ └───┘└───┘ ░      »\n",
       "« q12_9: ──┼────┼───░───┼───░──░───┼────┼───░─┤ X ├┤ X ├─░────────────░──────»\n",
       "«          │    │   ░   │   ░  ░ ┌─┴─┐┌─┴─┐ ░ └───┘└───┘ ░            ░      »\n",
       "«q12_10: ──┼────┼───░───┼───░──░─┤ X ├┤ X ├─░────────────░────────────░──────»\n",
       "«        ┌─┴─┐  │   ░ ┌─┴─┐ ░  ░ └───┘└───┘ ░            ░            ░      »\n",
       "«q12_11: ┤ X ├──■───░─┤ X ├─░──░────────────░────────────░────────────░──────»\n",
       "«        └───┘┌─┴─┐ ░ └───┘ ░  ░            ░            ░            ░      »\n",
       "«q12_12: ─────┤ X ├─░───────░──░────────────░────────────░────────────░──────»\n",
       "«             └───┘ ░       ░  ░            ░            ░            ░      »\n",
       "«q12_13: ───────────░───────░──░────────────░────────────░────────────░──────»\n",
       "«                   ░       ░  ░            ░            ░            ░      »\n",
       "«q12_14: ───────────░───────░──░────────────░────────────░────────────░──────»\n",
       "«                   ░       ░  ░            ░            ░            ░      »\n",
       "«  c0: 5/════════════════════════════════════════════════════════════════════»\n",
       "«                                                                            »\n",
       "«              ░            ░            ░ ┌───┐┌───┐   ┌───┐┌───┐ ░           »\n",
       "« q12_0: ──────░────────■───░────────■───░─┤ H ├┤ X ├─■─┤ X ├┤ H ├─░───■───────»\n",
       "«              ░        │   ░        │   ░ ├───┤├───┤ │ ├───┤├───┤ ░   │       »\n",
       "« q12_1: ──■───░────────┼───░────────┼───░─┤ H ├┤ X ├─■─┤ X ├┤ H ├─░───┼───────»\n",
       "«          │   ░        │   ░        │   ░ ├───┤├───┤ │ ├───┤├───┤ ░   │       »\n",
       "« q12_2: ──┼───░────────┼───░────────┼───░─┤ H ├┤ X ├─■─┤ X ├┤ H ├─░───┼───────»\n",
       "«          │   ░        │   ░        │   ░ ├───┤├───┤ │ ├───┤├───┤ ░   │       »\n",
       "« q12_3: ──┼───░────────┼───░───■────┼───░─┤ H ├┤ X ├─■─┤ X ├┤ H ├─░───┼────■──»\n",
       "«          │   ░        │   ░   │    │   ░ ├───┤├───┤ │ ├───┤├───┤ ░   │    │  »\n",
       "« q12_4: ──┼───░───■────┼───░───┼────┼───░─┤ H ├┤ X ├─■─┤ X ├┤ H ├─░───┼────┼──»\n",
       "«          │   ░   │    │   ░ ┌─┴─┐┌─┴─┐ ░ └───┘└───┘   └───┘└───┘ ░ ┌─┴─┐┌─┴─┐»\n",
       "« q12_5: ──┼───░───┼────┼───░─┤ X ├┤ X ├─░─────────────────────────░─┤ X ├┤ X ├»\n",
       "«          │   ░ ┌─┴─┐┌─┴─┐ ░ └───┘└───┘ ░                         ░ └───┘└───┘»\n",
       "« q12_6: ──┼───░─┤ X ├┤ X ├─░────────────░─────────────────────────░───────────»\n",
       "«        ┌─┴─┐ ░ └───┘└───┘ ░            ░                         ░           »\n",
       "« q12_7: ┤ X ├─░────────────░────────────░─────────────────────────░───────────»\n",
       "«        └───┘ ░            ░            ░                         ░           »\n",
       "« q12_8: ──────░────────────░────────────░─────────────────────────░───────────»\n",
       "«              ░            ░            ░                         ░           »\n",
       "« q12_9: ──────░────────────░────────────░─────────────────────────░───────────»\n",
       "«              ░            ░            ░                         ░           »\n",
       "«q12_10: ──────░────────────░────────────░─────────────────────────░───────────»\n",
       "«              ░            ░            ░                         ░           »\n",
       "«q12_11: ──────░────────────░────────────░─────────────────────────░───────────»\n",
       "«              ░            ░            ░                         ░           »\n",
       "«q12_12: ──────░────────────░────────────░─────────────────────────░───────────»\n",
       "«              ░            ░            ░                         ░           »\n",
       "«q12_13: ──────░────────────░────────────░─────────────────────────░───────────»\n",
       "«              ░            ░            ░                         ░           »\n",
       "«q12_14: ──────░────────────░────────────░─────────────────────────░───────────»\n",
       "«              ░            ░            ░                         ░           »\n",
       "«  c0: 5/══════════════════════════════════════════════════════════════════════»\n",
       "«                                                                              »\n",
       "«         ░            ░            ░            ░            ░            ░ »\n",
       "« q12_0: ─░───■────────░────────────░────────────░────────────░────────────░─»\n",
       "«         ░   │        ░            ░            ░            ░            ░ »\n",
       "« q12_1: ─░───┼────────░───■────────░───■────────░────────────░────────────░─»\n",
       "«         ░   │        ░   │        ░   │        ░            ░            ░ »\n",
       "« q12_2: ─░───┼────────░───┼────────░───┼────────░───■────────░───■────────░─»\n",
       "«         ░   │        ░   │        ░   │        ░   │        ░   │        ░ »\n",
       "« q12_3: ─░───┼────────░───┼────■───░───┼────────░───┼────■───░───┼────────░─»\n",
       "«         ░   │        ░   │    │   ░   │        ░   │    │   ░   │        ░ »\n",
       "« q12_4: ─░───┼────■───░───┼────┼───░───┼────■───░───┼────┼───░───┼────■───░─»\n",
       "«         ░   │    │   ░   │    │   ░   │    │   ░   │    │   ░   │    │   ░ »\n",
       "« q12_5: ─░───┼────┼───░───┼────┼───░───┼────┼───░───┼────┼───░───┼────┼───░─»\n",
       "«         ░ ┌─┴─┐┌─┴─┐ ░   │    │   ░   │    │   ░   │    │   ░   │    │   ░ »\n",
       "« q12_6: ─░─┤ X ├┤ X ├─░───┼────┼───░───┼────┼───░───┼────┼───░───┼────┼───░─»\n",
       "«         ░ └───┘└───┘ ░ ┌─┴─┐┌─┴─┐ ░   │    │   ░   │    │   ░   │    │   ░ »\n",
       "« q12_7: ─░────────────░─┤ X ├┤ X ├─░───┼────┼───░───┼────┼───░───┼────┼───░─»\n",
       "«         ░            ░ └───┘└───┘ ░ ┌─┴─┐┌─┴─┐ ░   │    │   ░   │    │   ░ »\n",
       "« q12_8: ─░────────────░────────────░─┤ X ├┤ X ├─░───┼────┼───░───┼────┼───░─»\n",
       "«         ░            ░            ░ └───┘└───┘ ░ ┌─┴─┐┌─┴─┐ ░   │    │   ░ »\n",
       "« q12_9: ─░────────────░────────────░────────────░─┤ X ├┤ X ├─░───┼────┼───░─»\n",
       "«         ░            ░            ░            ░ └───┘└───┘ ░ ┌─┴─┐┌─┴─┐ ░ »\n",
       "«q12_10: ─░────────────░────────────░────────────░────────────░─┤ X ├┤ X ├─░─»\n",
       "«         ░            ░            ░            ░            ░ └───┘└───┘ ░ »\n",
       "«q12_11: ─░────────────░────────────░────────────░────────────░────────────░─»\n",
       "«         ░            ░            ░            ░            ░            ░ »\n",
       "«q12_12: ─░────────────░────────────░────────────░────────────░────────────░─»\n",
       "«         ░            ░            ░            ░            ░            ░ »\n",
       "«q12_13: ─░────────────░────────────░────────────░────────────░────────────░─»\n",
       "«         ░            ░            ░            ░            ░            ░ »\n",
       "«q12_14: ─░────────────░────────────░────────────░────────────░────────────░─»\n",
       "«         ░            ░            ░            ░            ░            ░ »\n",
       "«  c0: 5/════════════════════════════════════════════════════════════════════»\n",
       "«                                                                            »\n",
       "«         ░       ░            ░            ░                 ░                »\n",
       "« q12_0: ─░───────░────────────░────────────░─────────────────░────────────────»\n",
       "«         ░       ░            ░            ░                 ░                »\n",
       "« q12_1: ─░───────░────────────░────────────░─────────────────░────────────────»\n",
       "«         ░       ░            ░            ░                 ░                »\n",
       "« q12_2: ─░───────░────────────░────────────░─────────────────░────────────────»\n",
       "«         ░       ░            ░            ░                 ░                »\n",
       "« q12_3: ─░───────░────────────░────────────░─────────────────░────────────────»\n",
       "«         ░       ░            ░            ░                 ░                »\n",
       "« q12_4: ─░───────░────────────░────────────░─────────────────░────────────────»\n",
       "«         ░       ░            ░            ░                 ░                »\n",
       "« q12_5: ─░───■───░────────────░────────────░─────────────────░────────────────»\n",
       "«         ░   │   ░            ░            ░                 ░                »\n",
       "« q12_6: ─░───┼───░───■────■───░────────────░─────────────────░────────────────»\n",
       "«         ░   │   ░   │    │   ░            ░                 ░                »\n",
       "« q12_7: ─░───┼───░───┼────┼───░───■────■───░─────────────────░────────────────»\n",
       "«         ░   │   ░   │    │   ░   │    │   ░                 ░                »\n",
       "« q12_8: ─░───┼───░───┼────┼───░───┼────┼───░───■────■────■───░────────────────»\n",
       "«         ░   │   ░   │    │   ░   │    │   ░   │    │    │   ░                »\n",
       "« q12_9: ─░───┼───░───┼────┼───░───┼────┼───░───┼────┼────┼───░───■────■────■──»\n",
       "«         ░   │   ░   │    │   ░   │    │   ░   │    │    │   ░   │    │    │  »\n",
       "«q12_10: ─░───┼───░───┼────┼───░───┼────┼───░───┼────┼────┼───░───┼────┼────┼──»\n",
       "«         ░ ┌─┴─┐ ░   │  ┌─┴─┐ ░   │  ┌─┴─┐ ░   │    │  ┌─┴─┐ ░   │    │  ┌─┴─┐»\n",
       "«q12_11: ─░─┤ X ├─░───■──┤ X ├─░───■──┤ X ├─░───■────■──┤ X ├─░───■────■──┤ X ├»\n",
       "«         ░ └───┘ ░ ┌─┴─┐└───┘ ░ ┌─┴─┐└───┘ ░   │  ┌─┴─┐└───┘ ░   │  ┌─┴─┐└───┘»\n",
       "«q12_12: ─░───────░─┤ X ├──────░─┤ X ├──────░───■──┤ X ├──────░───■──┤ X ├─────»\n",
       "«         ░       ░ └───┘      ░ └───┘      ░ ┌─┴─┐└───┘      ░ ┌─┴─┐└───┘     »\n",
       "«q12_13: ─░───────░────────────░────────────░─┤ X ├───────────░─┤ X ├──────────»\n",
       "«         ░       ░            ░            ░ └───┘           ░ └───┘          »\n",
       "«q12_14: ─░───────░────────────░────────────░─────────────────░────────────────»\n",
       "«         ░       ░            ░            ░                 ░                »\n",
       "«  c0: 5/══════════════════════════════════════════════════════════════════════»\n",
       "«                                                                              »\n",
       "«         ░                 ░       ░                 ░       ░                »\n",
       "« q12_0: ─░─────────────────░───────░─────────────────░───────░────────────────»\n",
       "«         ░                 ░       ░                 ░       ░                »\n",
       "« q12_1: ─░─────────────────░───────░─────────────────░───────░────────────────»\n",
       "«         ░                 ░       ░                 ░       ░                »\n",
       "« q12_2: ─░─────────────────░───────░─────────────────░───────░────────────────»\n",
       "«         ░                 ░       ░                 ░       ░                »\n",
       "« q12_3: ─░─────────────────░───────░─────────────────░───────░────────────────»\n",
       "«         ░                 ░       ░                 ░       ░                »\n",
       "« q12_4: ─░─────────────────░───────░─────────────────░───────░────────────────»\n",
       "«         ░                 ░       ░                 ░       ░                »\n",
       "« q12_5: ─░─────────────────░───────░─────────────────░───────░────────────────»\n",
       "«         ░                 ░       ░                 ░       ░                »\n",
       "« q12_6: ─░─────────────────░───────░─────────────────░───────░────────────────»\n",
       "«         ░                 ░       ░                 ░       ░                »\n",
       "« q12_7: ─░─────────────────░───────░─────────────────░───────░────────────────»\n",
       "«         ░                 ░       ░                 ░       ░                »\n",
       "« q12_8: ─░─────────────────░───────░─────────────────░───────░────────────────»\n",
       "«         ░                 ░       ░                 ░       ░                »\n",
       "« q12_9: ─░─────────────────░───────░─────────────────░───────░────────────────»\n",
       "«         ░                 ░       ░                 ░       ░                »\n",
       "«q12_10: ─░───■────■────■───░───────░─────────────────░───────░───■────■────■──»\n",
       "«         ░   │    │  ┌─┴─┐ ░ ┌───┐ ░                 ░ ┌───┐ ░ ┌─┴─┐  │    │  »\n",
       "«q12_11: ─░───■────■──┤ X ├─░─┤ X ├─░───■─────────■───░─┤ X ├─░─┤ X ├──■────■──»\n",
       "«         ░   │  ┌─┴─┐└───┘ ░ ├───┤ ░   │         │   ░ ├───┤ ░ └───┘┌─┴─┐  │  »\n",
       "«q12_12: ─░───■──┤ X ├──────░─┤ X ├─░───■─────────■───░─┤ X ├─░──────┤ X ├──■──»\n",
       "«         ░ ┌─┴─┐└───┘      ░ └───┘ ░   │         │   ░ └───┘ ░      └───┘┌─┴─┐»\n",
       "«q12_13: ─░─┤ X ├───────────░───────░───■─────────■───░───────░───────────┤ X ├»\n",
       "«         ░ └───┘           ░       ░ ┌─┴─┐┌───┐┌─┴─┐ ░       ░           └───┘»\n",
       "«q12_14: ─░─────────────────░───────░─┤ X ├┤ Z ├┤ X ├─░───────░────────────────»\n",
       "«         ░                 ░       ░ └───┘└───┘└───┘ ░       ░                »\n",
       "«  c0: 5/══════════════════════════════════════════════════════════════════════»\n",
       "«                                                                              »\n",
       "«         ░                 ░                 ░            ░            ░      »\n",
       "« q12_0: ─░─────────────────░─────────────────░────────────░────────────░──────»\n",
       "«         ░                 ░                 ░            ░            ░      »\n",
       "« q12_1: ─░─────────────────░─────────────────░────────────░────────────░──────»\n",
       "«         ░                 ░                 ░            ░            ░      »\n",
       "« q12_2: ─░─────────────────░─────────────────░────────────░────────────░──────»\n",
       "«         ░                 ░                 ░            ░            ░      »\n",
       "« q12_3: ─░─────────────────░─────────────────░────────────░────────────░──────»\n",
       "«         ░                 ░                 ░            ░            ░      »\n",
       "« q12_4: ─░─────────────────░─────────────────░────────────░────────────░──────»\n",
       "«         ░                 ░                 ░            ░            ░      »\n",
       "« q12_5: ─░─────────────────░─────────────────░────────────░────────────░───■──»\n",
       "«         ░                 ░                 ░            ░            ░   │  »\n",
       "« q12_6: ─░─────────────────░─────────────────░────────────░───■────■───░───┼──»\n",
       "«         ░                 ░                 ░            ░   │    │   ░   │  »\n",
       "« q12_7: ─░─────────────────░─────────────────░───■────■───░───┼────┼───░───┼──»\n",
       "«         ░                 ░                 ░   │    │   ░   │    │   ░   │  »\n",
       "« q12_8: ─░─────────────────░───■────■────■───░───┼────┼───░───┼────┼───░───┼──»\n",
       "«         ░                 ░   │    │    │   ░   │    │   ░   │    │   ░   │  »\n",
       "« q12_9: ─░───■────■────■───░───┼────┼────┼───░───┼────┼───░───┼────┼───░───┼──»\n",
       "«         ░   │    │    │   ░   │    │    │   ░   │    │   ░   │    │   ░   │  »\n",
       "«q12_10: ─░───┼────┼────┼───░───┼────┼────┼───░───┼────┼───░───┼────┼───░───┼──»\n",
       "«         ░ ┌─┴─┐  │    │   ░ ┌─┴─┐  │    │   ░ ┌─┴─┐  │   ░ ┌─┴─┐  │   ░ ┌─┴─┐»\n",
       "«q12_11: ─░─┤ X ├──■────■───░─┤ X ├──■────■───░─┤ X ├──■───░─┤ X ├──■───░─┤ X ├»\n",
       "«         ░ └───┘┌─┴─┐  │   ░ └───┘┌─┴─┐  │   ░ └───┘┌─┴─┐ ░ └───┘┌─┴─┐ ░ └───┘»\n",
       "«q12_12: ─░──────┤ X ├──■───░──────┤ X ├──■───░──────┤ X ├─░──────┤ X ├─░──────»\n",
       "«         ░      └───┘┌─┴─┐ ░      └───┘┌─┴─┐ ░      └───┘ ░      └───┘ ░      »\n",
       "«q12_13: ─░───────────┤ X ├─░───────────┤ X ├─░────────────░────────────░──────»\n",
       "«         ░           └───┘ ░           └───┘ ░            ░            ░      »\n",
       "«q12_14: ─░─────────────────░─────────────────░────────────░────────────░──────»\n",
       "«         ░                 ░                 ░            ░            ░      »\n",
       "«  c0: 5/══════════════════════════════════════════════════════════════════════»\n",
       "«                                                                              »\n",
       "«         ░  ░            ░            ░            ░            ░           »\n",
       "« q12_0: ─░──░────────────░────────────░────────────░────────────░────────■──»\n",
       "«         ░  ░            ░            ░            ░            ░        │  »\n",
       "« q12_1: ─░──░────────────░────────────░────────■───░────────■───░────────┼──»\n",
       "«         ░  ░            ░            ░        │   ░        │   ░        │  »\n",
       "« q12_2: ─░──░────────■───░────────■───░────────┼───░────────┼───░────────┼──»\n",
       "«         ░  ░        │   ░        │   ░        │   ░        │   ░        │  »\n",
       "« q12_3: ─░──░────────┼───░───■────┼───░────────┼───░───■────┼───░────────┼──»\n",
       "«         ░  ░        │   ░   │    │   ░        │   ░   │    │   ░        │  »\n",
       "« q12_4: ─░──░───■────┼───░───┼────┼───░───■────┼───░───┼────┼───░───■────┼──»\n",
       "«         ░  ░   │    │   ░   │    │   ░   │    │   ░   │    │   ░   │    │  »\n",
       "« q12_5: ─░──░───┼────┼───░───┼────┼───░───┼────┼───░───┼────┼───░───┼────┼──»\n",
       "«         ░  ░   │    │   ░   │    │   ░   │    │   ░   │    │   ░ ┌─┴─┐┌─┴─┐»\n",
       "« q12_6: ─░──░───┼────┼───░───┼────┼───░───┼────┼───░───┼────┼───░─┤ X ├┤ X ├»\n",
       "«         ░  ░   │    │   ░   │    │   ░   │    │   ░ ┌─┴─┐┌─┴─┐ ░ └───┘└───┘»\n",
       "« q12_7: ─░──░───┼────┼───░───┼────┼───░───┼────┼───░─┤ X ├┤ X ├─░───────────»\n",
       "«         ░  ░   │    │   ░   │    │   ░ ┌─┴─┐┌─┴─┐ ░ └───┘└───┘ ░           »\n",
       "« q12_8: ─░──░───┼────┼───░───┼────┼───░─┤ X ├┤ X ├─░────────────░───────────»\n",
       "«         ░  ░   │    │   ░ ┌─┴─┐┌─┴─┐ ░ └───┘└───┘ ░            ░           »\n",
       "« q12_9: ─░──░───┼────┼───░─┤ X ├┤ X ├─░────────────░────────────░───────────»\n",
       "«         ░  ░ ┌─┴─┐┌─┴─┐ ░ └───┘└───┘ ░            ░            ░           »\n",
       "«q12_10: ─░──░─┤ X ├┤ X ├─░────────────░────────────░────────────░───────────»\n",
       "«         ░  ░ └───┘└───┘ ░            ░            ░            ░           »\n",
       "«q12_11: ─░──░────────────░────────────░────────────░────────────░───────────»\n",
       "«         ░  ░            ░            ░            ░            ░           »\n",
       "«q12_12: ─░──░────────────░────────────░────────────░────────────░───────────»\n",
       "«         ░  ░            ░            ░            ░            ░           »\n",
       "«q12_13: ─░──░────────────░────────────░────────────░────────────░───────────»\n",
       "«         ░  ░            ░            ░            ░            ░           »\n",
       "«q12_14: ─░──░────────────░────────────░────────────░────────────░───────────»\n",
       "«         ░  ░            ░            ░            ░            ░           »\n",
       "«  c0: 5/════════════════════════════════════════════════════════════════════»\n",
       "«                                                                            »\n",
       "«         ░            ░ ┌───┐┌───┐   ┌───┐┌───┐ ░ ┌─┐            \n",
       "« q12_0: ─░────────■───░─┤ H ├┤ X ├─■─┤ X ├┤ H ├─░─┤M├────────────\n",
       "«         ░        │   ░ ├───┤├───┤ │ ├───┤├───┤ ░ └╥┘┌─┐         \n",
       "« q12_1: ─░────────┼───░─┤ H ├┤ X ├─■─┤ X ├┤ H ├─░──╫─┤M├─────────\n",
       "«         ░        │   ░ ├───┤├───┤ │ ├───┤├───┤ ░  ║ └╥┘┌─┐      \n",
       "« q12_2: ─░────────┼───░─┤ H ├┤ X ├─■─┤ X ├┤ H ├─░──╫──╫─┤M├──────\n",
       "«         ░        │   ░ ├───┤├───┤ │ ├───┤├───┤ ░  ║  ║ └╥┘┌─┐   \n",
       "« q12_3: ─░───■────┼───░─┤ H ├┤ X ├─■─┤ X ├┤ H ├─░──╫──╫──╫─┤M├───\n",
       "«         ░   │    │   ░ ├───┤├───┤ │ ├───┤├───┤ ░  ║  ║  ║ └╥┘┌─┐\n",
       "« q12_4: ─░───┼────┼───░─┤ H ├┤ X ├─■─┤ X ├┤ H ├─░──╫──╫──╫──╫─┤M├\n",
       "«         ░ ┌─┴─┐┌─┴─┐ ░ └───┘└───┘   └───┘└───┘ ░  ║  ║  ║  ║ └╥┘\n",
       "« q12_5: ─░─┤ X ├┤ X ├─░─────────────────────────░──╫──╫──╫──╫──╫─\n",
       "«         ░ └───┘└───┘ ░                         ░  ║  ║  ║  ║  ║ \n",
       "« q12_6: ─░────────────░─────────────────────────░──╫──╫──╫──╫──╫─\n",
       "«         ░            ░                         ░  ║  ║  ║  ║  ║ \n",
       "« q12_7: ─░────────────░─────────────────────────░──╫──╫──╫──╫──╫─\n",
       "«         ░            ░                         ░  ║  ║  ║  ║  ║ \n",
       "« q12_8: ─░────────────░─────────────────────────░──╫──╫──╫──╫──╫─\n",
       "«         ░            ░                         ░  ║  ║  ║  ║  ║ \n",
       "« q12_9: ─░────────────░─────────────────────────░──╫──╫──╫──╫──╫─\n",
       "«         ░            ░                         ░  ║  ║  ║  ║  ║ \n",
       "«q12_10: ─░────────────░─────────────────────────░──╫──╫──╫──╫──╫─\n",
       "«         ░            ░                         ░  ║  ║  ║  ║  ║ \n",
       "«q12_11: ─░────────────░─────────────────────────░──╫──╫──╫──╫──╫─\n",
       "«         ░            ░                         ░  ║  ║  ║  ║  ║ \n",
       "«q12_12: ─░────────────░─────────────────────────░──╫──╫──╫──╫──╫─\n",
       "«         ░            ░                         ░  ║  ║  ║  ║  ║ \n",
       "«q12_13: ─░────────────░─────────────────────────░──╫──╫──╫──╫──╫─\n",
       "«         ░            ░                         ░  ║  ║  ║  ║  ║ \n",
       "«q12_14: ─░────────────░─────────────────────────░──╫──╫──╫──╫──╫─\n",
       "«         ░            ░                         ░  ║  ║  ║  ║  ║ \n",
       "«  c0: 5/═══════════════════════════════════════════╩══╩══╩══╩══╩═\n",
       "«                                                   0  1  2  3  4 </pre>"
      ],
      "text/plain": [
       "        ┌───┐           ░            ░            ░            ░            ░ »\n",
       " q12_0: ┤ H ├──■────────░───■────────░────────────░────────────░────────────░─»\n",
       "        ├───┤  │        ░   │        ░            ░            ░            ░ »\n",
       " q12_1: ┤ H ├──┼────────░───┼────────░───■────────░───■────────░────────────░─»\n",
       "        ├───┤  │        ░   │        ░   │        ░   │        ░            ░ »\n",
       " q12_2: ┤ H ├──┼────────░───┼────────░───┼────────░───┼────────░───■────────░─»\n",
       "        ├───┤  │        ░   │        ░   │        ░   │        ░   │        ░ »\n",
       " q12_3: ┤ H ├──┼────■───░───┼────────░───┼────■───░───┼────────░───┼────■───░─»\n",
       "        ├───┤  │    │   ░   │        ░   │    │   ░   │        ░   │    │   ░ »\n",
       " q12_4: ┤ H ├──┼────┼───░───┼────■───░───┼────┼───░───┼────■───░───┼────┼───░─»\n",
       "        └───┘┌─┴─┐┌─┴─┐ ░   │    │   ░   │    │   ░   │    │   ░   │    │   ░ »\n",
       " q12_5: ─────┤ X ├┤ X ├─░───┼────┼───░───┼────┼───░───┼────┼───░───┼────┼───░─»\n",
       "             └───┘└───┘ ░ ┌─┴─┐┌─┴─┐ ░   │    │   ░   │    │   ░   │    │   ░ »\n",
       " q12_6: ────────────────░─┤ X ├┤ X ├─░───┼────┼───░───┼────┼───░───┼────┼───░─»\n",
       "                        ░ └───┘└───┘ ░ ┌─┴─┐┌─┴─┐ ░   │    │   ░   │    │   ░ »\n",
       " q12_7: ────────────────░────────────░─┤ X ├┤ X ├─░───┼────┼───░───┼────┼───░─»\n",
       "                        ░            ░ └───┘└───┘ ░ ┌─┴─┐┌─┴─┐ ░   │    │   ░ »\n",
       " q12_8: ────────────────░────────────░────────────░─┤ X ├┤ X ├─░───┼────┼───░─»\n",
       "                        ░            ░            ░ └───┘└───┘ ░ ┌─┴─┐┌─┴─┐ ░ »\n",
       " q12_9: ────────────────░────────────░────────────░────────────░─┤ X ├┤ X ├─░─»\n",
       "                        ░            ░            ░            ░ └───┘└───┘ ░ »\n",
       "q12_10: ────────────────░────────────░────────────░────────────░────────────░─»\n",
       "                        ░            ░            ░            ░            ░ »\n",
       "q12_11: ────────────────░────────────░────────────░────────────░────────────░─»\n",
       "                        ░            ░            ░            ░            ░ »\n",
       "q12_12: ────────────────░────────────░────────────░────────────░────────────░─»\n",
       "                        ░            ░            ░            ░            ░ »\n",
       "q12_13: ────────────────░────────────░────────────░────────────░────────────░─»\n",
       "                        ░            ░            ░            ░            ░ »\n",
       "q12_14: ────────────────░────────────░────────────░────────────░────────────░─»\n",
       "                        ░            ░            ░            ░            ░ »\n",
       "  c0: 5/══════════════════════════════════════════════════════════════════════»\n",
       "                                                                              »\n",
       "«                   ░  ░       ░            ░            ░                 ░ »\n",
       "« q12_0: ───────────░──░───────░────────────░────────────░─────────────────░─»\n",
       "«                   ░  ░       ░            ░            ░                 ░ »\n",
       "« q12_1: ───────────░──░───────░────────────░────────────░─────────────────░─»\n",
       "«                   ░  ░       ░            ░            ░                 ░ »\n",
       "« q12_2: ──■────────░──░───────░────────────░────────────░─────────────────░─»\n",
       "«          │        ░  ░       ░            ░            ░                 ░ »\n",
       "« q12_3: ──┼────────░──░───────░────────────░────────────░─────────────────░─»\n",
       "«          │        ░  ░       ░            ░            ░                 ░ »\n",
       "« q12_4: ──┼────■───░──░───────░────────────░────────────░─────────────────░─»\n",
       "«          │    │   ░  ░       ░            ░            ░                 ░ »\n",
       "« q12_5: ──┼────┼───░──░───■───░────────────░────────────░─────────────────░─»\n",
       "«          │    │   ░  ░   │   ░            ░            ░                 ░ »\n",
       "« q12_6: ──┼────┼───░──░───┼───░───■────■───░────────────░─────────────────░─»\n",
       "«          │    │   ░  ░   │   ░   │    │   ░            ░                 ░ »\n",
       "« q12_7: ──┼────┼───░──░───┼───░───┼────┼───░───■────■───░─────────────────░─»\n",
       "«          │    │   ░  ░   │   ░   │    │   ░   │    │   ░                 ░ »\n",
       "« q12_8: ──┼────┼───░──░───┼───░───┼────┼───░───┼────┼───░───■────■────■───░─»\n",
       "«          │    │   ░  ░   │   ░   │    │   ░   │    │   ░   │    │    │   ░ »\n",
       "« q12_9: ──┼────┼───░──░───┼───░───┼────┼───░───┼────┼───░───┼────┼────┼───░─»\n",
       "«        ┌─┴─┐┌─┴─┐ ░  ░   │   ░   │    │   ░   │    │   ░   │    │    │   ░ »\n",
       "«q12_10: ┤ X ├┤ X ├─░──░───┼───░───┼────┼───░───┼────┼───░───┼────┼────┼───░─»\n",
       "«        └───┘└───┘ ░  ░ ┌─┴─┐ ░   │  ┌─┴─┐ ░   │  ┌─┴─┐ ░   │    │  ┌─┴─┐ ░ »\n",
       "«q12_11: ───────────░──░─┤ X ├─░───■──┤ X ├─░───■──┤ X ├─░───■────■──┤ X ├─░─»\n",
       "«                   ░  ░ └───┘ ░ ┌─┴─┐└───┘ ░ ┌─┴─┐└───┘ ░   │  ┌─┴─┐└───┘ ░ »\n",
       "«q12_12: ───────────░──░───────░─┤ X ├──────░─┤ X ├──────░───■──┤ X ├──────░─»\n",
       "«                   ░  ░       ░ └───┘      ░ └───┘      ░ ┌─┴─┐└───┘      ░ »\n",
       "«q12_13: ───────────░──░───────░────────────░────────────░─┤ X ├───────────░─»\n",
       "«                   ░  ░       ░            ░            ░ └───┘           ░ »\n",
       "«q12_14: ───────────░──░───────░────────────░────────────░─────────────────░─»\n",
       "«                   ░  ░       ░            ░            ░                 ░ »\n",
       "«  c0: 5/════════════════════════════════════════════════════════════════════»\n",
       "«                                                                            »\n",
       "«                        ░                 ░       ░                 ░       ░ »\n",
       "« q12_0: ────────────────░─────────────────░───────░─────────────────░───────░─»\n",
       "«                        ░                 ░       ░                 ░       ░ »\n",
       "« q12_1: ────────────────░─────────────────░───────░─────────────────░───────░─»\n",
       "«                        ░                 ░       ░                 ░       ░ »\n",
       "« q12_2: ────────────────░─────────────────░───────░─────────────────░───────░─»\n",
       "«                        ░                 ░       ░                 ░       ░ »\n",
       "« q12_3: ────────────────░─────────────────░───────░─────────────────░───────░─»\n",
       "«                        ░                 ░       ░                 ░       ░ »\n",
       "« q12_4: ────────────────░─────────────────░───────░─────────────────░───────░─»\n",
       "«                        ░                 ░       ░                 ░       ░ »\n",
       "« q12_5: ────────────────░─────────────────░───────░─────────────────░───────░─»\n",
       "«                        ░                 ░       ░                 ░       ░ »\n",
       "« q12_6: ────────────────░─────────────────░───────░─────────────────░───────░─»\n",
       "«                        ░                 ░       ░                 ░       ░ »\n",
       "« q12_7: ────────────────░─────────────────░───────░─────────────────░───────░─»\n",
       "«                        ░                 ░       ░                 ░       ░ »\n",
       "« q12_8: ────────────────░─────────────────░───────░─────────────────░───────░─»\n",
       "«                        ░                 ░       ░                 ░       ░ »\n",
       "« q12_9: ──■────■────■───░─────────────────░───────░─────────────────░───────░─»\n",
       "«          │    │    │   ░                 ░       ░                 ░       ░ »\n",
       "«q12_10: ──┼────┼────┼───░───■────■────■───░───────░─────────────────░───────░─»\n",
       "«          │    │  ┌─┴─┐ ░   │    │  ┌─┴─┐ ░ ┌───┐ ░                 ░ ┌───┐ ░ »\n",
       "«q12_11: ──■────■──┤ X ├─░───■────■──┤ X ├─░─┤ X ├─░───■─────────■───░─┤ X ├─░─»\n",
       "«          │  ┌─┴─┐└───┘ ░   │  ┌─┴─┐└───┘ ░ ├───┤ ░   │         │   ░ ├───┤ ░ »\n",
       "«q12_12: ──■──┤ X ├──────░───■──┤ X ├──────░─┤ X ├─░───■─────────■───░─┤ X ├─░─»\n",
       "«        ┌─┴─┐└───┘      ░ ┌─┴─┐└───┘      ░ └───┘ ░   │         │   ░ └───┘ ░ »\n",
       "«q12_13: ┤ X ├───────────░─┤ X ├───────────░───────░───■─────────■───░───────░─»\n",
       "«        └───┘           ░ └───┘           ░       ░ ┌─┴─┐┌───┐┌─┴─┐ ░       ░ »\n",
       "«q12_14: ────────────────░─────────────────░───────░─┤ X ├┤ Z ├┤ X ├─░───────░─»\n",
       "«                        ░                 ░       ░ └───┘└───┘└───┘ ░       ░ »\n",
       "«  c0: 5/══════════════════════════════════════════════════════════════════════»\n",
       "«                                                                              »\n",
       "«                        ░                 ░                 ░            ░ »\n",
       "« q12_0: ────────────────░─────────────────░─────────────────░────────────░─»\n",
       "«                        ░                 ░                 ░            ░ »\n",
       "« q12_1: ────────────────░─────────────────░─────────────────░────────────░─»\n",
       "«                        ░                 ░                 ░            ░ »\n",
       "« q12_2: ────────────────░─────────────────░─────────────────░────────────░─»\n",
       "«                        ░                 ░                 ░            ░ »\n",
       "« q12_3: ────────────────░─────────────────░─────────────────░────────────░─»\n",
       "«                        ░                 ░                 ░            ░ »\n",
       "« q12_4: ────────────────░─────────────────░─────────────────░────────────░─»\n",
       "«                        ░                 ░                 ░            ░ »\n",
       "« q12_5: ────────────────░─────────────────░─────────────────░────────────░─»\n",
       "«                        ░                 ░                 ░            ░ »\n",
       "« q12_6: ────────────────░─────────────────░─────────────────░────────────░─»\n",
       "«                        ░                 ░                 ░            ░ »\n",
       "« q12_7: ────────────────░─────────────────░─────────────────░───■────■───░─»\n",
       "«                        ░                 ░                 ░   │    │   ░ »\n",
       "« q12_8: ────────────────░─────────────────░───■────■────■───░───┼────┼───░─»\n",
       "«                        ░                 ░   │    │    │   ░   │    │   ░ »\n",
       "« q12_9: ────────────────░───■────■────■───░───┼────┼────┼───░───┼────┼───░─»\n",
       "«                        ░   │    │    │   ░   │    │    │   ░   │    │   ░ »\n",
       "«q12_10: ──■────■────■───░───┼────┼────┼───░───┼────┼────┼───░───┼────┼───░─»\n",
       "«        ┌─┴─┐  │    │   ░ ┌─┴─┐  │    │   ░ ┌─┴─┐  │    │   ░ ┌─┴─┐  │   ░ »\n",
       "«q12_11: ┤ X ├──■────■───░─┤ X ├──■────■───░─┤ X ├──■────■───░─┤ X ├──■───░─»\n",
       "«        └───┘┌─┴─┐  │   ░ └───┘┌─┴─┐  │   ░ └───┘┌─┴─┐  │   ░ └───┘┌─┴─┐ ░ »\n",
       "«q12_12: ─────┤ X ├──■───░──────┤ X ├──■───░──────┤ X ├──■───░──────┤ X ├─░─»\n",
       "«             └───┘┌─┴─┐ ░      └───┘┌─┴─┐ ░      └───┘┌─┴─┐ ░      └───┘ ░ »\n",
       "«q12_13: ──────────┤ X ├─░───────────┤ X ├─░───────────┤ X ├─░────────────░─»\n",
       "«                  └───┘ ░           └───┘ ░           └───┘ ░            ░ »\n",
       "«q12_14: ────────────────░─────────────────░─────────────────░────────────░─»\n",
       "«                        ░                 ░                 ░            ░ »\n",
       "«  c0: 5/═══════════════════════════════════════════════════════════════════»\n",
       "«                                                                           »\n",
       "«                   ░       ░  ░            ░            ░            ░      »\n",
       "« q12_0: ───────────░───────░──░────────────░────────────░────────────░──────»\n",
       "«                   ░       ░  ░            ░            ░            ░      »\n",
       "« q12_1: ───────────░───────░──░────────────░────────────░────────■───░──────»\n",
       "«                   ░       ░  ░            ░            ░        │   ░      »\n",
       "« q12_2: ───────────░───────░──░────────■───░────────■───░────────┼───░──────»\n",
       "«                   ░       ░  ░        │   ░        │   ░        │   ░      »\n",
       "« q12_3: ───────────░───────░──░────────┼───░───■────┼───░────────┼───░───■──»\n",
       "«                   ░       ░  ░        │   ░   │    │   ░        │   ░   │  »\n",
       "« q12_4: ───────────░───────░──░───■────┼───░───┼────┼───░───■────┼───░───┼──»\n",
       "«                   ░       ░  ░   │    │   ░   │    │   ░   │    │   ░   │  »\n",
       "« q12_5: ───────────░───■───░──░───┼────┼───░───┼────┼───░───┼────┼───░───┼──»\n",
       "«                   ░   │   ░  ░   │    │   ░   │    │   ░   │    │   ░   │  »\n",
       "« q12_6: ──■────■───░───┼───░──░───┼────┼───░───┼────┼───░───┼────┼───░───┼──»\n",
       "«          │    │   ░   │   ░  ░   │    │   ░   │    │   ░   │    │   ░ ┌─┴─┐»\n",
       "« q12_7: ──┼────┼───░───┼───░──░───┼────┼───░───┼────┼───░───┼────┼───░─┤ X ├»\n",
       "«          │    │   ░   │   ░  ░   │    │   ░   │    │   ░ ┌─┴─┐┌─┴─┐ ░ └───┘»\n",
       "« q12_8: ──┼────┼───░───┼───░──░───┼────┼───░───┼────┼───░─┤ X ├┤ X ├─░──────»\n",
       "«          │    │   ░   │   ░  ░   │    │   ░ ┌─┴─┐┌─┴─┐ ░ └───┘└───┘ ░      »\n",
       "« q12_9: ──┼────┼───░───┼───░──░───┼────┼───░─┤ X ├┤ X ├─░────────────░──────»\n",
       "«          │    │   ░   │   ░  ░ ┌─┴─┐┌─┴─┐ ░ └───┘└───┘ ░            ░      »\n",
       "«q12_10: ──┼────┼───░───┼───░──░─┤ X ├┤ X ├─░────────────░────────────░──────»\n",
       "«        ┌─┴─┐  │   ░ ┌─┴─┐ ░  ░ └───┘└───┘ ░            ░            ░      »\n",
       "«q12_11: ┤ X ├──■───░─┤ X ├─░──░────────────░────────────░────────────░──────»\n",
       "«        └───┘┌─┴─┐ ░ └───┘ ░  ░            ░            ░            ░      »\n",
       "«q12_12: ─────┤ X ├─░───────░──░────────────░────────────░────────────░──────»\n",
       "«             └───┘ ░       ░  ░            ░            ░            ░      »\n",
       "«q12_13: ───────────░───────░──░────────────░────────────░────────────░──────»\n",
       "«                   ░       ░  ░            ░            ░            ░      »\n",
       "«q12_14: ───────────░───────░──░────────────░────────────░────────────░──────»\n",
       "«                   ░       ░  ░            ░            ░            ░      »\n",
       "«  c0: 5/════════════════════════════════════════════════════════════════════»\n",
       "«                                                                            »\n",
       "«              ░            ░            ░ ┌───┐┌───┐   ┌───┐┌───┐ ░           »\n",
       "« q12_0: ──────░────────■───░────────■───░─┤ H ├┤ X ├─■─┤ X ├┤ H ├─░───■───────»\n",
       "«              ░        │   ░        │   ░ ├───┤├───┤ │ ├───┤├───┤ ░   │       »\n",
       "« q12_1: ──■───░────────┼───░────────┼───░─┤ H ├┤ X ├─■─┤ X ├┤ H ├─░───┼───────»\n",
       "«          │   ░        │   ░        │   ░ ├───┤├───┤ │ ├───┤├───┤ ░   │       »\n",
       "« q12_2: ──┼───░────────┼───░────────┼───░─┤ H ├┤ X ├─■─┤ X ├┤ H ├─░───┼───────»\n",
       "«          │   ░        │   ░        │   ░ ├───┤├───┤ │ ├───┤├───┤ ░   │       »\n",
       "« q12_3: ──┼───░────────┼───░───■────┼───░─┤ H ├┤ X ├─■─┤ X ├┤ H ├─░───┼────■──»\n",
       "«          │   ░        │   ░   │    │   ░ ├───┤├───┤ │ ├───┤├───┤ ░   │    │  »\n",
       "« q12_4: ──┼───░───■────┼───░───┼────┼───░─┤ H ├┤ X ├─■─┤ X ├┤ H ├─░───┼────┼──»\n",
       "«          │   ░   │    │   ░ ┌─┴─┐┌─┴─┐ ░ └───┘└───┘   └───┘└───┘ ░ ┌─┴─┐┌─┴─┐»\n",
       "« q12_5: ──┼───░───┼────┼───░─┤ X ├┤ X ├─░─────────────────────────░─┤ X ├┤ X ├»\n",
       "«          │   ░ ┌─┴─┐┌─┴─┐ ░ └───┘└───┘ ░                         ░ └───┘└───┘»\n",
       "« q12_6: ──┼───░─┤ X ├┤ X ├─░────────────░─────────────────────────░───────────»\n",
       "«        ┌─┴─┐ ░ └───┘└───┘ ░            ░                         ░           »\n",
       "« q12_7: ┤ X ├─░────────────░────────────░─────────────────────────░───────────»\n",
       "«        └───┘ ░            ░            ░                         ░           »\n",
       "« q12_8: ──────░────────────░────────────░─────────────────────────░───────────»\n",
       "«              ░            ░            ░                         ░           »\n",
       "« q12_9: ──────░────────────░────────────░─────────────────────────░───────────»\n",
       "«              ░            ░            ░                         ░           »\n",
       "«q12_10: ──────░────────────░────────────░─────────────────────────░───────────»\n",
       "«              ░            ░            ░                         ░           »\n",
       "«q12_11: ──────░────────────░────────────░─────────────────────────░───────────»\n",
       "«              ░            ░            ░                         ░           »\n",
       "«q12_12: ──────░────────────░────────────░─────────────────────────░───────────»\n",
       "«              ░            ░            ░                         ░           »\n",
       "«q12_13: ──────░────────────░────────────░─────────────────────────░───────────»\n",
       "«              ░            ░            ░                         ░           »\n",
       "«q12_14: ──────░────────────░────────────░─────────────────────────░───────────»\n",
       "«              ░            ░            ░                         ░           »\n",
       "«  c0: 5/══════════════════════════════════════════════════════════════════════»\n",
       "«                                                                              »\n",
       "«         ░            ░            ░            ░            ░            ░ »\n",
       "« q12_0: ─░───■────────░────────────░────────────░────────────░────────────░─»\n",
       "«         ░   │        ░            ░            ░            ░            ░ »\n",
       "« q12_1: ─░───┼────────░───■────────░───■────────░────────────░────────────░─»\n",
       "«         ░   │        ░   │        ░   │        ░            ░            ░ »\n",
       "« q12_2: ─░───┼────────░───┼────────░───┼────────░───■────────░───■────────░─»\n",
       "«         ░   │        ░   │        ░   │        ░   │        ░   │        ░ »\n",
       "« q12_3: ─░───┼────────░───┼────■───░───┼────────░───┼────■───░───┼────────░─»\n",
       "«         ░   │        ░   │    │   ░   │        ░   │    │   ░   │        ░ »\n",
       "« q12_4: ─░───┼────■───░───┼────┼───░───┼────■───░───┼────┼───░───┼────■───░─»\n",
       "«         ░   │    │   ░   │    │   ░   │    │   ░   │    │   ░   │    │   ░ »\n",
       "« q12_5: ─░───┼────┼───░───┼────┼───░───┼────┼───░───┼────┼───░───┼────┼───░─»\n",
       "«         ░ ┌─┴─┐┌─┴─┐ ░   │    │   ░   │    │   ░   │    │   ░   │    │   ░ »\n",
       "« q12_6: ─░─┤ X ├┤ X ├─░───┼────┼───░───┼────┼───░───┼────┼───░───┼────┼───░─»\n",
       "«         ░ └───┘└───┘ ░ ┌─┴─┐┌─┴─┐ ░   │    │   ░   │    │   ░   │    │   ░ »\n",
       "« q12_7: ─░────────────░─┤ X ├┤ X ├─░───┼────┼───░───┼────┼───░───┼────┼───░─»\n",
       "«         ░            ░ └───┘└───┘ ░ ┌─┴─┐┌─┴─┐ ░   │    │   ░   │    │   ░ »\n",
       "« q12_8: ─░────────────░────────────░─┤ X ├┤ X ├─░───┼────┼───░───┼────┼───░─»\n",
       "«         ░            ░            ░ └───┘└───┘ ░ ┌─┴─┐┌─┴─┐ ░   │    │   ░ »\n",
       "« q12_9: ─░────────────░────────────░────────────░─┤ X ├┤ X ├─░───┼────┼───░─»\n",
       "«         ░            ░            ░            ░ └───┘└───┘ ░ ┌─┴─┐┌─┴─┐ ░ »\n",
       "«q12_10: ─░────────────░────────────░────────────░────────────░─┤ X ├┤ X ├─░─»\n",
       "«         ░            ░            ░            ░            ░ └───┘└───┘ ░ »\n",
       "«q12_11: ─░────────────░────────────░────────────░────────────░────────────░─»\n",
       "«         ░            ░            ░            ░            ░            ░ »\n",
       "«q12_12: ─░────────────░────────────░────────────░────────────░────────────░─»\n",
       "«         ░            ░            ░            ░            ░            ░ »\n",
       "«q12_13: ─░────────────░────────────░────────────░────────────░────────────░─»\n",
       "«         ░            ░            ░            ░            ░            ░ »\n",
       "«q12_14: ─░────────────░────────────░────────────░────────────░────────────░─»\n",
       "«         ░            ░            ░            ░            ░            ░ »\n",
       "«  c0: 5/════════════════════════════════════════════════════════════════════»\n",
       "«                                                                            »\n",
       "«         ░       ░            ░            ░                 ░                »\n",
       "« q12_0: ─░───────░────────────░────────────░─────────────────░────────────────»\n",
       "«         ░       ░            ░            ░                 ░                »\n",
       "« q12_1: ─░───────░────────────░────────────░─────────────────░────────────────»\n",
       "«         ░       ░            ░            ░                 ░                »\n",
       "« q12_2: ─░───────░────────────░────────────░─────────────────░────────────────»\n",
       "«         ░       ░            ░            ░                 ░                »\n",
       "« q12_3: ─░───────░────────────░────────────░─────────────────░────────────────»\n",
       "«         ░       ░            ░            ░                 ░                »\n",
       "« q12_4: ─░───────░────────────░────────────░─────────────────░────────────────»\n",
       "«         ░       ░            ░            ░                 ░                »\n",
       "« q12_5: ─░───■───░────────────░────────────░─────────────────░────────────────»\n",
       "«         ░   │   ░            ░            ░                 ░                »\n",
       "« q12_6: ─░───┼───░───■────■───░────────────░─────────────────░────────────────»\n",
       "«         ░   │   ░   │    │   ░            ░                 ░                »\n",
       "« q12_7: ─░───┼───░───┼────┼───░───■────■───░─────────────────░────────────────»\n",
       "«         ░   │   ░   │    │   ░   │    │   ░                 ░                »\n",
       "« q12_8: ─░───┼───░───┼────┼───░───┼────┼───░───■────■────■───░────────────────»\n",
       "«         ░   │   ░   │    │   ░   │    │   ░   │    │    │   ░                »\n",
       "« q12_9: ─░───┼───░───┼────┼───░───┼────┼───░───┼────┼────┼───░───■────■────■──»\n",
       "«         ░   │   ░   │    │   ░   │    │   ░   │    │    │   ░   │    │    │  »\n",
       "«q12_10: ─░───┼───░───┼────┼───░───┼────┼───░───┼────┼────┼───░───┼────┼────┼──»\n",
       "«         ░ ┌─┴─┐ ░   │  ┌─┴─┐ ░   │  ┌─┴─┐ ░   │    │  ┌─┴─┐ ░   │    │  ┌─┴─┐»\n",
       "«q12_11: ─░─┤ X ├─░───■──┤ X ├─░───■──┤ X ├─░───■────■──┤ X ├─░───■────■──┤ X ├»\n",
       "«         ░ └───┘ ░ ┌─┴─┐└───┘ ░ ┌─┴─┐└───┘ ░   │  ┌─┴─┐└───┘ ░   │  ┌─┴─┐└───┘»\n",
       "«q12_12: ─░───────░─┤ X ├──────░─┤ X ├──────░───■──┤ X ├──────░───■──┤ X ├─────»\n",
       "«         ░       ░ └───┘      ░ └───┘      ░ ┌─┴─┐└───┘      ░ ┌─┴─┐└───┘     »\n",
       "«q12_13: ─░───────░────────────░────────────░─┤ X ├───────────░─┤ X ├──────────»\n",
       "«         ░       ░            ░            ░ └───┘           ░ └───┘          »\n",
       "«q12_14: ─░───────░────────────░────────────░─────────────────░────────────────»\n",
       "«         ░       ░            ░            ░                 ░                »\n",
       "«  c0: 5/══════════════════════════════════════════════════════════════════════»\n",
       "«                                                                              »\n",
       "«         ░                 ░       ░                 ░       ░                »\n",
       "« q12_0: ─░─────────────────░───────░─────────────────░───────░────────────────»\n",
       "«         ░                 ░       ░                 ░       ░                »\n",
       "« q12_1: ─░─────────────────░───────░─────────────────░───────░────────────────»\n",
       "«         ░                 ░       ░                 ░       ░                »\n",
       "« q12_2: ─░─────────────────░───────░─────────────────░───────░────────────────»\n",
       "«         ░                 ░       ░                 ░       ░                »\n",
       "« q12_3: ─░─────────────────░───────░─────────────────░───────░────────────────»\n",
       "«         ░                 ░       ░                 ░       ░                »\n",
       "« q12_4: ─░─────────────────░───────░─────────────────░───────░────────────────»\n",
       "«         ░                 ░       ░                 ░       ░                »\n",
       "« q12_5: ─░─────────────────░───────░─────────────────░───────░────────────────»\n",
       "«         ░                 ░       ░                 ░       ░                »\n",
       "« q12_6: ─░─────────────────░───────░─────────────────░───────░────────────────»\n",
       "«         ░                 ░       ░                 ░       ░                »\n",
       "« q12_7: ─░─────────────────░───────░─────────────────░───────░────────────────»\n",
       "«         ░                 ░       ░                 ░       ░                »\n",
       "« q12_8: ─░─────────────────░───────░─────────────────░───────░────────────────»\n",
       "«         ░                 ░       ░                 ░       ░                »\n",
       "« q12_9: ─░─────────────────░───────░─────────────────░───────░────────────────»\n",
       "«         ░                 ░       ░                 ░       ░                »\n",
       "«q12_10: ─░───■────■────■───░───────░─────────────────░───────░───■────■────■──»\n",
       "«         ░   │    │  ┌─┴─┐ ░ ┌───┐ ░                 ░ ┌───┐ ░ ┌─┴─┐  │    │  »\n",
       "«q12_11: ─░───■────■──┤ X ├─░─┤ X ├─░───■─────────■───░─┤ X ├─░─┤ X ├──■────■──»\n",
       "«         ░   │  ┌─┴─┐└───┘ ░ ├───┤ ░   │         │   ░ ├───┤ ░ └───┘┌─┴─┐  │  »\n",
       "«q12_12: ─░───■──┤ X ├──────░─┤ X ├─░───■─────────■───░─┤ X ├─░──────┤ X ├──■──»\n",
       "«         ░ ┌─┴─┐└───┘      ░ └───┘ ░   │         │   ░ └───┘ ░      └───┘┌─┴─┐»\n",
       "«q12_13: ─░─┤ X ├───────────░───────░───■─────────■───░───────░───────────┤ X ├»\n",
       "«         ░ └───┘           ░       ░ ┌─┴─┐┌───┐┌─┴─┐ ░       ░           └───┘»\n",
       "«q12_14: ─░─────────────────░───────░─┤ X ├┤ Z ├┤ X ├─░───────░────────────────»\n",
       "«         ░                 ░       ░ └───┘└───┘└───┘ ░       ░                »\n",
       "«  c0: 5/══════════════════════════════════════════════════════════════════════»\n",
       "«                                                                              »\n",
       "«         ░                 ░                 ░            ░            ░      »\n",
       "« q12_0: ─░─────────────────░─────────────────░────────────░────────────░──────»\n",
       "«         ░                 ░                 ░            ░            ░      »\n",
       "« q12_1: ─░─────────────────░─────────────────░────────────░────────────░──────»\n",
       "«         ░                 ░                 ░            ░            ░      »\n",
       "« q12_2: ─░─────────────────░─────────────────░────────────░────────────░──────»\n",
       "«         ░                 ░                 ░            ░            ░      »\n",
       "« q12_3: ─░─────────────────░─────────────────░────────────░────────────░──────»\n",
       "«         ░                 ░                 ░            ░            ░      »\n",
       "« q12_4: ─░─────────────────░─────────────────░────────────░────────────░──────»\n",
       "«         ░                 ░                 ░            ░            ░      »\n",
       "« q12_5: ─░─────────────────░─────────────────░────────────░────────────░───■──»\n",
       "«         ░                 ░                 ░            ░            ░   │  »\n",
       "« q12_6: ─░─────────────────░─────────────────░────────────░───■────■───░───┼──»\n",
       "«         ░                 ░                 ░            ░   │    │   ░   │  »\n",
       "« q12_7: ─░─────────────────░─────────────────░───■────■───░───┼────┼───░───┼──»\n",
       "«         ░                 ░                 ░   │    │   ░   │    │   ░   │  »\n",
       "« q12_8: ─░─────────────────░───■────■────■───░───┼────┼───░───┼────┼───░───┼──»\n",
       "«         ░                 ░   │    │    │   ░   │    │   ░   │    │   ░   │  »\n",
       "« q12_9: ─░───■────■────■───░───┼────┼────┼───░───┼────┼───░───┼────┼───░───┼──»\n",
       "«         ░   │    │    │   ░   │    │    │   ░   │    │   ░   │    │   ░   │  »\n",
       "«q12_10: ─░───┼────┼────┼───░───┼────┼────┼───░───┼────┼───░───┼────┼───░───┼──»\n",
       "«         ░ ┌─┴─┐  │    │   ░ ┌─┴─┐  │    │   ░ ┌─┴─┐  │   ░ ┌─┴─┐  │   ░ ┌─┴─┐»\n",
       "«q12_11: ─░─┤ X ├──■────■───░─┤ X ├──■────■───░─┤ X ├──■───░─┤ X ├──■───░─┤ X ├»\n",
       "«         ░ └───┘┌─┴─┐  │   ░ └───┘┌─┴─┐  │   ░ └───┘┌─┴─┐ ░ └───┘┌─┴─┐ ░ └───┘»\n",
       "«q12_12: ─░──────┤ X ├──■───░──────┤ X ├──■───░──────┤ X ├─░──────┤ X ├─░──────»\n",
       "«         ░      └───┘┌─┴─┐ ░      └───┘┌─┴─┐ ░      └───┘ ░      └───┘ ░      »\n",
       "«q12_13: ─░───────────┤ X ├─░───────────┤ X ├─░────────────░────────────░──────»\n",
       "«         ░           └───┘ ░           └───┘ ░            ░            ░      »\n",
       "«q12_14: ─░─────────────────░─────────────────░────────────░────────────░──────»\n",
       "«         ░                 ░                 ░            ░            ░      »\n",
       "«  c0: 5/══════════════════════════════════════════════════════════════════════»\n",
       "«                                                                              »\n",
       "«         ░  ░            ░            ░            ░            ░           »\n",
       "« q12_0: ─░──░────────────░────────────░────────────░────────────░────────■──»\n",
       "«         ░  ░            ░            ░            ░            ░        │  »\n",
       "« q12_1: ─░──░────────────░────────────░────────■───░────────■───░────────┼──»\n",
       "«         ░  ░            ░            ░        │   ░        │   ░        │  »\n",
       "« q12_2: ─░──░────────■───░────────■───░────────┼───░────────┼───░────────┼──»\n",
       "«         ░  ░        │   ░        │   ░        │   ░        │   ░        │  »\n",
       "« q12_3: ─░──░────────┼───░───■────┼───░────────┼───░───■────┼───░────────┼──»\n",
       "«         ░  ░        │   ░   │    │   ░        │   ░   │    │   ░        │  »\n",
       "« q12_4: ─░──░───■────┼───░───┼────┼───░───■────┼───░───┼────┼───░───■────┼──»\n",
       "«         ░  ░   │    │   ░   │    │   ░   │    │   ░   │    │   ░   │    │  »\n",
       "« q12_5: ─░──░───┼────┼───░───┼────┼───░───┼────┼───░───┼────┼───░───┼────┼──»\n",
       "«         ░  ░   │    │   ░   │    │   ░   │    │   ░   │    │   ░ ┌─┴─┐┌─┴─┐»\n",
       "« q12_6: ─░──░───┼────┼───░───┼────┼───░───┼────┼───░───┼────┼───░─┤ X ├┤ X ├»\n",
       "«         ░  ░   │    │   ░   │    │   ░   │    │   ░ ┌─┴─┐┌─┴─┐ ░ └───┘└───┘»\n",
       "« q12_7: ─░──░───┼────┼───░───┼────┼───░───┼────┼───░─┤ X ├┤ X ├─░───────────»\n",
       "«         ░  ░   │    │   ░   │    │   ░ ┌─┴─┐┌─┴─┐ ░ └───┘└───┘ ░           »\n",
       "« q12_8: ─░──░───┼────┼───░───┼────┼───░─┤ X ├┤ X ├─░────────────░───────────»\n",
       "«         ░  ░   │    │   ░ ┌─┴─┐┌─┴─┐ ░ └───┘└───┘ ░            ░           »\n",
       "« q12_9: ─░──░───┼────┼───░─┤ X ├┤ X ├─░────────────░────────────░───────────»\n",
       "«         ░  ░ ┌─┴─┐┌─┴─┐ ░ └───┘└───┘ ░            ░            ░           »\n",
       "«q12_10: ─░──░─┤ X ├┤ X ├─░────────────░────────────░────────────░───────────»\n",
       "«         ░  ░ └───┘└───┘ ░            ░            ░            ░           »\n",
       "«q12_11: ─░──░────────────░────────────░────────────░────────────░───────────»\n",
       "«         ░  ░            ░            ░            ░            ░           »\n",
       "«q12_12: ─░──░────────────░────────────░────────────░────────────░───────────»\n",
       "«         ░  ░            ░            ░            ░            ░           »\n",
       "«q12_13: ─░──░────────────░────────────░────────────░────────────░───────────»\n",
       "«         ░  ░            ░            ░            ░            ░           »\n",
       "«q12_14: ─░──░────────────░────────────░────────────░────────────░───────────»\n",
       "«         ░  ░            ░            ░            ░            ░           »\n",
       "«  c0: 5/════════════════════════════════════════════════════════════════════»\n",
       "«                                                                            »\n",
       "«         ░            ░ ┌───┐┌───┐   ┌───┐┌───┐ ░ ┌─┐            \n",
       "« q12_0: ─░────────■───░─┤ H ├┤ X ├─■─┤ X ├┤ H ├─░─┤M├────────────\n",
       "«         ░        │   ░ ├───┤├───┤ │ ├───┤├───┤ ░ └╥┘┌─┐         \n",
       "« q12_1: ─░────────┼───░─┤ H ├┤ X ├─■─┤ X ├┤ H ├─░──╫─┤M├─────────\n",
       "«         ░        │   ░ ├───┤├───┤ │ ├───┤├───┤ ░  ║ └╥┘┌─┐      \n",
       "« q12_2: ─░────────┼───░─┤ H ├┤ X ├─■─┤ X ├┤ H ├─░──╫──╫─┤M├──────\n",
       "«         ░        │   ░ ├───┤├───┤ │ ├───┤├───┤ ░  ║  ║ └╥┘┌─┐   \n",
       "« q12_3: ─░───■────┼───░─┤ H ├┤ X ├─■─┤ X ├┤ H ├─░──╫──╫──╫─┤M├───\n",
       "«         ░   │    │   ░ ├───┤├───┤ │ ├───┤├───┤ ░  ║  ║  ║ └╥┘┌─┐\n",
       "« q12_4: ─░───┼────┼───░─┤ H ├┤ X ├─■─┤ X ├┤ H ├─░──╫──╫──╫──╫─┤M├\n",
       "«         ░ ┌─┴─┐┌─┴─┐ ░ └───┘└───┘   └───┘└───┘ ░  ║  ║  ║  ║ └╥┘\n",
       "« q12_5: ─░─┤ X ├┤ X ├─░─────────────────────────░──╫──╫──╫──╫──╫─\n",
       "«         ░ └───┘└───┘ ░                         ░  ║  ║  ║  ║  ║ \n",
       "« q12_6: ─░────────────░─────────────────────────░──╫──╫──╫──╫──╫─\n",
       "«         ░            ░                         ░  ║  ║  ║  ║  ║ \n",
       "« q12_7: ─░────────────░─────────────────────────░──╫──╫──╫──╫──╫─\n",
       "«         ░            ░                         ░  ║  ║  ║  ║  ║ \n",
       "« q12_8: ─░────────────░─────────────────────────░──╫──╫──╫──╫──╫─\n",
       "«         ░            ░                         ░  ║  ║  ║  ║  ║ \n",
       "« q12_9: ─░────────────░─────────────────────────░──╫──╫──╫──╫──╫─\n",
       "«         ░            ░                         ░  ║  ║  ║  ║  ║ \n",
       "«q12_10: ─░────────────░─────────────────────────░──╫──╫──╫──╫──╫─\n",
       "«         ░            ░                         ░  ║  ║  ║  ║  ║ \n",
       "«q12_11: ─░────────────░─────────────────────────░──╫──╫──╫──╫──╫─\n",
       "«         ░            ░                         ░  ║  ║  ║  ║  ║ \n",
       "«q12_12: ─░────────────░─────────────────────────░──╫──╫──╫──╫──╫─\n",
       "«         ░            ░                         ░  ║  ║  ║  ║  ║ \n",
       "«q12_13: ─░────────────░─────────────────────────░──╫──╫──╫──╫──╫─\n",
       "«         ░            ░                         ░  ║  ║  ║  ║  ║ \n",
       "«q12_14: ─░────────────░─────────────────────────░──╫──╫──╫──╫──╫─\n",
       "«         ░            ░                         ░  ║  ║  ║  ║  ║ \n",
       "«  c0: 5/═══════════════════════════════════════════╩══╩══╩══╩══╩═\n",
       "«                                                   0  1  2  3  4 "
      ]
     },
     "execution_count": 25,
     "metadata": {},
     "output_type": "execute_result"
    }
   ],
   "source": [
    "qr=QuantumRegister(15)\n",
    "qc=QuantumCircuit(qr)\n",
    "\n",
    "qra=QuantumRegister(15)\n",
    "cra=ClassicalRegister(5)\n",
    "qa=QuantumCircuit(qra,cra)\n",
    "\n",
    "qa.h(range(5))\n",
    "qb=grover(qc,qr)\n",
    "qa.compose(qb.compose(qb),inplace=True)# se aplica 2 veces el oraculo y el difusor\n",
    "\n",
    "qa.measure(range(5),cra)\n",
    "\n",
    "qa.draw()"
   ]
  },
  {
   "cell_type": "code",
   "execution_count": 26,
   "id": "b32c19b0",
   "metadata": {},
   "outputs": [
    {
     "data": {
      "image/png": "[encoded data removed]",
      "text/plain": [
       "<Figure size 700x500 with 1 Axes>"
      ]
     },
     "execution_count": 26,
     "metadata": {},
     "output_type": "execute_result"
    }
   ],
   "source": [
    "qasm_simulator = Aer.get_backend('qasm_simulator')\n",
    "\n",
    "job = execute(qa, qasm_simulator, shots = 1000)\n",
    "counts = job.result().get_counts(qa)\n",
    "\n",
    "plot_histogram(counts)"
   ]
  },
  {
   "cell_type": "markdown",
   "id": "18580e62",
   "metadata": {},
   "source": [
    "Del gráfico se obtuvo 108 medidas para la combinacion 11001, \n",
    "Los nodos estan representados por números binarios como '11001'\n",
    "\n",
    "Podemos concluir que se obtendrá la maxima cantidad de aristas cuando se formen los siguientes grupos.\n",
    "\n",
    "Grupo 1: nodo 0, nodo 3 , nodo 4\n",
    "\n",
    "Grupo 2: nodo 1, nodo 2 "
   ]
  },
  {
   "cell_type": "markdown",
   "id": "9adfd07d-6fc3-4cc2-a491-211e46026c6c",
   "metadata": {},
   "source": [
    "\n",
    "\n",
    "\n"
   ]
  },
  {
   "cell_type": "markdown",
   "id": "fa21afeb-2e1e-4ad8-bba5-e3f8deeaa1ce",
   "metadata": {},
   "source": [
    "#### 8.- En el algoritmo de Grover, determine el número de veces que debe ejercutarse el par $U_\\omega U_f$ para que el estado final de nuestro circuito coincida con el Ket de estados deseados sabiendo que $x\\in\\{0,1\\}^5$ y hay 4 estados que sastifacen las características de búsqueda."
   ]
  },
  {
   "cell_type": "markdown",
   "id": "c2cefff8",
   "metadata": {},
   "source": [
    "Solución:"
   ]
  },
  {
   "cell_type": "markdown",
   "id": "6dc93dcc",
   "metadata": {},
   "source": [
    "Finalmente, el número de veces que debemos aplicar $U_\\omega U_f$ sobre $\\ket{s}$ para maximizar la probabilidad de los estados deseados es k"
   ]
  },
  {
   "cell_type": "markdown",
   "id": "b0c5dcfe",
   "metadata": {},
   "source": [
    "Sabemos que $x\\in\\{0,1\\}^5$ entonces tenemos $2^5$ estados ya que hay 5 quibts"
   ]
  },
  {
   "cell_type": "markdown",
   "id": "44930f58",
   "metadata": {},
   "source": [
    "Además hay 4 estados deseados que satisfacen las caracteristicas de búsqueda, a=4."
   ]
  },
  {
   "cell_type": "markdown",
   "id": "e2023585",
   "metadata": {},
   "source": [
    "$$k≈\\frac{\\pi}{4}\\sqrt{\\frac{2^{n}}{a}} \\hspace{1 cm} k \\in \\mathbb{Z}$$"
   ]
  },
  {
   "cell_type": "markdown",
   "id": "5bcb7273",
   "metadata": {},
   "source": [
    "$$k≈\\frac{\\pi}{4}\\sqrt{\\frac{2^{5}}{4}}$$"
   ]
  },
  {
   "cell_type": "markdown",
   "id": "eddd5aa2",
   "metadata": {},
   "source": [
    "$$k≈\\frac{\\pi}{2}\\sqrt{2}$$"
   ]
  },
  {
   "cell_type": "markdown",
   "id": "553723e5",
   "metadata": {},
   "source": [
    "$$k≈2,2214$$"
   ]
  },
  {
   "cell_type": "markdown",
   "id": "d2a5c1c7",
   "metadata": {},
   "source": [
    "$$k= 2$$"
   ]
  },
  {
   "cell_type": "markdown",
   "id": "d3bd314e",
   "metadata": {},
   "source": [
    "El par $U_\\omega U_f$ se debe ejecutar 2 veces para que el estado final coincida con el ket de estados."
   ]
  },
  {
   "cell_type": "markdown",
   "id": "fe6a0a56-4c1a-4307-bca1-ce168a444190",
   "metadata": {},
   "source": [
    "#### Extra 1.- Si\n",
    "\n",
    "\\begin{align}\n",
    "\\ket{\\psi3}&=U\\omega\\ket{\\psi_2}\\\n",
    "&=\\left(2\\ket{s}\\bra{s}-\\mathbb{I}\\right)\\left(-\\sqrt{\\frac{a}{2^n}}\\ket{A}+\\sqrt{\\frac{b}{2^n}}\\ket{B}\\right)\n",
    "\\end{align}\n",
    "\n",
    "Usando\n",
    "\\begin{align}\n",
    "\\ket{s}\\bra{s}=\\frac{a}{2^n}\\ket{A}\\bra{A}+\\frac{b}{2^n}\\ket{B}\\bra{B}+\\frac{\\sqrt{ab}}{2^n}\\left[\\ket{A}\\bra{B}+\\ket{B}\\bra{A}\\right]\n",
    "\\end{align}\n",
    "\\begin{align}\n",
    "&\\sin\\theta=\\sqrt{\\frac{a}{2^n}}\\\n",
    "&\\cos\\theta=\\sqrt{\\frac{b}{2^n}}\n",
    "\\end{align}\n",
    "\n",
    "Demuestre:\n",
    "\\begin{align}\n",
    "\\ket{\\psi_3}=\\sin 3\\theta\\ket{A}+\\cos 3\\theta\\ket{B}\n",
    "\\end{align}"
   ]
  },
  {
   "cell_type": "markdown",
   "id": "903eb7b8",
   "metadata": {},
   "source": [
    "Solución:"
   ]
  },
  {
   "cell_type": "markdown",
   "id": "cec8d2fb",
   "metadata": {},
   "source": [
    "A partir de\n",
    "$$\n",
    "\\begin{aligned}\n",
    "\\ket{\\psi3}=U\\omega\\ket{\\psi_2}\\ &=\\left(2\\ket{s}\\bra{s}-\\mathbb{I}\\right)\\left(-\\sqrt{\\frac{a}{2^n}}\\ket{A}+\\sqrt{\\frac{b}{2^n}}\\ket{B}\\right)\n",
    "\\\\\n",
    "U\\omega\\ket{\\psi_2}\\ &=-2\\sqrt{\\frac{a}{2^n}}\\ket{s}\\bra{s}\\ket{A}\n",
    "+2\\sqrt{\\frac{b}{2^n}}\\ket{s}\\bra{s}\\ket{B}\n",
    "+\\sqrt{\\frac{a}{2^n}}\\ket{A}\n",
    "-\\sqrt{\\frac{b}{2^n}}\\ket{B}  \\hspace{2cm} (\\alpha)\n",
    "\\end{aligned}\n",
    "$$"
   ]
  },
  {
   "cell_type": "markdown",
   "id": "ec5a5372",
   "metadata": {},
   "source": [
    "Tambien sabemos"
   ]
  },
  {
   "cell_type": "markdown",
   "id": "288db2b7",
   "metadata": {},
   "source": [
    "\\begin{align}\n",
    "\\ket{s}\\bra{s}=\\frac{a}{2^n}\\ket{A}\\bra{A}+\\frac{b}{2^n}\\ket{B}\\bra{B}+\\frac{\\sqrt{ab}}{2^n}\\left[\\ket{A}\\bra{B}+\\ket{B}\\bra{A}\\right] \\hspace{2cm}(\\beta)\n",
    "\\end{align}"
   ]
  },
  {
   "cell_type": "markdown",
   "id": "da0c11a7",
   "metadata": {},
   "source": [
    "Multiplicando la expresión $(\\beta)$ por $|A>$"
   ]
  },
  {
   "cell_type": "markdown",
   "id": "e746c917",
   "metadata": {},
   "source": [
    "\\begin{align}\n",
    "\\left(\\ket{s}\\bra{s}\\right)\\ket{A}=\\left(\\frac{a}{2^n}\\ket{A}\\bra{A}+\\frac{b}{2^n}\\ket{B}\\bra{B}+\\frac{\\sqrt{ab}}{2^n}\\left[\\ket{A}\\bra{B}+\\ket{B}\\bra{A}\\right]\\right)\\ket{A}\n",
    "\\end{align}"
   ]
  },
  {
   "cell_type": "markdown",
   "id": "3c607a09",
   "metadata": {},
   "source": [
    "\\begin{align}\n",
    "\\ket{s}\\bra{s}\\ket{A}=\\frac{a}{2^n}\\ket{A}\\bra{A}\\ket{A}+\\frac{b}{2^n}\\ket{B}\\bra{B}\\ket{A}+\\frac{\\sqrt{ab}}{2^n}\\left[\\ket{A}\\bra{B}\\ket{A}+\\ket{B}\\bra{A}\\ket{A}\\right]\n",
    "\\end{align}"
   ]
  },
  {
   "cell_type": "markdown",
   "id": "6537f5ee",
   "metadata": {},
   "source": [
    "Sabemos que $\\ket{A} \\text{ y } \\ket{B}$ son ortogonales"
   ]
  },
  {
   "cell_type": "markdown",
   "id": "9f1cce5d",
   "metadata": {},
   "source": [
    "$$\\bra{A}\\ket{B}=\\bra{B}\\ket{A}=0$$"
   ]
  },
  {
   "cell_type": "markdown",
   "id": "a0aa74e2",
   "metadata": {},
   "source": [
    "$$\\bra{A}\\ket{A}=\\bra{B}\\ket{B}=1$$"
   ]
  },
  {
   "cell_type": "markdown",
   "id": "e42fd44e",
   "metadata": {},
   "source": [
    "\\begin{align}\n",
    "\\ket{s}\\bra{s}\\ket{A}=\\frac{a}{2^n}\\ket{A}\\bra{A}\\ket{A}+\\frac{b}{2^n}\\ket{B}\\bra{B}\\ket{A}+\\frac{\\sqrt{ab}}{2^n}\\left[\\ket{A}\\bra{B}\\ket{A}+\\ket{B}\\bra{A}\\ket{A}\\right]\n",
    "\\end{align}"
   ]
  },
  {
   "cell_type": "markdown",
   "id": "9891f56b",
   "metadata": {},
   "source": [
    "\\begin{align}\n",
    "\\ket{s}\\bra{s}\\ket{A}=\\frac{a}{2^n}\\ket{A}+\\frac{\\sqrt{ab}}{2^n}\\ket{B} \\hspace{2cm}(1)\n",
    "\\end{align}"
   ]
  },
  {
   "cell_type": "markdown",
   "id": "6f8cf845",
   "metadata": {},
   "source": [
    "Multiplicando la expresión $(\\beta)$ por $|B>$"
   ]
  },
  {
   "cell_type": "markdown",
   "id": "167ca2a0",
   "metadata": {},
   "source": [
    "\\begin{align}\n",
    "\\left(\\ket{s}\\bra{s}\\right)\\ket{B}=\\left(\\frac{a}{2^n}\\ket{A}\\bra{A}+\\frac{b}{2^n}\\ket{B}\\bra{B}+\\frac{\\sqrt{ab}}{2^n}\\left[\\ket{A}\\bra{B}+\\ket{B}\\bra{A}\\right]\\right)\\ket{B}\n",
    "\\end{align}"
   ]
  },
  {
   "cell_type": "markdown",
   "id": "c50aa5da",
   "metadata": {},
   "source": [
    "\\begin{align}\n",
    "\\ket{s}\\bra{s}\\ket{B}=\\frac{a}{2^n}\\ket{A}\\bra{A}\\ket{B}+\\frac{b}{2^n}\\ket{B}\\bra{B}\\ket{B}+\\frac{\\sqrt{ab}}{2^n}\\left[\\ket{A}\\bra{B}\\ket{B}+\\ket{B}\\bra{A}\\ket{B}\\right]\n",
    "\\end{align}"
   ]
  },
  {
   "cell_type": "markdown",
   "id": "97149a08",
   "metadata": {},
   "source": [
    "Sabemos que $\\ket{A} \\text{ y } \\ket{B}$ son ortogonales"
   ]
  },
  {
   "cell_type": "markdown",
   "id": "5d367e51",
   "metadata": {},
   "source": [
    "$$\\bra{A}\\ket{B}=\\bra{B}\\ket{A}=0$$"
   ]
  },
  {
   "cell_type": "markdown",
   "id": "2147af33",
   "metadata": {},
   "source": [
    "$$\\bra{A}\\ket{A}=\\bra{B}\\ket{B}=1$$"
   ]
  },
  {
   "cell_type": "markdown",
   "id": "bcc21448",
   "metadata": {},
   "source": [
    "\\begin{align}\n",
    "\\ket{s}\\bra{s}\\ket{A}=\\frac{a}{2^n}\\ket{A}\\bra{A}\\ket{A}+\\frac{b}{2^n}\\ket{B}\\bra{B}\\ket{A}+\\frac{\\sqrt{ab}}{2^n}\\left[\\ket{A}\\bra{B}\\ket{A}+\\ket{B}\\bra{A}\\ket{A}\\right]\n",
    "\\end{align}"
   ]
  },
  {
   "cell_type": "markdown",
   "id": "e0915180",
   "metadata": {},
   "source": [
    "\\begin{align}\n",
    "\\ket{s}\\bra{s}\\ket{B}=\\frac{b}{2^n}\\ket{B}+\\frac{\\sqrt{ab}}{2^n}\\ket{A} \\hspace{2cm}(2)\n",
    "\\end{align}"
   ]
  },
  {
   "cell_type": "markdown",
   "id": "b1ef6fe6",
   "metadata": {},
   "source": [
    "Reemplazando (1) y (2) en $(\\alpha)$"
   ]
  },
  {
   "cell_type": "markdown",
   "id": "7ee45459",
   "metadata": {},
   "source": [
    "$$\n",
    "\\begin{aligned}\n",
    "U\\omega\\ket{\\psi_2}\\ &=-2\\sqrt{\\frac{a}{2^n}}\\ket{s}\\bra{s}\\ket{A}\n",
    "+2\\sqrt{\\frac{b}{2^n}}\\ket{s}\\bra{s}\\ket{B}\n",
    "+\\sqrt{\\frac{a}{2^n}}\\ket{A}\n",
    "-\\sqrt{\\frac{b}{2^n}}\\ket{B}\n",
    "\\\\\n",
    "U\\omega\\ket{\\psi_2}\\ &=-2\\sqrt{\\frac{a}{2^n}}(\\frac{a}{2^n}\\ket{A}+\\frac{\\sqrt{ab}}{2^n}\\ket{B})\n",
    "+2\\sqrt{\\frac{b}{2^n}}(\\frac{b}{2^n}\\ket{B}+\\frac{\\sqrt{ab}}{2^n}\\ket{A})\n",
    "+\\sqrt{\\frac{a}{2^n}}\\ket{A}\n",
    "-\\sqrt{\\frac{b}{2^n}}\\ket{B}  \\hspace{2cm} (\\gamma)\n",
    "\\end{aligned}\n",
    "$$"
   ]
  },
  {
   "cell_type": "markdown",
   "id": "41a4820d",
   "metadata": {},
   "source": [
    "Además , tambien sabemos:\n",
    "\\begin{align}\n",
    "&\\sin\\theta=\\sqrt{\\frac{a}{2^n}}\\\n",
    "&\\cos\\theta=\\sqrt{\\frac{b}{2^n}}\n",
    "\\end{align}"
   ]
  },
  {
   "cell_type": "markdown",
   "id": "a94602fd",
   "metadata": {},
   "source": [
    "$$\n",
    "\\begin{aligned}\n",
    "U\\omega\\ket{\\psi_2}\\ &=-2\\sin(\\theta)(\\sin^{2}(\\theta)\\ket{A}+\\sin(\\theta)\\cos(\\theta)\\ket{B})+2\\cos(\\theta)(\\cos^{2}(\\theta)\\ket{B}+\\sin(\\theta)\\cos(\\theta)\\ket{A})+\\sin(\\theta)\\ket{A}-\\cos(\\theta)\\ket{B}\n",
    "\\\\\n",
    "U\\omega\\ket{\\psi_2}\\ &=-2\\sin^{3}(\\theta)\\ket{A}-2\\sin^{2}(\\theta)\\cos(\\theta)\\ket{B}+2\\cos^{3}(\\theta)\\ket{B}+\n",
    "2\\cos^{2}(\\theta)\\sin(\\theta)\\ket{A}+\\sin(\\theta)\\ket{A}-\\cos(\\theta)\\ket{B}\n",
    "\\\\\n",
    "U\\omega\\ket{\\psi_2}\\ &=\\left(-2\\sin^{3}(\\theta)+ 2\\cos^{2}(\\theta)\\sin(\\theta)+\\sin(\\theta)\\right)\\ket{A}+\\left(-2\\sin^{2}(\\theta)\\cos(\\theta)+2\\cos^{3}(\\theta)-\\cos(\\theta)\\right)\\ket{B}\n",
    "\\\\\n",
    "U\\omega\\ket{\\psi_2}\\ &=\\left(3\\sin(\\theta)-4\\sin^{3}(\\theta)\\right)\\ket{A}+\\left(4\\cos^{3}(\\theta)-3\\cos(\\theta)\\right)\\ket{B}\n",
    "\\\\\n",
    "U\\omega\\ket{\\psi_2}\\ &=\\sin(3\\theta)\\ket{A}+\\cos(3\\theta)\\ket{B}\n",
    "\\\\\n",
    "\\ket{\\psi_3}\\ &=\\sin(3\\theta)\\ket{A}+\\cos(3\\theta)\\ket{B}\n",
    "\\end{aligned}\n",
    "$$"
   ]
  },
  {
   "cell_type": "markdown",
   "id": "a622b4aa",
   "metadata": {},
   "source": [
    "Por lo tanto queda demostrado que $$\\ket{\\psi_3}=\\sin(3\\theta)\\ket{A}+\\cos(3\\theta)\\ket{B}$$"
   ]
  },
  {
   "cell_type": "markdown",
   "id": "82a0a443-064c-4a24-8df7-33008ba3790a",
   "metadata": {},
   "source": [
    "## Clase 6:"
   ]
  },
  {
   "cell_type": "markdown",
   "id": "86b485a4",
   "metadata": {},
   "source": [
    "#### 9.- La implementación de QFT se probó preparando el estado de Fourier $|\\widetilde{5}\\rangle$ para el cual $\\text{QFT}^{\\dagger}|\\widetilde{5}\\rangle= |101\\rangle$. Intenta encontrar el estado $|a\\rangle$ tal que $\\text{QFT}^{\\dagger}|a\\rangle = |100\\rangle$."
   ]
  },
  {
   "cell_type": "markdown",
   "id": "490f3c81",
   "metadata": {},
   "source": [
    "Solución:"
   ]
  },
  {
   "cell_type": "markdown",
   "id": "77c48c07",
   "metadata": {},
   "source": [
    "1.-Para resolver el problema primero aplicaremos la QFT a la expresión,\n",
    "$$\\text{QFT}(\\text{QFT}^{\\dagger}|a\\rangle)= \\text{QFT}(|100\\rangle)$$\n",
    "$$|a\\rangle= \\text{QFT}(|100\\rangle)$$\n",
    "2.-Posteriormente comprobaremos la QFT con la inversa\n",
    "$$\\text{QFT}^{\\dagger}|a\\rangle = |100\\rangle$$\n"
   ]
  },
  {
   "cell_type": "markdown",
   "id": "27b8cdb5",
   "metadata": {},
   "source": [
    "--------------------------------------------------------------------------"
   ]
  },
  {
   "cell_type": "markdown",
   "id": "3b6b4dac",
   "metadata": {},
   "source": [
    "##### Paso 1: Resolviendo con QFT"
   ]
  },
  {
   "cell_type": "markdown",
   "id": "2571bd46",
   "metadata": {},
   "source": [
    "De la definición:\n",
    "$$\n",
    "\\begin{aligned}\n",
    "QFT_N\\vert x \\rangle & = \\frac{1}{\\sqrt{N}} \\sum_{y=0}^{N-1}\\omega_N^{xy} \\vert y \\rangle \n",
    "\\\\\n",
    "& = \\frac{1}{\\sqrt{N}}\n",
    "\\left(\\vert0\\rangle + e^{\\frac{2\\pi i}{2}x} \\vert1\\rangle\\right) \n",
    "\\otimes\n",
    "\\left(\\vert0\\rangle + e^{\\frac{2\\pi i}{2^2}x} \\vert1\\rangle\\right) \n",
    "\\otimes  \n",
    "\\ldots\n",
    "\\otimes\n",
    "\\left(\\vert0\\rangle + e^{\\frac{2\\pi i}{2^{n-1}}x} \\vert1\\rangle\\right) \n",
    "\\otimes\n",
    "\\left(\\vert0\\rangle + e^{\\frac{2\\pi i}{2^n}x} \\vert1\\rangle\\right) \n",
    "\\end{aligned}\n",
    "$$"
   ]
  },
  {
   "cell_type": "markdown",
   "id": "e3db0037",
   "metadata": {},
   "source": [
    "Sabemos que\n",
    "$$|100\\rangle= |4\\rangle$$\n",
    "$$N= 2^{n}$$\n",
    "\n",
    "Para un sistema de 3 qubits\n",
    "$$N= 2^{3}=8$$\n",
    "\n",
    "Reemplazando en el desarrollo\n",
    "$$\n",
    "\\begin{aligned}\n",
    "QFT_N\\vert x \\rangle & = \\frac{1}{\\sqrt{N}} \\sum_{y=0}^{N-1}\\omega_N^{xy} \\vert y \\rangle \n",
    "\\\\\n",
    "QFT_N\\vert 4 \\rangle & = \\frac{1}{\\sqrt{8}}\n",
    "\\left(\\vert0\\rangle + e^{\\frac{2\\pi i}{2}4}\\vert1\\rangle\\right) \n",
    "\\otimes\n",
    "\\left(\\vert0\\rangle + e^{\\frac{2\\pi i}{2^{2}}4} \\vert1\\rangle\\right) \n",
    "\\otimes\n",
    "\\left(\\vert0\\rangle + e^{\\frac{2\\pi i}{2^{3}}4} \\vert1\\rangle\\right)\n",
    "\\\\\n",
    "QFT_N\\vert 4 \\rangle & = \\frac{1}{\\sqrt{8}}\n",
    "\\left(\\vert0\\rangle + e^{4\\pi i} \\vert1\\rangle\\right) \n",
    "\\otimes\n",
    "\\left(\\vert0\\rangle + e^{2\\pi i} \\vert1\\rangle\\right) \n",
    "\\otimes\n",
    "\\left(\\vert0\\rangle + e^{\\pi i} \\vert1\\rangle\\right)\n",
    "\\\\\n",
    "QFT_N\\vert 4 \\rangle & = \\frac{1}{\\sqrt{8}}\n",
    "\\left(\\vert0\\rangle + \\vert1\\rangle\\right) \n",
    "\\otimes\n",
    "\\left(\\vert0\\rangle + \\vert1\\rangle\\right) \n",
    "\\otimes\n",
    "\\left(\\vert0\\rangle - \\vert1\\rangle\\right)\n",
    "\\\\\n",
    "QFT_N\\vert 4 \\rangle & = \\frac{1}{\\sqrt{2}}\n",
    "\\left(\\vert0\\rangle + \\vert1\\rangle\\right) \n",
    "\\otimes\n",
    "\\frac{1}{\\sqrt{2}}\n",
    "\\left(\\vert0\\rangle + \\vert1\\rangle\\right) \n",
    "\\otimes\n",
    "\\frac{1}{\\sqrt{2}}\n",
    "\\left(\\vert0\\rangle - \\vert1\\rangle\\right)\n",
    "\\\\\n",
    "QFT_N\\vert 4 \\rangle & = \\vert+\\rangle\n",
    "\\otimes\n",
    "\\vert+\\rangle\n",
    "\\otimes\n",
    "\\vert-\\rangle\n",
    "\\\\\n",
    "QFT_N\\vert 4 \\rangle & = \\vert++-\\rangle\n",
    "\\\\\n",
    "\\vert \\widetilde{4} \\rangle & = \\vert++-\\rangle\n",
    "\\end{aligned}\n",
    "$$"
   ]
  },
  {
   "cell_type": "markdown",
   "id": "74e65f2d",
   "metadata": {},
   "source": [
    "Entonces el $$\\vert a\\rangle=\\vert ++-\\rangle$$"
   ]
  },
  {
   "cell_type": "markdown",
   "id": "670d0274",
   "metadata": {},
   "source": [
    "##### Paso 2: Comprobando la Tranformada de Fourier cuántica con la INVERSA"
   ]
  },
  {
   "cell_type": "markdown",
   "id": "cf7e3777",
   "metadata": {},
   "source": [
    "#### Definiendo la transformada de Fourier"
   ]
  },
  {
   "cell_type": "code",
   "execution_count": 11,
   "id": "1e5a4cf3",
   "metadata": {},
   "outputs": [],
   "source": [
    "import numpy as np\n",
    "from numpy import pi\n",
    "# importing Qiskit\n",
    "from qiskit import QuantumCircuit\n",
    "from qiskit.visualization import plot_histogram, plot_bloch_multivector"
   ]
  },
  {
   "cell_type": "code",
   "execution_count": 12,
   "id": "a2e507d7",
   "metadata": {},
   "outputs": [],
   "source": [
    "from qiskit import *"
   ]
  },
  {
   "cell_type": "code",
   "execution_count": 13,
   "id": "20d07d61",
   "metadata": {},
   "outputs": [],
   "source": [
    "#Aplicación de compuerta H y CP para último qubit\n",
    "def qft_rotations(circuit, n):\n",
    "    if n == 0: # Exit function if circuit is empty\n",
    "        return circuit\n",
    "    n -= 1 # Indexes start from 0\n",
    "    circuit.h(n) # Apply the H-gate to the most significant qubit\n",
    "    for qubit in range(n):\n",
    "        # For each less significant qubit, we need to do a\n",
    "        # smaller-angled controlled rotation: \n",
    "        circuit.cp(pi/2**(n-qubit), qubit, n)"
   ]
  },
  {
   "cell_type": "code",
   "execution_count": 14,
   "id": "3dc4c598",
   "metadata": {},
   "outputs": [],
   "source": [
    "#Aplicacion de función qft_rotation de forma recursiva para otros qubits\n",
    "def qft_rotations(circuit, n):\n",
    "    \"\"\"Performs qft on the first n qubits in circuit (without swaps)\"\"\"\n",
    "    if n == 0:\n",
    "        return circuit\n",
    "    n -= 1\n",
    "    circuit.h(n)\n",
    "    for qubit in range(n):\n",
    "        circuit.cp(pi/2**(n-qubit), qubit, n)\n",
    "    # At the end of our function, we call the same function again on\n",
    "    # the next qubits (we reduced n by one earlier in the function)\n",
    "    qft_rotations(circuit, n)"
   ]
  },
  {
   "cell_type": "code",
   "execution_count": 15,
   "id": "b453fc1d",
   "metadata": {},
   "outputs": [],
   "source": [
    "#Etapa de intercambio de qubits\n",
    "def swap_registers(circuit, n):\n",
    "    for qubit in range(n//2):\n",
    "        circuit.swap(qubit, n-qubit-1)\n",
    "    return circuit"
   ]
  },
  {
   "cell_type": "markdown",
   "id": "6bc371ee",
   "metadata": {},
   "source": [
    "#### Función Transformada de fourier cuantica ( QFT)"
   ]
  },
  {
   "cell_type": "code",
   "execution_count": 16,
   "id": "a4f3c073",
   "metadata": {},
   "outputs": [],
   "source": [
    "def qft(circuit, n):\n",
    "    \"\"\"QFT on the first n qubits in circuit\"\"\"\n",
    "    qft_rotations(circuit, n)\n",
    "    swap_registers(circuit, n)\n",
    "    return circuit"
   ]
  },
  {
   "cell_type": "markdown",
   "id": "7d8c688b",
   "metadata": {},
   "source": [
    "Veamos la QFT en un circuito cuántico de 3 qubits"
   ]
  },
  {
   "cell_type": "code",
   "execution_count": 17,
   "id": "b4e35846",
   "metadata": {},
   "outputs": [
    {
     "data": {
      "image/png": "[encoded data removed]",
      "text/plain": [
       "<Figure size 956.385x284.278 with 1 Axes>"
      ]
     },
     "execution_count": 17,
     "metadata": {},
     "output_type": "execute_result"
    }
   ],
   "source": [
    "qc = QuantumCircuit(3)\n",
    "qft(qc,3)\n",
    "qc.draw(output='mpl')"
   ]
  },
  {
   "cell_type": "code",
   "execution_count": 18,
   "id": "1f5fa29d",
   "metadata": {},
   "outputs": [],
   "source": [
    "import numpy as np\n",
    "from numpy import pi\n",
    "# importing Qiskit\n",
    "from qiskit import QuantumCircuit\n",
    "from qiskit.visualization import plot_histogram, plot_bloch_multivector\n",
    "from qiskit.providers.aer import Aer"
   ]
  },
  {
   "cell_type": "markdown",
   "id": "f7b72825",
   "metadata": {},
   "source": [
    "#### Función Transformada de fourier cuantica INVERSA"
   ]
  },
  {
   "cell_type": "code",
   "execution_count": 19,
   "id": "ef7b178b",
   "metadata": {},
   "outputs": [],
   "source": [
    "def inverse_qft(circuit, n):\n",
    "    \"\"\"Does the inverse QFT on the first n qubits in circuit\"\"\"\n",
    "    # First we create a QFT circuit of the correct size:\n",
    "    qft_circ = qft(QuantumCircuit(n), n)\n",
    "    # Then we take the inverse of this circuit\n",
    "    invqft_circ = qft_circ.inverse()\n",
    "    # And add it to the first n qubits in our existing circuit\n",
    "    circuit.append(invqft_circ, circuit.qubits[:n])\n",
    "    return circuit.decompose() # .decompose() allows us to see the individual gates"
   ]
  },
  {
   "cell_type": "markdown",
   "id": "bdb3697b",
   "metadata": {},
   "source": [
    "Ahora pongamos nuestros qubits en el estado $|\\widetilde{4}\\rangle$, sabemos que es $\\vert++-\\rangle$"
   ]
  },
  {
   "cell_type": "code",
   "execution_count": 20,
   "id": "0b44c337",
   "metadata": {},
   "outputs": [
    {
     "data": {
      "text/html": [
       "<pre style=\"word-wrap: normal;white-space: pre;background: #fff0;line-height: 1.1;font-family: &quot;Courier New&quot;,Courier,monospace\">     ┌───┐ ┌──────┐\n",
       "q_0: ┤ H ├─┤ P(π) ├\n",
       "     ├───┤┌┴──────┤\n",
       "q_1: ┤ H ├┤ P(2π) ├\n",
       "     ├───┤├───────┤\n",
       "q_2: ┤ H ├┤ P(4π) ├\n",
       "     └───┘└───────┘</pre>"
      ],
      "text/plain": [
       "     ┌───┐ ┌──────┐\n",
       "q_0: ┤ H ├─┤ P(π) ├\n",
       "     ├───┤┌┴──────┤\n",
       "q_1: ┤ H ├┤ P(2π) ├\n",
       "     ├───┤├───────┤\n",
       "q_2: ┤ H ├┤ P(4π) ├\n",
       "     └───┘└───────┘"
      ]
     },
     "execution_count": 20,
     "metadata": {},
     "output_type": "execute_result"
    }
   ],
   "source": [
    "nqubits = 3\n",
    "number = 4\n",
    "qc1 = QuantumCircuit(nqubits)\n",
    "for qubit in range(nqubits):\n",
    "    qc1.h(qubit)\n",
    "qc1.p(number*pi/4,0)\n",
    "qc1.p(number*pi/2,1)\n",
    "qc1.p(number*pi,2)\n",
    "\n",
    "qc1.draw()"
   ]
  },
  {
   "cell_type": "markdown",
   "id": "1cfddc51",
   "metadata": {},
   "source": [
    "Y podemos ver que esto da como resultado el estado de Fourier $|\\widetilde{4}\\rangle = \\vert++-\\rangle$:"
   ]
  },
  {
   "cell_type": "code",
   "execution_count": 9,
   "id": "9d15565d",
   "metadata": {},
   "outputs": [
    {
     "data": {
      "image/png": "[encoded data removed]",
      "text/plain": [
       "<Figure size 1440x480 with 3 Axes>"
      ]
     },
     "execution_count": 9,
     "metadata": {},
     "output_type": "execute_result"
    }
   ],
   "source": [
    "qc1_init = qc1.copy()\n",
    "qc1_init.save_statevector()\n",
    "sim = Aer.get_backend(\"aer_simulator\")\n",
    "statevector = sim.run(qc1_init).result().get_statevector()\n",
    "plot_bloch_multivector(statevector)"
   ]
  },
  {
   "cell_type": "markdown",
   "id": "0535ec67",
   "metadata": {},
   "source": [
    "Finalmente, aplicemos nuestro QFT inverso:"
   ]
  },
  {
   "cell_type": "code",
   "execution_count": 21,
   "id": "f68f2f27",
   "metadata": {},
   "outputs": [
    {
     "data": {
      "text/html": [
       "<pre style=\"word-wrap: normal;white-space: pre;background: #fff0;line-height: 1.1;font-family: &quot;Courier New&quot;,Courier,monospace\">        ┌─────────┐ ┌──────────┐   ┌───┐                                   »\n",
       "   q_0: ┤ U2(0,π) ├─┤ U(0,0,π) ├─X─┤ H ├─■────────────────────────■────────»\n",
       "        ├─────────┤┌┴──────────┤ │ └───┘ │P(-π/2) ┌───┐           │        »\n",
       "   q_1: ┤ U2(0,π) ├┤ U(0,0,2π) ├─┼───────■────────┤ H ├─■─────────┼────────»\n",
       "        ├─────────┤├───────────┤ │                └───┘ │P(-π/2)  │P(-π/4) »\n",
       "   q_2: ┤ U2(0,π) ├┤ U(0,0,4π) ├─X──────────────────────■─────────■────────»\n",
       "        └─────────┘└───────────┘                                           »\n",
       "meas: 3/═══════════════════════════════════════════════════════════════════»\n",
       "                                                                           »\n",
       "«              ░ ┌─┐      \n",
       "«   q_0: ──────░─┤M├──────\n",
       "«              ░ └╥┘┌─┐   \n",
       "«   q_1: ──────░──╫─┤M├───\n",
       "«        ┌───┐ ░  ║ └╥┘┌─┐\n",
       "«   q_2: ┤ H ├─░──╫──╫─┤M├\n",
       "«        └───┘ ░  ║  ║ └╥┘\n",
       "«meas: 3/═════════╩══╩══╩═\n",
       "«                 0  1  2 </pre>"
      ],
      "text/plain": [
       "        ┌─────────┐ ┌──────────┐   ┌───┐                                   »\n",
       "   q_0: ┤ U2(0,π) ├─┤ U(0,0,π) ├─X─┤ H ├─■────────────────────────■────────»\n",
       "        ├─────────┤┌┴──────────┤ │ └───┘ │P(-π/2) ┌───┐           │        »\n",
       "   q_1: ┤ U2(0,π) ├┤ U(0,0,2π) ├─┼───────■────────┤ H ├─■─────────┼────────»\n",
       "        ├─────────┤├───────────┤ │                └───┘ │P(-π/2)  │P(-π/4) »\n",
       "   q_2: ┤ U2(0,π) ├┤ U(0,0,4π) ├─X──────────────────────■─────────■────────»\n",
       "        └─────────┘└───────────┘                                           »\n",
       "meas: 3/═══════════════════════════════════════════════════════════════════»\n",
       "                                                                           »\n",
       "«              ░ ┌─┐      \n",
       "«   q_0: ──────░─┤M├──────\n",
       "«              ░ └╥┘┌─┐   \n",
       "«   q_1: ──────░──╫─┤M├───\n",
       "«        ┌───┐ ░  ║ └╥┘┌─┐\n",
       "«   q_2: ┤ H ├─░──╫──╫─┤M├\n",
       "«        └───┘ ░  ║  ║ └╥┘\n",
       "«meas: 3/═════════╩══╩══╩═\n",
       "«                 0  1  2 "
      ]
     },
     "execution_count": 21,
     "metadata": {},
     "output_type": "execute_result"
    }
   ],
   "source": [
    "qc1 = inverse_qft(qc1, nqubits)\n",
    "qc1.measure_all()\n",
    "qc1.draw()"
   ]
  },
  {
   "cell_type": "markdown",
   "id": "f4315899",
   "metadata": {},
   "source": [
    "#### Conexión a una maquina cuántica"
   ]
  },
  {
   "cell_type": "code",
   "execution_count": 25,
   "id": "be722fc7",
   "metadata": {},
   "outputs": [
    {
     "name": "stdout",
     "output_type": "stream",
     "text": [
      "Requirement already satisfied: qiskit-ibmq-provider in /home/ninja/anaconda3/lib/python3.11/site-packages (0.20.2)\n",
      "Requirement already satisfied: qiskit-terra>=0.18.0 in /home/ninja/anaconda3/lib/python3.11/site-packages (from qiskit-ibmq-provider) (0.25.0)\n",
      "Requirement already satisfied: requests>=2.19 in /home/ninja/anaconda3/lib/python3.11/site-packages (from qiskit-ibmq-provider) (2.31.0)\n",
      "Requirement already satisfied: requests-ntlm<=1.1.0 in /home/ninja/anaconda3/lib/python3.11/site-packages (from qiskit-ibmq-provider) (1.1.0)\n",
      "Requirement already satisfied: numpy<1.24 in /home/ninja/anaconda3/lib/python3.11/site-packages (from qiskit-ibmq-provider) (1.23.5)\n",
      "Requirement already satisfied: urllib3>=1.21.1 in /home/ninja/anaconda3/lib/python3.11/site-packages (from qiskit-ibmq-provider) (1.26.16)\n",
      "Requirement already satisfied: python-dateutil>=2.8.0 in /home/ninja/anaconda3/lib/python3.11/site-packages (from qiskit-ibmq-provider) (2.8.2)\n",
      "Requirement already satisfied: websocket-client>=1.5.1 in /home/ninja/anaconda3/lib/python3.11/site-packages (from qiskit-ibmq-provider) (1.6.1)\n",
      "Requirement already satisfied: websockets>=10.0 in /home/ninja/anaconda3/lib/python3.11/site-packages (from qiskit-ibmq-provider) (11.0.3)\n",
      "Requirement already satisfied: six>=1.5 in /home/ninja/anaconda3/lib/python3.11/site-packages (from python-dateutil>=2.8.0->qiskit-ibmq-provider) (1.16.0)\n",
      "Requirement already satisfied: rustworkx>=0.13.0 in /home/ninja/anaconda3/lib/python3.11/site-packages (from qiskit-terra>=0.18.0->qiskit-ibmq-provider) (0.13.1)\n",
      "Requirement already satisfied: ply>=3.10 in /home/ninja/anaconda3/lib/python3.11/site-packages (from qiskit-terra>=0.18.0->qiskit-ibmq-provider) (3.11)\n",
      "Requirement already satisfied: psutil>=5 in /home/ninja/anaconda3/lib/python3.11/site-packages (from qiskit-terra>=0.18.0->qiskit-ibmq-provider) (5.9.0)\n",
      "Requirement already satisfied: scipy>=1.5 in /home/ninja/anaconda3/lib/python3.11/site-packages (from qiskit-terra>=0.18.0->qiskit-ibmq-provider) (1.10.1)\n",
      "Requirement already satisfied: sympy>=1.3 in /home/ninja/anaconda3/lib/python3.11/site-packages (from qiskit-terra>=0.18.0->qiskit-ibmq-provider) (1.11.1)\n",
      "Requirement already satisfied: dill>=0.3 in /home/ninja/anaconda3/lib/python3.11/site-packages (from qiskit-terra>=0.18.0->qiskit-ibmq-provider) (0.3.6)\n",
      "Requirement already satisfied: stevedore>=3.0.0 in /home/ninja/anaconda3/lib/python3.11/site-packages (from qiskit-terra>=0.18.0->qiskit-ibmq-provider) (5.1.0)\n",
      "Requirement already satisfied: symengine<0.10,>=0.9 in /home/ninja/anaconda3/lib/python3.11/site-packages (from qiskit-terra>=0.18.0->qiskit-ibmq-provider) (0.9.2)\n",
      "Requirement already satisfied: charset-normalizer<4,>=2 in /home/ninja/anaconda3/lib/python3.11/site-packages (from requests>=2.19->qiskit-ibmq-provider) (2.0.4)\n",
      "Requirement already satisfied: idna<4,>=2.5 in /home/ninja/anaconda3/lib/python3.11/site-packages (from requests>=2.19->qiskit-ibmq-provider) (3.4)\n",
      "Requirement already satisfied: certifi>=2017.4.17 in /home/ninja/anaconda3/lib/python3.11/site-packages (from requests>=2.19->qiskit-ibmq-provider) (2023.7.22)\n",
      "Requirement already satisfied: ntlm-auth>=1.0.2 in /home/ninja/anaconda3/lib/python3.11/site-packages (from requests-ntlm<=1.1.0->qiskit-ibmq-provider) (1.5.0)\n",
      "Requirement already satisfied: cryptography>=1.3 in /home/ninja/anaconda3/lib/python3.11/site-packages (from requests-ntlm<=1.1.0->qiskit-ibmq-provider) (41.0.2)\n",
      "Requirement already satisfied: cffi>=1.12 in /home/ninja/anaconda3/lib/python3.11/site-packages (from cryptography>=1.3->requests-ntlm<=1.1.0->qiskit-ibmq-provider) (1.15.1)\n",
      "Requirement already satisfied: pbr!=2.1.0,>=2.0.0 in /home/ninja/anaconda3/lib/python3.11/site-packages (from stevedore>=3.0.0->qiskit-terra>=0.18.0->qiskit-ibmq-provider) (5.11.1)\n",
      "Requirement already satisfied: mpmath>=0.19 in /home/ninja/anaconda3/lib/python3.11/site-packages (from sympy>=1.3->qiskit-terra>=0.18.0->qiskit-ibmq-provider) (1.3.0)\n",
      "Requirement already satisfied: pycparser in /home/ninja/anaconda3/lib/python3.11/site-packages (from cffi>=1.12->cryptography>=1.3->requests-ntlm<=1.1.0->qiskit-ibmq-provider) (2.21)\n"
     ]
    }
   ],
   "source": [
    "!pip install qiskit-ibmq-provider"
   ]
  },
  {
   "cell_type": "code",
   "execution_count": 26,
   "id": "f405b5e7",
   "metadata": {},
   "outputs": [],
   "source": [
    "from qiskit import IBMQ"
   ]
  },
  {
   "cell_type": "code",
   "execution_count": 30,
   "id": "ad97c592",
   "metadata": {},
   "outputs": [],
   "source": [
    "from qiskit.providers.ibmq import least_busy"
   ]
  },
  {
   "cell_type": "code",
   "execution_count": 27,
   "id": "451c6e47",
   "metadata": {},
   "outputs": [
    {
     "name": "stderr",
     "output_type": "stream",
     "text": [
      "configrc.store_credentials:WARNING:2023-08-15 18:44:09,875: Credentials already present. Set overwrite=True to overwrite.\n"
     ]
    }
   ],
   "source": [
    "IBMQ.save_account('db3aad1319e3b179ad70de7cfe5febd3bb1b693b92604efca5c1977d377f14f57bc2b94b6c9956842192b2dc3b11afb7f5cd82822fd57290bb7cc789799a2fdf')"
   ]
  },
  {
   "cell_type": "code",
   "execution_count": 31,
   "id": "c0bbd95a",
   "metadata": {},
   "outputs": [
    {
     "name": "stderr",
     "output_type": "stream",
     "text": [
      "ibmqfactory.load_account:WARNING:2023-08-15 18:47:09,522: Credentials are already in use. The existing account in the session will be replaced.\n"
     ]
    },
    {
     "name": "stdout",
     "output_type": "stream",
     "text": [
      "least busy backend:  ibmq_jakarta\n"
     ]
    }
   ],
   "source": [
    "IBMQ.load_account()\n",
    "provider = IBMQ.get_provider(hub='ibm-q')\n",
    "backend = least_busy(provider.backends(filters=lambda x: x.configuration().n_qubits >= nqubits \n",
    "                                       and not x.configuration().simulator \n",
    "                                       and x.status().operational==True))\n",
    "print(\"least busy backend: \", backend)"
   ]
  },
  {
   "cell_type": "code",
   "execution_count": 32,
   "id": "b01dc488",
   "metadata": {},
   "outputs": [],
   "source": [
    "qcomp = provider.get_backend('ibmq_jakarta')"
   ]
  },
  {
   "cell_type": "code",
   "execution_count": 33,
   "id": "46c4a275",
   "metadata": {
    "scrolled": false
   },
   "outputs": [],
   "source": [
    "job1 = execute(qc1, backend=qcomp)"
   ]
  },
  {
   "cell_type": "code",
   "execution_count": 34,
   "id": "f8c6f602",
   "metadata": {},
   "outputs": [],
   "source": [
    "from qiskit.tools.monitor import job_monitor"
   ]
  },
  {
   "cell_type": "code",
   "execution_count": 35,
   "id": "419b4491",
   "metadata": {},
   "outputs": [
    {
     "name": "stdout",
     "output_type": "stream",
     "text": [
      "Job Status: job has successfully run\n"
     ]
    }
   ],
   "source": [
    "job_monitor(job1)\n",
    "# Job Status: job is queued (None)"
   ]
  },
  {
   "cell_type": "code",
   "execution_count": 36,
   "id": "6055e3d9",
   "metadata": {},
   "outputs": [],
   "source": [
    "comprobacion_pregunta1 =job1.result()"
   ]
  },
  {
   "cell_type": "code",
   "execution_count": 37,
   "id": "19acb31d",
   "metadata": {},
   "outputs": [
    {
     "data": {
      "image/png": "[encoded data removed]",
      "text/plain": [
       "<Figure size 700x500 with 1 Axes>"
      ]
     },
     "execution_count": 37,
     "metadata": {},
     "output_type": "execute_result"
    }
   ],
   "source": [
    "plot_histogram(comprobacion_pregunta1.get_counts(qc1))"
   ]
  },
  {
   "cell_type": "markdown",
   "id": "a5817eba",
   "metadata": {},
   "source": [
    "Hemos comprobado $$\\text{QFT}^{\\dagger}|\\widetilde{4}\\rangle = |100\\rangle$$"
   ]
  },
  {
   "cell_type": "markdown",
   "id": "f7c4a7ae",
   "metadata": {},
   "source": [
    "#### 10.- Encuentra el estado $|b\\rangle$ tal que $\\text{QFT}^{\\dagger}|b\\rangle = |011\\rangle$."
   ]
  },
  {
   "cell_type": "markdown",
   "id": "b0242e65",
   "metadata": {},
   "source": [
    "Solución:"
   ]
  },
  {
   "cell_type": "markdown",
   "id": "7d321e2c",
   "metadata": {},
   "source": [
    "1.-Para resolver el problema primero aplicaremos la QFT a la expresión,\n",
    "$$\\text{QFT}(\\text{QFT}^{\\dagger}|b\\rangle)= \\text{QFT}(|011\\rangle)$$\n",
    "$$|b\\rangle= \\text{QFT}(|011\\rangle)$$\n",
    "2.-Posteriormente comprobaremos la QFT con la inversa\n",
    "$$\\text{QFT}^{\\dagger}|b\\rangle = |011\\rangle$$\n"
   ]
  },
  {
   "cell_type": "markdown",
   "id": "0816e9a1",
   "metadata": {},
   "source": [
    "--------------------------------------------------------------------------"
   ]
  },
  {
   "cell_type": "markdown",
   "id": "4b881dbf",
   "metadata": {},
   "source": [
    "##### Paso 1: Resolviendo con QFT"
   ]
  },
  {
   "cell_type": "markdown",
   "id": "69a2b96f",
   "metadata": {},
   "source": [
    "De la definición:\n",
    "$$\n",
    "\\begin{aligned}\n",
    "QFT_N\\vert x \\rangle & = \\frac{1}{\\sqrt{N}} \\sum_{y=0}^{N-1}\\omega_N^{xy} \\vert y \\rangle \n",
    "\\\\\n",
    "& = \\frac{1}{\\sqrt{N}}\n",
    "\\left(\\vert0\\rangle + e^{\\frac{2\\pi i}{2}x} \\vert1\\rangle\\right) \n",
    "\\otimes\n",
    "\\left(\\vert0\\rangle + e^{\\frac{2\\pi i}{2^2}x} \\vert1\\rangle\\right) \n",
    "\\otimes  \n",
    "\\ldots\n",
    "\\otimes\n",
    "\\left(\\vert0\\rangle + e^{\\frac{2\\pi i}{2^{n-1}}x} \\vert1\\rangle\\right) \n",
    "\\otimes\n",
    "\\left(\\vert0\\rangle + e^{\\frac{2\\pi i}{2^n}x} \\vert1\\rangle\\right) \n",
    "\\end{aligned}\n",
    "$$"
   ]
  },
  {
   "cell_type": "markdown",
   "id": "aea68807",
   "metadata": {},
   "source": [
    "Sabemos que\n",
    "$$|011\\rangle= |3\\rangle$$\n",
    "$$N= 2^{n}$$\n",
    "\n",
    "Para un sistema de 3 qubits\n",
    "$$N= 2^{3}=8$$\n",
    "\n",
    "Reemplazando en el desarrollo\n",
    "$$\n",
    "\\begin{aligned}\n",
    "QFT_N\\vert x \\rangle & = \\frac{1}{\\sqrt{N}} \\sum_{y=0}^{N-1}\\omega_N^{xy} \\vert y \\rangle \n",
    "\\\\\n",
    "QFT_N\\vert 3 \\rangle & = \\frac{1}{\\sqrt{8}}\n",
    "\\left(\\vert0\\rangle + e^{\\frac{2\\pi i}{2}3}\\vert1\\rangle\\right) \n",
    "\\otimes\n",
    "\\left(\\vert0\\rangle + e^{\\frac{2\\pi i}{2^{2}}3} \\vert1\\rangle\\right) \n",
    "\\otimes\n",
    "\\left(\\vert0\\rangle + e^{\\frac{2\\pi i}{2^{3}}3} \\vert1\\rangle\\right)\n",
    "\\\\\n",
    "QFT_N\\vert 3 \\rangle & = \\frac{1}{\\sqrt{8}}\n",
    "\\left(\\vert0\\rangle + e^{3\\pi i} \\vert1\\rangle\\right) \n",
    "\\otimes\n",
    "\\left(\\vert0\\rangle + e^{\\frac{3\\pi i}{2}} \\vert1\\rangle\\right) \n",
    "\\otimes\n",
    "\\left(\\vert0\\rangle + e^{\\frac{3\\pi i}{4}} \\vert1\\rangle\\right)\n",
    "\\\\\n",
    "QFT_N\\vert 3 \\rangle & = \\frac{1}{\\sqrt{8}}\n",
    "\\left(\\vert0\\rangle - \\vert1\\rangle\\right) \n",
    "\\otimes\n",
    "\\left(\\vert0\\rangle - i \\vert1\\rangle\\right) \n",
    "\\otimes\n",
    "\\left(\\vert0\\rangle + e^{\\frac{3\\pi i}{4}} \\vert1\\rangle\\right)\n",
    "\\\\\n",
    "QFT_N\\vert 3 \\rangle & = \\frac{1}{\\sqrt{8}}\n",
    "\\left(\\vert0\\rangle + e^{3\\pi i} \\vert1\\rangle\\right) \n",
    "\\otimes\n",
    "\\left(\\vert0\\rangle + e^{\\frac{3\\pi i}{2}} \\vert1\\rangle\\right) \n",
    "\\otimes\n",
    "\\left(\\vert0\\rangle + e^{\\frac{3\\pi i}{4}} \\vert1\\rangle\\right)\n",
    "\\\\\n",
    "\\end{aligned}\n",
    "$$"
   ]
  },
  {
   "cell_type": "markdown",
   "id": "d3119e7e",
   "metadata": {},
   "source": [
    "Recordemos:\n",
    "$$\\vert-\\rangle = \\frac{1}{\\sqrt{2}}\\left(\\vert0\\rangle - \\vert1\\rangle\\right)$$\n",
    "$$\\vert l\\rangle = \\frac{1}{\\sqrt{2}}\\left(\\vert0\\rangle - i \\vert1\\rangle\\right)$$\n",
    "$$R_{z}(\\frac{3\\pi}{2})\\vert0\\rangle = \\left(\\vert0\\rangle + e^{\\frac{3\\pi i}{4}} \\vert1\\rangle\\right)$$"
   ]
  },
  {
   "cell_type": "markdown",
   "id": "2332ad5b",
   "metadata": {},
   "source": [
    "Si reemplazamos en la expresión anterior"
   ]
  },
  {
   "cell_type": "markdown",
   "id": "7a55c33d",
   "metadata": {},
   "source": [
    "mplazando en el desarrollo\n",
    "$$\n",
    "\\begin{aligned}\n",
    "QFT_N\\vert 3 \\rangle & = \\frac{1}{\\sqrt{2}}\n",
    "\\vert-\\rangle\n",
    "\\otimes\n",
    "\\vert l\\rangle \n",
    "\\otimes\n",
    "R_{z}(\\frac{3\\pi}{2})\\vert0\\rangle\n",
    "\\\\\n",
    "QFT_N\\vert 3 \\rangle & = \\frac{1}{\\sqrt{2}}\n",
    "R_{z}(\\frac{3\\pi}{2})\n",
    "\\vert-\\rangle\n",
    "\\otimes\n",
    "\\vert l\\rangle \n",
    "\\otimes\n",
    "\\vert0\\rangle\n",
    "\\\\\n",
    "QFT_N\\vert 3 \\rangle & = \\frac{1}{\\sqrt{2}}\n",
    "R_{z}(\\frac{3\\pi}{2})\n",
    "\\vert-l 0\\rangle\n",
    "\\end{aligned}\n",
    "$$"
   ]
  },
  {
   "cell_type": "markdown",
   "id": "8d32fbdb",
   "metadata": {},
   "source": [
    "$$\\vert \\widetilde{3}\\rangle = \\frac{1}{\\sqrt{2}}\n",
    "R_{z}(\\frac{3\\pi}{2})\n",
    "\\vert-l 0\\rangle$$"
   ]
  },
  {
   "cell_type": "markdown",
   "id": "5331aaf2",
   "metadata": {},
   "source": [
    "$$\\vert b \\rangle = \\frac{1}{\\sqrt{2}}\n",
    "R_{z}(\\frac{3\\pi}{2})\n",
    "\\vert-l 0\\rangle$$"
   ]
  },
  {
   "cell_type": "markdown",
   "id": "c7deb957",
   "metadata": {},
   "source": [
    "Expresando de otra forma:"
   ]
  },
  {
   "cell_type": "markdown",
   "id": "03e941bd",
   "metadata": {},
   "source": [
    "Continuando con el desarrollo"
   ]
  },
  {
   "cell_type": "markdown",
   "id": "27b7037f",
   "metadata": {},
   "source": [
    "$$\n",
    "\\begin{aligned}\n",
    "QFT_N\\vert 3 \\rangle & = \\frac{1}{\\sqrt{8}}\n",
    "\\left(\\vert0\\rangle + e^{3\\pi i} \\vert1\\rangle\\right) \n",
    "\\otimes\n",
    "\\left(\\vert0\\rangle + e^{\\frac{3\\pi i}{2}} \\vert1\\rangle\\right) \n",
    "\\otimes\n",
    "\\left(\\vert0\\rangle + e^{\\frac{3\\pi i}{4}} \\vert1\\rangle\\right)\n",
    "\\\\\n",
    "QFT_N\\vert 3 \\rangle & = \\frac{1}{\\sqrt{8}}\n",
    "\\left(\\vert0\\rangle \\otimes \\vert0\\rangle + e^{3\\pi i} \\vert1\\rangle \\otimes \\vert0\\rangle + e^{\\frac{3\\pi i}{2}} \\vert0\\rangle \\otimes \\vert1\\rangle + e^{\\frac{9\\pi i}{2}} \\vert1\\rangle \\otimes \\vert1\\rangle \\right) \n",
    "\\otimes\n",
    "\\left(\\vert0\\rangle + e^{\\frac{3\\pi i}{4}} \\vert1\\rangle\\right)\n",
    "\\\\\n",
    "\\end{aligned}\n",
    "$$"
   ]
  },
  {
   "cell_type": "markdown",
   "id": "69d1c72f",
   "metadata": {},
   "source": [
    "$$\n",
    "\\begin{aligned}\n",
    "QFT_N\\vert 3 \\rangle & = \\frac{1}{\\sqrt{8}}\n",
    "\\left(\\vert0\\rangle \\otimes \\vert0\\rangle \\otimes \\vert0\\rangle + e^{3\\pi i} \\vert1\\rangle \\otimes \\vert0\\rangle \\otimes \\vert0\\rangle + e^{\\frac{3\\pi i}{2}} \\vert0\\rangle \\otimes \\vert1\\rangle \\otimes \\vert0\\rangle + e^{\\frac{9\\pi i}{2}} \\vert1\\rangle \\otimes \\vert1\\rangle \\otimes \\vert0\\rangle + e^{\\frac{3\\pi i}{4}}\\vert0\\rangle \\otimes \\vert0\\rangle \\otimes \\vert1\\rangle + e^{\\frac{15\\pi i}{4}} \\vert1\\rangle \\otimes \\vert0\\rangle \\otimes \\vert1\\rangle + e^{\\frac{9\\pi i}{4}} \\vert0\\rangle \\otimes \\vert1\\rangle \\otimes \\vert1\\rangle + e^{\\frac{21\\pi i}{4}} \\vert1\\rangle \\otimes \\vert1\\rangle \\otimes \\vert1\\rangle\\right) \n",
    "\\\\\n",
    "\\end{aligned}\n",
    "$$"
   ]
  },
  {
   "cell_type": "markdown",
   "id": "bb840802",
   "metadata": {},
   "source": [
    "$$\n",
    "\\begin{aligned}\n",
    "QFT_N\\vert 3 \\rangle & = \\frac{1}{\\sqrt{8}}\n",
    "\\left(\\vert000\\rangle + e^{3\\pi i} \\vert100\\rangle + e^{\\frac{3\\pi i}{2}} \\vert010\\rangle + e^{\\frac{9\\pi i}{2}} \\vert110\\rangle + e^{\\frac{3\\pi i}{4}}\\vert001\\rangle + e^{\\frac{15\\pi i}{4}} \\vert101\\rangle + e^{\\frac{9\\pi i}{4}} \\vert011\\rangle  + e^{\\frac{21\\pi i}{4}} \\vert111\\rangle \\right) \n",
    "\\\\\n",
    "\\end{aligned}\n",
    "$$"
   ]
  },
  {
   "cell_type": "markdown",
   "id": "b8486d25",
   "metadata": {},
   "source": [
    "$$\n",
    "\\begin{aligned}\n",
    "QFT_N\\vert 3 \\rangle & = \\frac{1}{\\sqrt{8}}\n",
    "\\vert000\\rangle + \\frac{e^{3\\pi i}}{\\sqrt{8}} \\vert100\\rangle + \\frac{e^{\\frac{3\\pi i}{2}}}{\\sqrt{8}}\\vert010\\rangle + \\frac{e^{\\frac{9\\pi i}{2}}}{\\sqrt{8}}\\vert110\\rangle + \\frac{e^{\\frac{3\\pi i}{4}}}{\\sqrt{8}}\\vert001\\rangle + \\frac{e^{\\frac{15\\pi i}{4}}}{\\sqrt{8}}\\vert101\\rangle + \\frac{e^{\\frac{9\\pi i}{4}}}{\\sqrt{8}}\\vert011\\rangle + \\frac{e^{\\frac{21\\pi i}{4}}}{\\sqrt{8}}\\vert111\\rangle\n",
    "\\\\\n",
    "\\end{aligned}\n",
    "$$"
   ]
  },
  {
   "cell_type": "markdown",
   "id": "247877fc",
   "metadata": {},
   "source": [
    "$$\n",
    "\\begin{aligned}\n",
    "\\vert \\widetilde{3} \\rangle & = \\frac{1}{\\sqrt{8}}\n",
    "\\vert000\\rangle + \\frac{e^{3\\pi i}}{\\sqrt{8}} \\vert100\\rangle + \\frac{e^{\\frac{3\\pi i}{2}}}{\\sqrt{8}}\\vert010\\rangle + \\frac{e^{\\frac{9\\pi i}{2}}}{\\sqrt{8}}\\vert110\\rangle + \\frac{e^{\\frac{3\\pi i}{4}}}{\\sqrt{8}}\\vert001\\rangle + \\frac{e^{\\frac{15\\pi i}{4}}}{\\sqrt{8}}\\vert101\\rangle + \\frac{e^{\\frac{9\\pi i}{4}}}{\\sqrt{8}}\\vert011\\rangle + \\frac{e^{\\frac{21\\pi i}{4}}}{\\sqrt{8}}\\vert111\\rangle\n",
    "\\\\\n",
    "\\end{aligned}\n",
    "$$"
   ]
  },
  {
   "cell_type": "markdown",
   "id": "0843cef8",
   "metadata": {},
   "source": [
    "Entonces el \n",
    "$$\n",
    "\\begin{aligned}\n",
    "\\vert b \\rangle & = \\frac{1}{\\sqrt{8}}\n",
    "\\vert000\\rangle + \\frac{e^{3\\pi i}}{\\sqrt{8}} \\vert100\\rangle + \\frac{e^{\\frac{3\\pi i}{2}}}{\\sqrt{8}}\\vert010\\rangle + \\frac{e^{\\frac{9\\pi i}{2}}}{\\sqrt{8}}\\vert110\\rangle + \\frac{e^{\\frac{3\\pi i}{4}}}{\\sqrt{8}}\\vert001\\rangle + \\frac{e^{\\frac{15\\pi i}{4}}}{\\sqrt{8}}\\vert101\\rangle + \\frac{e^{\\frac{9\\pi i}{4}}}{\\sqrt{8}}\\vert011\\rangle + \\frac{e^{\\frac{21\\pi i}{4}}}{\\sqrt{8}}\\vert111\\rangle\n",
    "\\\\\n",
    "\\end{aligned}\n",
    "$$"
   ]
  },
  {
   "cell_type": "markdown",
   "id": "a6c8c61d",
   "metadata": {},
   "source": [
    "##### Paso 2: Comprobando la Tranformada de Fourier cuántica con la INVERSA"
   ]
  },
  {
   "cell_type": "markdown",
   "id": "e1fa72c9",
   "metadata": {},
   "source": [
    "Definiendo la transformada de Fourier"
   ]
  },
  {
   "cell_type": "code",
   "execution_count": 38,
   "id": "83525075",
   "metadata": {},
   "outputs": [],
   "source": [
    "import numpy as np\n",
    "from numpy import pi\n",
    "# importing Qiskit\n",
    "from qiskit import QuantumCircuit\n",
    "from qiskit.visualization import plot_histogram, plot_bloch_multivector"
   ]
  },
  {
   "cell_type": "code",
   "execution_count": 39,
   "id": "8943269f",
   "metadata": {},
   "outputs": [],
   "source": [
    "from qiskit import *"
   ]
  },
  {
   "cell_type": "code",
   "execution_count": 140,
   "id": "f1b510c4",
   "metadata": {},
   "outputs": [],
   "source": [
    "#Aplicación de compuerta H y CP para último qubit\n",
    "def qft_rotations(circuit, n):\n",
    "    if n == 0: # Exit function if circuit is empty\n",
    "        return circuit\n",
    "    n -= 1 # Indexes start from 0\n",
    "    circuit.h(n) # Apply the H-gate to the most significant qubit\n",
    "    for qubit in range(n):\n",
    "        # For each less significant qubit, we need to do a\n",
    "        # smaller-angled controlled rotation: \n",
    "        circuit.cp(pi/2**(n-qubit), qubit, n)"
   ]
  },
  {
   "cell_type": "code",
   "execution_count": 141,
   "id": "fe85d130",
   "metadata": {},
   "outputs": [],
   "source": [
    "#Aplicacion de función qft_rotation de forma recursiva para otros qubits\n",
    "def qft_rotations(circuit, n):\n",
    "    \"\"\"Performs qft on the first n qubits in circuit (without swaps)\"\"\"\n",
    "    if n == 0:\n",
    "        return circuit\n",
    "    n -= 1\n",
    "    circuit.h(n)\n",
    "    for qubit in range(n):\n",
    "        circuit.cp(pi/2**(n-qubit), qubit, n)\n",
    "    # At the end of our function, we call the same function again on\n",
    "    # the next qubits (we reduced n by one earlier in the function)\n",
    "    qft_rotations(circuit, n)"
   ]
  },
  {
   "cell_type": "code",
   "execution_count": 142,
   "id": "a218f7e5",
   "metadata": {},
   "outputs": [],
   "source": [
    "#Etapa de intercambio de qubits\n",
    "def swap_registers(circuit, n):\n",
    "    for qubit in range(n//2):\n",
    "        circuit.swap(qubit, n-qubit-1)\n",
    "    return circuit"
   ]
  },
  {
   "cell_type": "markdown",
   "id": "a30b6112",
   "metadata": {},
   "source": [
    "##### Función Transformada de fourier cuantica ( QFT)"
   ]
  },
  {
   "cell_type": "code",
   "execution_count": 143,
   "id": "d1172452",
   "metadata": {},
   "outputs": [],
   "source": [
    "def qft(circuit, n):\n",
    "    \"\"\"QFT on the first n qubits in circuit\"\"\"\n",
    "    qft_rotations(circuit, n)\n",
    "    swap_registers(circuit, n)\n",
    "    return circuit"
   ]
  },
  {
   "cell_type": "markdown",
   "id": "2ae3cc97",
   "metadata": {},
   "source": [
    "Veamos la QFT en un circuito cuántico de 3 qubits"
   ]
  },
  {
   "cell_type": "code",
   "execution_count": 166,
   "id": "adb95a7f",
   "metadata": {},
   "outputs": [
    {
     "data": {
      "image/png": "[encoded data removed]",
      "text/plain": [
       "<Figure size 956.385x284.278 with 1 Axes>"
      ]
     },
     "execution_count": 166,
     "metadata": {},
     "output_type": "execute_result"
    }
   ],
   "source": [
    "qc = QuantumCircuit(3)\n",
    "qft(qc,3)\n",
    "qc.draw(output='mpl')"
   ]
  },
  {
   "cell_type": "markdown",
   "id": "7b62bcfc",
   "metadata": {},
   "source": [
    "##### Función Transformada de fourier cuantica INVERSA"
   ]
  },
  {
   "cell_type": "code",
   "execution_count": 45,
   "id": "e2fa189d",
   "metadata": {},
   "outputs": [],
   "source": [
    "import numpy as np\n",
    "from numpy import pi\n",
    "# importing Qiskit\n",
    "from qiskit import QuantumCircuit\n",
    "from qiskit.visualization import plot_histogram, plot_bloch_multivector\n",
    "from qiskit.providers.aer import Aer"
   ]
  },
  {
   "cell_type": "code",
   "execution_count": 46,
   "id": "bcead182",
   "metadata": {},
   "outputs": [],
   "source": [
    "def inverse_qft(circuit, n):\n",
    "    \"\"\"Does the inverse QFT on the first n qubits in circuit\"\"\"\n",
    "    # First we create a QFT circuit of the correct size:\n",
    "    qft_circ = qft(QuantumCircuit(n), n)\n",
    "    # Then we take the inverse of this circuit\n",
    "    invqft_circ = qft_circ.inverse()\n",
    "    # And add it to the first n qubits in our existing circuit\n",
    "    circuit.append(invqft_circ, circuit.qubits[:n])\n",
    "    return circuit.decompose() # .decompose() allows us to see the individual gates"
   ]
  },
  {
   "cell_type": "markdown",
   "id": "aa46a29f",
   "metadata": {},
   "source": [
    "Ahora pongamos nuestros qubits en el estado $|\\widetilde{4}\\rangle$, sabemos que es $\\vert++-\\rangle$"
   ]
  },
  {
   "cell_type": "code",
   "execution_count": 65,
   "id": "e69dda39",
   "metadata": {},
   "outputs": [
    {
     "data": {
      "text/html": [
       "<pre style=\"word-wrap: normal;white-space: pre;background: #fff0;line-height: 1.1;font-family: &quot;Courier New&quot;,Courier,monospace\">     ┌───┐┌─────────┐\n",
       "q_0: ┤ H ├┤ P(3π/4) ├\n",
       "     ├───┤├─────────┤\n",
       "q_1: ┤ H ├┤ P(3π/2) ├\n",
       "     ├───┤└┬───────┬┘\n",
       "q_2: ┤ H ├─┤ P(3π) ├─\n",
       "     └───┘ └───────┘ </pre>"
      ],
      "text/plain": [
       "     ┌───┐┌─────────┐\n",
       "q_0: ┤ H ├┤ P(3π/4) ├\n",
       "     ├───┤├─────────┤\n",
       "q_1: ┤ H ├┤ P(3π/2) ├\n",
       "     ├───┤└┬───────┬┘\n",
       "q_2: ┤ H ├─┤ P(3π) ├─\n",
       "     └───┘ └───────┘ "
      ]
     },
     "execution_count": 65,
     "metadata": {},
     "output_type": "execute_result"
    }
   ],
   "source": [
    "nqubits = 3\n",
    "number = 3\n",
    "qc2 = QuantumCircuit(nqubits)\n",
    "for qubit in range(nqubits):\n",
    "    qc2.h(qubit)\n",
    "qc2.p(number*pi/4,0)\n",
    "qc2.p(number*pi/2,1)\n",
    "qc2.p(number*pi,2)\n",
    "\n",
    "qc2.draw()"
   ]
  },
  {
   "cell_type": "markdown",
   "id": "767e0712",
   "metadata": {},
   "source": [
    "Y podemos ver que esto da como resultado el estado de Fourier $|\\widetilde{3}\\rangle$:"
   ]
  },
  {
   "cell_type": "code",
   "execution_count": 66,
   "id": "c5f648c0",
   "metadata": {},
   "outputs": [
    {
     "data": {
      "image/png": "[encoded data removed]",
      "text/plain": [
       "<Figure size 1440x480 with 3 Axes>"
      ]
     },
     "execution_count": 66,
     "metadata": {},
     "output_type": "execute_result"
    }
   ],
   "source": [
    "qc2_init = qc2.copy()\n",
    "qc2_init.save_statevector()\n",
    "sim = Aer.get_backend(\"aer_simulator\")\n",
    "statevector = sim.run(qc2_init).result().get_statevector()\n",
    "plot_bloch_multivector(statevector)"
   ]
  },
  {
   "cell_type": "markdown",
   "id": "2098ef6a",
   "metadata": {},
   "source": [
    "Finalmente, aplicemos nuestro QFT inverso:"
   ]
  },
  {
   "cell_type": "code",
   "execution_count": 67,
   "id": "31c38126",
   "metadata": {},
   "outputs": [
    {
     "data": {
      "text/html": [
       "<pre style=\"word-wrap: normal;white-space: pre;background: #fff0;line-height: 1.1;font-family: &quot;Courier New&quot;,Courier,monospace\">        ┌─────────┐┌─────────────┐   ┌───┐                                   »\n",
       "   q_0: ┤ U2(0,π) ├┤ U(0,0,3π/4) ├─X─┤ H ├─■────────────────────────■────────»\n",
       "        ├─────────┤├─────────────┤ │ └───┘ │P(-π/2) ┌───┐           │        »\n",
       "   q_1: ┤ U2(0,π) ├┤ U(0,0,3π/2) ├─┼───────■────────┤ H ├─■─────────┼────────»\n",
       "        ├─────────┤└┬───────────┬┘ │                └───┘ │P(-π/2)  │P(-π/4) »\n",
       "   q_2: ┤ U2(0,π) ├─┤ U(0,0,3π) ├──X──────────────────────■─────────■────────»\n",
       "        └─────────┘ └───────────┘                                            »\n",
       "meas: 3/═════════════════════════════════════════════════════════════════════»\n",
       "                                                                             »\n",
       "«              ░ ┌─┐      \n",
       "«   q_0: ──────░─┤M├──────\n",
       "«              ░ └╥┘┌─┐   \n",
       "«   q_1: ──────░──╫─┤M├───\n",
       "«        ┌───┐ ░  ║ └╥┘┌─┐\n",
       "«   q_2: ┤ H ├─░──╫──╫─┤M├\n",
       "«        └───┘ ░  ║  ║ └╥┘\n",
       "«meas: 3/═════════╩══╩══╩═\n",
       "«                 0  1  2 </pre>"
      ],
      "text/plain": [
       "        ┌─────────┐┌─────────────┐   ┌───┐                                   »\n",
       "   q_0: ┤ U2(0,π) ├┤ U(0,0,3π/4) ├─X─┤ H ├─■────────────────────────■────────»\n",
       "        ├─────────┤├─────────────┤ │ └───┘ │P(-π/2) ┌───┐           │        »\n",
       "   q_1: ┤ U2(0,π) ├┤ U(0,0,3π/2) ├─┼───────■────────┤ H ├─■─────────┼────────»\n",
       "        ├─────────┤└┬───────────┬┘ │                └───┘ │P(-π/2)  │P(-π/4) »\n",
       "   q_2: ┤ U2(0,π) ├─┤ U(0,0,3π) ├──X──────────────────────■─────────■────────»\n",
       "        └─────────┘ └───────────┘                                            »\n",
       "meas: 3/═════════════════════════════════════════════════════════════════════»\n",
       "                                                                             »\n",
       "«              ░ ┌─┐      \n",
       "«   q_0: ──────░─┤M├──────\n",
       "«              ░ └╥┘┌─┐   \n",
       "«   q_1: ──────░──╫─┤M├───\n",
       "«        ┌───┐ ░  ║ └╥┘┌─┐\n",
       "«   q_2: ┤ H ├─░──╫──╫─┤M├\n",
       "«        └───┘ ░  ║  ║ └╥┘\n",
       "«meas: 3/═════════╩══╩══╩═\n",
       "«                 0  1  2 "
      ]
     },
     "execution_count": 67,
     "metadata": {},
     "output_type": "execute_result"
    }
   ],
   "source": [
    "qc2 = inverse_qft(qc2, nqubits)\n",
    "qc2.measure_all()\n",
    "qc2.draw()"
   ]
  },
  {
   "cell_type": "markdown",
   "id": "5ae66796",
   "metadata": {},
   "source": [
    "##### Conexión a una maquina cuántica"
   ]
  },
  {
   "cell_type": "code",
   "execution_count": 56,
   "id": "a68e618a",
   "metadata": {},
   "outputs": [
    {
     "name": "stdout",
     "output_type": "stream",
     "text": [
      "Requirement already satisfied: qiskit-ibmq-provider in /home/ninja/anaconda3/lib/python3.11/site-packages (0.20.2)\n",
      "Requirement already satisfied: qiskit-terra>=0.18.0 in /home/ninja/anaconda3/lib/python3.11/site-packages (from qiskit-ibmq-provider) (0.25.0)\n",
      "Requirement already satisfied: requests>=2.19 in /home/ninja/anaconda3/lib/python3.11/site-packages (from qiskit-ibmq-provider) (2.31.0)\n",
      "Requirement already satisfied: requests-ntlm<=1.1.0 in /home/ninja/anaconda3/lib/python3.11/site-packages (from qiskit-ibmq-provider) (1.1.0)\n",
      "Requirement already satisfied: numpy<1.24 in /home/ninja/anaconda3/lib/python3.11/site-packages (from qiskit-ibmq-provider) (1.23.5)\n",
      "Requirement already satisfied: urllib3>=1.21.1 in /home/ninja/anaconda3/lib/python3.11/site-packages (from qiskit-ibmq-provider) (1.26.16)\n",
      "Requirement already satisfied: python-dateutil>=2.8.0 in /home/ninja/anaconda3/lib/python3.11/site-packages (from qiskit-ibmq-provider) (2.8.2)\n",
      "Requirement already satisfied: websocket-client>=1.5.1 in /home/ninja/anaconda3/lib/python3.11/site-packages (from qiskit-ibmq-provider) (1.6.1)\n",
      "Requirement already satisfied: websockets>=10.0 in /home/ninja/anaconda3/lib/python3.11/site-packages (from qiskit-ibmq-provider) (11.0.3)\n",
      "Requirement already satisfied: six>=1.5 in /home/ninja/anaconda3/lib/python3.11/site-packages (from python-dateutil>=2.8.0->qiskit-ibmq-provider) (1.16.0)\n",
      "Requirement already satisfied: rustworkx>=0.13.0 in /home/ninja/anaconda3/lib/python3.11/site-packages (from qiskit-terra>=0.18.0->qiskit-ibmq-provider) (0.13.1)\n",
      "Requirement already satisfied: ply>=3.10 in /home/ninja/anaconda3/lib/python3.11/site-packages (from qiskit-terra>=0.18.0->qiskit-ibmq-provider) (3.11)\n",
      "Requirement already satisfied: psutil>=5 in /home/ninja/anaconda3/lib/python3.11/site-packages (from qiskit-terra>=0.18.0->qiskit-ibmq-provider) (5.9.0)\n",
      "Requirement already satisfied: scipy>=1.5 in /home/ninja/anaconda3/lib/python3.11/site-packages (from qiskit-terra>=0.18.0->qiskit-ibmq-provider) (1.10.1)\n",
      "Requirement already satisfied: sympy>=1.3 in /home/ninja/anaconda3/lib/python3.11/site-packages (from qiskit-terra>=0.18.0->qiskit-ibmq-provider) (1.11.1)\n",
      "Requirement already satisfied: dill>=0.3 in /home/ninja/anaconda3/lib/python3.11/site-packages (from qiskit-terra>=0.18.0->qiskit-ibmq-provider) (0.3.6)\n",
      "Requirement already satisfied: stevedore>=3.0.0 in /home/ninja/anaconda3/lib/python3.11/site-packages (from qiskit-terra>=0.18.0->qiskit-ibmq-provider) (5.1.0)\n",
      "Requirement already satisfied: symengine<0.10,>=0.9 in /home/ninja/anaconda3/lib/python3.11/site-packages (from qiskit-terra>=0.18.0->qiskit-ibmq-provider) (0.9.2)\n",
      "Requirement already satisfied: charset-normalizer<4,>=2 in /home/ninja/anaconda3/lib/python3.11/site-packages (from requests>=2.19->qiskit-ibmq-provider) (2.0.4)\n",
      "Requirement already satisfied: idna<4,>=2.5 in /home/ninja/anaconda3/lib/python3.11/site-packages (from requests>=2.19->qiskit-ibmq-provider) (3.4)\n",
      "Requirement already satisfied: certifi>=2017.4.17 in /home/ninja/anaconda3/lib/python3.11/site-packages (from requests>=2.19->qiskit-ibmq-provider) (2023.7.22)\n",
      "Requirement already satisfied: ntlm-auth>=1.0.2 in /home/ninja/anaconda3/lib/python3.11/site-packages (from requests-ntlm<=1.1.0->qiskit-ibmq-provider) (1.5.0)\n",
      "Requirement already satisfied: cryptography>=1.3 in /home/ninja/anaconda3/lib/python3.11/site-packages (from requests-ntlm<=1.1.0->qiskit-ibmq-provider) (41.0.2)\n",
      "Requirement already satisfied: cffi>=1.12 in /home/ninja/anaconda3/lib/python3.11/site-packages (from cryptography>=1.3->requests-ntlm<=1.1.0->qiskit-ibmq-provider) (1.15.1)\n",
      "Requirement already satisfied: pbr!=2.1.0,>=2.0.0 in /home/ninja/anaconda3/lib/python3.11/site-packages (from stevedore>=3.0.0->qiskit-terra>=0.18.0->qiskit-ibmq-provider) (5.11.1)\n",
      "Requirement already satisfied: mpmath>=0.19 in /home/ninja/anaconda3/lib/python3.11/site-packages (from sympy>=1.3->qiskit-terra>=0.18.0->qiskit-ibmq-provider) (1.3.0)\n",
      "Requirement already satisfied: pycparser in /home/ninja/anaconda3/lib/python3.11/site-packages (from cffi>=1.12->cryptography>=1.3->requests-ntlm<=1.1.0->qiskit-ibmq-provider) (2.21)\n"
     ]
    }
   ],
   "source": [
    "!pip install qiskit-ibmq-provider"
   ]
  },
  {
   "cell_type": "code",
   "execution_count": 57,
   "id": "82739b3f",
   "metadata": {},
   "outputs": [],
   "source": [
    "from qiskit import IBMQ"
   ]
  },
  {
   "cell_type": "code",
   "execution_count": 58,
   "id": "aefd6195",
   "metadata": {},
   "outputs": [],
   "source": [
    "from qiskit.providers.ibmq import least_busy"
   ]
  },
  {
   "cell_type": "code",
   "execution_count": 59,
   "id": "e1816074",
   "metadata": {},
   "outputs": [
    {
     "name": "stderr",
     "output_type": "stream",
     "text": [
      "configrc.store_credentials:WARNING:2023-08-15 19:19:16,893: Credentials already present. Set overwrite=True to overwrite.\n"
     ]
    }
   ],
   "source": [
    "IBMQ.save_account('db3aad1319e3b179ad70de7cfe5febd3bb1b693b92604efca5c1977d377f14f57bc2b94b6c9956842192b2dc3b11afb7f5cd82822fd57290bb7cc789799a2fdf')"
   ]
  },
  {
   "cell_type": "code",
   "execution_count": 60,
   "id": "823c6b1a",
   "metadata": {},
   "outputs": [
    {
     "name": "stderr",
     "output_type": "stream",
     "text": [
      "ibmqfactory.load_account:WARNING:2023-08-15 19:19:21,324: Credentials are already in use. The existing account in the session will be replaced.\n"
     ]
    },
    {
     "name": "stdout",
     "output_type": "stream",
     "text": [
      "least busy backend:  ibmq_jakarta\n"
     ]
    }
   ],
   "source": [
    "IBMQ.load_account()\n",
    "provider = IBMQ.get_provider(hub='ibm-q')\n",
    "backend = least_busy(provider.backends(filters=lambda x: x.configuration().n_qubits >= nqubits \n",
    "                                       and not x.configuration().simulator \n",
    "                                       and x.status().operational==True))\n",
    "print(\"least busy backend: \", backend)"
   ]
  },
  {
   "cell_type": "code",
   "execution_count": 61,
   "id": "490ace3b",
   "metadata": {},
   "outputs": [],
   "source": [
    "qcomp = provider.get_backend('ibmq_jakarta')"
   ]
  },
  {
   "cell_type": "code",
   "execution_count": 68,
   "id": "0b2dcef5",
   "metadata": {
    "scrolled": false
   },
   "outputs": [],
   "source": [
    "job2 = execute(qc2, backend=qcomp)"
   ]
  },
  {
   "cell_type": "code",
   "execution_count": 69,
   "id": "d239d282",
   "metadata": {},
   "outputs": [],
   "source": [
    "from qiskit.tools.monitor import job_monitor"
   ]
  },
  {
   "cell_type": "code",
   "execution_count": 70,
   "id": "fb25c509",
   "metadata": {},
   "outputs": [
    {
     "name": "stdout",
     "output_type": "stream",
     "text": [
      "Job Status: job has successfully run\n"
     ]
    }
   ],
   "source": [
    "job_monitor(job2)\n",
    "# Job Status: job is queued (None)"
   ]
  },
  {
   "cell_type": "code",
   "execution_count": 71,
   "id": "b942270c",
   "metadata": {},
   "outputs": [],
   "source": [
    "comprobacion_pregunta2 =job2.result()"
   ]
  },
  {
   "cell_type": "code",
   "execution_count": 72,
   "id": "c76f055c",
   "metadata": {},
   "outputs": [
    {
     "data": {
      "image/png": "[encoded data removed]",
      "text/plain": [
       "<Figure size 700x500 with 1 Axes>"
      ]
     },
     "execution_count": 72,
     "metadata": {},
     "output_type": "execute_result"
    }
   ],
   "source": [
    "plot_histogram(comprobacion_pregunta2.get_counts(qc2))"
   ]
  },
  {
   "cell_type": "markdown",
   "id": "f3cfdb28",
   "metadata": {},
   "source": [
    "Hemos comprobado $$\\text{QFT}^{\\dagger}|\\widetilde{3}\\rangle = |011\\rangle$$"
   ]
  },
  {
   "cell_type": "markdown",
   "id": "05ba4e37-34a3-4fc7-8ccd-46d2ced4a0d1",
   "metadata": {},
   "source": [
    "#### Extra 3. Intente escribir la función QFT sin recursividad. Utilice el simulador unitario de Qiskit para verificar sus resultados."
   ]
  },
  {
   "cell_type": "code",
   "execution_count": 216,
   "id": "dfced43c",
   "metadata": {},
   "outputs": [],
   "source": [
    "from qiskit import QuantumCircuit, transpile\n",
    "from qiskit.providers.aer import AerSimulator\n",
    "import numpy as np\n",
    "from math import pi\n",
    "\n",
    "#Utilizamos iteraciones no recursividad\n",
    "\n",
    "def qft_rotations1(circuit, n):\n",
    "    for i in reversed(range(n)):\n",
    "        circuit.h(i)\n",
    "        for j in reversed(range(i)):\n",
    "            circuit.cp(2*pi / 2**(i-j+1), 0.5*i-j, i)"
   ]
  },
  {
   "cell_type": "code",
   "execution_count": 217,
   "id": "abb9a2c2",
   "metadata": {},
   "outputs": [],
   "source": [
    "#Etapa de intercambio de qubits\n",
    "def swap_registers1(circuit, n):\n",
    "    for qubit in range(n//2):\n",
    "        circuit.swap(qubit, n-qubit-1)\n",
    "    return circuit"
   ]
  },
  {
   "cell_type": "markdown",
   "id": "1ac959ff",
   "metadata": {},
   "source": [
    "##### Función Transformada de fourier cuantica ( QFT)"
   ]
  },
  {
   "cell_type": "code",
   "execution_count": 218,
   "id": "f827a0de",
   "metadata": {},
   "outputs": [],
   "source": [
    "def NUEVA_QFT(circuit, n):\n",
    "    \"\"\"QFT on the first n qubits in circuit\"\"\"\n",
    "    qft_rotations1(circuit, n)\n",
    "    swap_registers1(circuit, n)\n",
    "    return circuit"
   ]
  },
  {
   "cell_type": "markdown",
   "id": "5b1bc335",
   "metadata": {},
   "source": [
    "#### Prueba"
   ]
  },
  {
   "cell_type": "markdown",
   "id": "5c8585e5",
   "metadata": {},
   "source": [
    "Comparemos qft inicial y NUEVA_QFT"
   ]
  },
  {
   "cell_type": "code",
   "execution_count": 165,
   "id": "7916fcf5",
   "metadata": {},
   "outputs": [
    {
     "data": {
      "image/png": "[encoded data removed]",
      "text/plain": [
       "<Figure size 956.385x284.278 with 1 Axes>"
      ]
     },
     "execution_count": 165,
     "metadata": {},
     "output_type": "execute_result"
    }
   ],
   "source": [
    "qcx1 = QuantumCircuit(3)\n",
    "qft(qcx1,3)\n",
    "qcx1.draw(output='mpl')"
   ]
  },
  {
   "cell_type": "code",
   "execution_count": null,
   "id": "761e7e73",
   "metadata": {},
   "outputs": [],
   "source": [
    "qcx2 = QuantumCircuit(3)\n",
    "NUEVA_QFT(qcx2,3)\n",
    "qcx2.draw(output='mpl')"
   ]
  },
  {
   "cell_type": "markdown",
   "id": "a8d49531",
   "metadata": {},
   "source": [
    "### Prueba"
   ]
  },
  {
   "cell_type": "code",
   "execution_count": 126,
   "id": "4a4cd343",
   "metadata": {},
   "outputs": [],
   "source": [
    "# Creamos un circuito cuanticos de 3 qubits\n",
    "n_qubits = 2\n",
    "qc = QuantumCircuit(n_qubits)"
   ]
  },
  {
   "cell_type": "code",
   "execution_count": 127,
   "id": "9a58265c",
   "metadata": {},
   "outputs": [
    {
     "data": {
      "text/plain": [
       "<qiskit.circuit.quantumcircuit.QuantumCircuit at 0x7fb34c5a14d0>"
      ]
     },
     "execution_count": 127,
     "metadata": {},
     "output_type": "execute_result"
    }
   ],
   "source": [
    "# Ejecutamos la nueva_QFT\n",
    "NUEVA_QFT(qc, n_qubits)"
   ]
  },
  {
   "cell_type": "markdown",
   "id": "74662b2a",
   "metadata": {},
   "source": [
    "Utilizamos el simulador unitario de Qiskit"
   ]
  },
  {
   "cell_type": "code",
   "execution_count": null,
   "id": "57576b94",
   "metadata": {},
   "outputs": [],
   "source": [
    "simulator = Aer.get_backend('unitary_simulator')\n",
    "job = execute(qc, simulator)\n",
    "result = job.result()\n",
    "\n",
    "# Get the unitary matrix representation of the circuit\n",
    "unitary_matrix = result.get_unitary()\n",
    "\n",
    "print(\"Matriz Unitaria:\")\n",
    "print(unitary_matrix)"
   ]
  },
  {
   "cell_type": "markdown",
   "id": "1a7fdbd1-97e6-419b-95d4-18abd28facfb",
   "metadata": {},
   "source": [
    "## 5. Recursos útiles\n",
    "\n",
    "* Los notebooks y sus referencias.\n",
    "\n",
    "## Donaciones\n",
    "<br>\n",
    "<center>\n",
    "Puedes donar una vez en el siguiente enlace (Ko-Fi):\n",
    "\n",
    "<br>\n",
    "    \n",
    "*Click en la imagen.*\n",
    "\n",
    "<a href=\"https://ko-fi.com/rcrdphysics\">\n",
    "<img src=\"https://habrastorage.org/webt/8r/ml/xf/8rmlxfpdzukegpxa62cxlfvgkqe.png\" width=20% />\n",
    "\n",
    "</center>"
   ]
  }
 ],
 "metadata": {
  "kernelspec": {
   "display_name": "Python 3 (ipykernel)",
   "language": "python",
   "name": "python3"
  },
  "language_info": {
   "codemirror_mode": {
    "name": "ipython",
    "version": 3
   },
   "file_extension": ".py",
   "mimetype": "text/x-python",
   "name": "python",
   "nbconvert_exporter": "python",
   "pygments_lexer": "ipython3",
   "version": "3.11.4"
  },
  "widgets": {
   "application/vnd.jupyter.widget-state+json": {
    "state": {},
    "version_major": 2,
    "version_minor": 0
   }
  }
 },
 "nbformat": 4,
 "nbformat_minor": 5
}
